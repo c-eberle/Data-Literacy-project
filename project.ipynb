{
 "cells": [
  {
   "cell_type": "code",
   "execution_count": 87,
   "id": "64b302b0-b67b-40ca-a7f3-eb5d425f5b45",
   "metadata": {},
   "outputs": [],
   "source": [
    "%matplotlib inline\n",
    "import numpy as np\n",
    "import matplotlib.pyplot as plt\n",
    "import os\n",
    "import tqdm\n",
    "import glob\n",
    "import pandas as pd"
   ]
  },
  {
   "cell_type": "code",
   "execution_count": 88,
   "id": "6c01dac7-8dbc-4f96-b778-0862164fa656",
   "metadata": {},
   "outputs": [
    {
     "name": "stdout",
     "output_type": "stream",
     "text": [
      "C:\\Users\\samue\\Documents\\GitHub\\Data-Literacy-project\n"
     ]
    },
    {
     "data": {
      "text/plain": [
       "Index(['Country Name', 'Country Code', 'Series Name', 'Series Code',\n",
       "       '2019 [YR2019]'],\n",
       "      dtype='object')"
      ]
     },
     "execution_count": 88,
     "metadata": {},
     "output_type": "execute_result"
    }
   ],
   "source": [
    "df = pd.read_csv(\"data/world_bank_data.csv\")\n",
    "print(os.getcwd())\n",
    "df.head()\n",
    "df[\"Series Name\"]\n",
    "df.columns"
   ]
  },
  {
   "cell_type": "code",
   "execution_count": 89,
   "id": "30bd2fb2-45dd-4ad3-8edc-10a277b598ca",
   "metadata": {},
   "outputs": [],
   "source": [
    "df = df.dropna(subset = [\"Series Name\"])\n",
    "df = df.drop(columns=[\"Series Code\"])"
   ]
  },
  {
   "cell_type": "code",
   "execution_count": 90,
   "id": "0e834201-e1dc-428e-ac84-d32634b27c21",
   "metadata": {},
   "outputs": [],
   "source": [
    "df_pivot = df.set_index([\"Country Name\", \"Series Name\"], drop=True).unstack(\"Series Name\")\n",
    "df_pivot = df_pivot.drop(columns=\"Country Code\")\n",
    "df_pivot.columns = df_pivot.columns.droplevel(0)\n",
    "#print(df_pivot.shape)\n",
    "df_pivot[\"Country Name\"] = df_pivot.index\n",
    "#print(df_pivot[\"Country Name\"])\n",
    "df_pivot.reset_index(drop=True, inplace=True)#\n",
    "#print(df_pivot.head())"
   ]
  },
  {
   "cell_type": "code",
   "execution_count": 91,
   "id": "84380174-5c2e-43d7-bcf5-738c2ee213ca",
   "metadata": {},
   "outputs": [],
   "source": [
    "df_dropped = df_pivot.dropna(axis=1, how=\"any\")\n",
    "df_dropped_2 = df_dropped.drop(columns=df_dropped.columns[(df_dropped == \"..\").any()])\n",
    "\n",
    "#for i in range(0,439):\n",
    "#    print(df_dropped_2.columns[i])\n",
    "#df_dropped.loc[:, (df_dropped==\"..\").any()]\n",
    "#df_dropped.drop(columns=\"Country Code\").head()"
   ]
  },
  {
   "cell_type": "markdown",
   "id": "324c6a8b",
   "metadata": {},
   "source": [
    "### World Happiness Report 2019"
   ]
  },
  {
   "cell_type": "code",
   "execution_count": 92,
   "id": "b78ebfbe-0fc9-4b4a-b596-2c1854168780",
   "metadata": {},
   "outputs": [],
   "source": [
    "happiness = pd.read_csv(\"data/world_happiness_report_2019.csv\")\n",
    "happy_country_list = list(happiness[\"Country (region)\"])\n",
    "\n",
    "indicators_country_list = df[\"Country Name\"].drop_duplicates()"
   ]
  },
  {
   "cell_type": "code",
   "execution_count": 93,
   "id": "dd4733ef-e5ca-4e66-9c17-9e52a7f73d62",
   "metadata": {
    "scrolled": true
   },
   "outputs": [],
   "source": [
    "intersection = set(indicators_country_list).intersection(happy_country_list)\n",
    "non_intersection = set(indicators_country_list)^set(happy_country_list)\n",
    "happy_non_intersection = set(happy_country_list).intersection(non_intersection)"
   ]
  },
  {
   "cell_type": "markdown",
   "id": "d2e847a9",
   "metadata": {},
   "source": [
    "Länder die in den World Bank data nicht enthalten sind:\n",
    "- Taiwan :(\n",
    "- Cyprus"
   ]
  },
  {
   "cell_type": "code",
   "execution_count": 94,
   "id": "42c7c015-2828-4ce1-84cf-813f6d8be530",
   "metadata": {},
   "outputs": [],
   "source": [
    "# list of tuples (happiness report name, world bank name)\n",
    "happy_country_list_renamed = [\n",
    "(\"Swaziland\", \"Eswatani\"),\n",
    "(\"Macedonia\", \"North Macedonia\"),\n",
    "(\"Kyrgyzstan\", \"Kyrgyz Republic\"),\n",
    "(\"Yemen\", \"Yemen, Rep\"),\n",
    "(\"Gambia\", \"Gambia, The\"),\n",
    "(\"Ivory Coast\", \"Cote d'Ivoire\"),\n",
    "(\"Venezuela\", \"Venezuale, RB\"),\n",
    "(\"South Korea\", \"Korea, Rep.\"),\n",
    "(\"Laos\", \"Lao PDR\"),\n",
    "(\"Hong Kong\", \"Hong Kong SAR, China\"),\n",
    "(\"Congo (Kinshasa)\", \"Congo, Dem. Rep.\"),\n",
    "(\"Palestinian Territories\", \"West Bank and Gaza\"),\n",
    "(\"Congo (Brazzaville)\", \"Congo, Rep.\"),\n",
    "(\"Iran\", \"Iran, Islamic Rep.\"),\n",
    "(\"Egypt\", \"Egypt, Arab Rep.\"),\n",
    "(\"Russia\", \"Russian Federation\"),\n",
    "(\"Slovakia\", \"Slovak Republic\"),\n",
    "(\"Bosnia and Herzegovina \", \"Bosnia and Herzegovina\"),\n",
    "(\"Syria\", \"Syrian Arab Republic\")]\n",
    "len(happy_country_list_renamed)\n",
    "\n",
    "for happy_name, wb_name in happy_country_list_renamed:\n",
    "    for i in range(0, len(happiness[\"Country (region)\"])):\n",
    "        if happiness.loc[i, \"Country (region)\"] == happy_name:\n",
    "            happiness.loc[i, \"Country (region)\"] = wb_name\n"
   ]
  },
  {
   "cell_type": "code",
   "execution_count": 85,
   "id": "a785eb7d-58f0-480a-b9ec-a11d78c35d7f",
   "metadata": {},
   "outputs": [
    {
     "name": "stdout",
     "output_type": "stream",
     "text": [
      "['Afghanistan', 'Albania', 'Algeria', 'Argentina', 'Armenia', 'Australia', 'Austria', 'Azerbaijan', 'Bahrain', 'Bangladesh', 'Belarus', 'Belgium', 'Benin', 'Bhutan', 'Bolivia', 'Bosnia and Herzegovina ', 'Botswana', 'Brazil', 'Bulgaria', 'Burkina Faso', 'Burundi', 'Cambodia', 'Cameroon', 'Canada', 'Central African Republic', 'Chad', 'Chile', 'China', 'Colombia', 'Comoros', 'Congo (Brazzaville)', 'Congo (Kinshasa)', 'Costa Rica', 'Croatia', 'Czech Republic', 'Denmark', 'Dominican Republic', 'Ecuador', 'Egypt', 'El Salvador', 'Estonia', 'Ethiopia', 'Finland', 'France', 'Gabon', 'Gambia', 'Georgia', 'Germany', 'Ghana', 'Greece', 'Guatemala', 'Guinea', 'Haiti', 'Honduras', 'Hong Kong', 'Hungary', 'Iceland', 'India', 'Indonesia', 'Iran', 'Iraq', 'Ireland', 'Israel', 'Italy', 'Ivory Coast', 'Jamaica', 'Japan', 'Jordan', 'Kazakhstan', 'Kenya', 'Kosovo', 'Kuwait', 'Kyrgyzstan', 'Laos', 'Latvia', 'Lebanon', 'Lesotho', 'Liberia', 'Libya', 'Lithuania', 'Luxembourg', 'Macedonia', 'Madagascar', 'Malawi', 'Malaysia', 'Mali', 'Malta', 'Mauritania', 'Mauritius', 'Mexico', 'Moldova', 'Mongolia', 'Montenegro', 'Morocco', 'Mozambique', 'Myanmar', 'Namibia', 'Nepal', 'Netherlands', 'New Zealand', 'Nicaragua', 'Niger', 'Nigeria', 'Norway', 'Pakistan', 'Palestinian Territories', 'Panama', 'Paraguay', 'Peru', 'Philippines', 'Poland', 'Portugal', 'Qatar', 'Romania', 'Russia', 'Rwanda', 'Saudi Arabia', 'Senegal', 'Serbia', 'Sierra Leone', 'Singapore', 'Slovakia', 'Slovenia', 'Somalia', 'South Africa', 'South Korea', 'South Sudan', 'Spain', 'Sri Lanka', 'Swaziland', 'Sweden', 'Switzerland', 'Syria', 'Tajikistan', 'Tanzania', 'Thailand', 'Togo', 'Trinidad and Tobago', 'Tunisia', 'Turkey', 'Turkmenistan', 'Uganda', 'Ukraine', 'United Arab Emirates', 'United Kingdom', 'United States', 'Uruguay', 'Uzbekistan', 'Venezuela', 'Vietnam', 'Yemen', 'Zambia', 'Zimbabwe']\n"
     ]
    }
   ],
   "source": [
    "happiness = happiness[happiness[\"Country (region)\"].str.contains(\"Taiwan\")==False]\n",
    "happiness = happiness[happiness[\"Country (region)\"].str.contains(\"Cyprus\")==False]\n",
    "print(sorted(happiness[\"Country (region)\"]))"
   ]
  }
 ],
 "metadata": {
  "kernelspec": {
   "display_name": "Python 3",
   "language": "python",
   "name": "python3"
  },
  "language_info": {
   "codemirror_mode": {
    "name": "ipython",
    "version": 3
   },
   "file_extension": ".py",
   "mimetype": "text/x-python",
   "name": "python",
   "nbconvert_exporter": "python",
   "pygments_lexer": "ipython3",
   "version": "3.8.8"
  }
 },
 "nbformat": 4,
 "nbformat_minor": 5
}
