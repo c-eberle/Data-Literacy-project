{
 "cells": [
  {
   "cell_type": "code",
   "execution_count": 1,
   "id": "64b302b0-b67b-40ca-a7f3-eb5d425f5b45",
   "metadata": {},
   "outputs": [],
   "source": [
    "%matplotlib inline\n",
    "import numpy as np\n",
    "import matplotlib.pyplot as plt\n",
    "import os\n",
    "import tqdm\n",
    "import glob\n",
    "import pandas as pd"
   ]
  },
  {
   "cell_type": "code",
   "execution_count": 4,
   "id": "6c01dac7-8dbc-4f96-b778-0862164fa656",
   "metadata": {},
   "outputs": [
    {
     "data": {
      "text/plain": [
       "Index(['Country Name', 'Country Code', 'Series Name', 'Series Code',\n",
       "       '2019 [YR2019]'],\n",
       "      dtype='object')"
      ]
     },
     "execution_count": 4,
     "metadata": {},
     "output_type": "execute_result"
    }
   ],
   "source": [
    "df = pd.read_csv(\"Data/link_to_data/world_bank_data.csv\")\n",
    "df.head()\n",
    "df[\"Series Name\"]\n",
    "df.columns"
   ]
  },
  {
   "cell_type": "code",
   "execution_count": 5,
   "id": "30bd2fb2-45dd-4ad3-8edc-10a277b598ca",
   "metadata": {},
   "outputs": [
    {
     "data": {
      "text/html": [
       "<div>\n",
       "<style scoped>\n",
       "    .dataframe tbody tr th:only-of-type {\n",
       "        vertical-align: middle;\n",
       "    }\n",
       "\n",
       "    .dataframe tbody tr th {\n",
       "        vertical-align: top;\n",
       "    }\n",
       "\n",
       "    .dataframe thead th {\n",
       "        text-align: right;\n",
       "    }\n",
       "</style>\n",
       "<table border=\"1\" class=\"dataframe\">\n",
       "  <thead>\n",
       "    <tr style=\"text-align: right;\">\n",
       "      <th></th>\n",
       "      <th>Country Name</th>\n",
       "      <th>Country Code</th>\n",
       "      <th>Series Name</th>\n",
       "      <th>2019 [YR2019]</th>\n",
       "    </tr>\n",
       "  </thead>\n",
       "  <tbody>\n",
       "    <tr>\n",
       "      <th>0</th>\n",
       "      <td>Australia</td>\n",
       "      <td>AUS</td>\n",
       "      <td>Access to electricity (% of population)</td>\n",
       "      <td>100</td>\n",
       "    </tr>\n",
       "    <tr>\n",
       "      <th>1</th>\n",
       "      <td>Australia</td>\n",
       "      <td>AUS</td>\n",
       "      <td>Adjusted savings: carbon dioxide damage (% of ...</td>\n",
       "      <td>1.11294140526482</td>\n",
       "    </tr>\n",
       "    <tr>\n",
       "      <th>2</th>\n",
       "      <td>Australia</td>\n",
       "      <td>AUS</td>\n",
       "      <td>Adolescent fertility rate (births per 1,000 wo...</td>\n",
       "      <td>10.9366</td>\n",
       "    </tr>\n",
       "    <tr>\n",
       "      <th>3</th>\n",
       "      <td>Australia</td>\n",
       "      <td>AUS</td>\n",
       "      <td>Adolescents out of school (% of lower secondar...</td>\n",
       "      <td>1.97146999835968</td>\n",
       "    </tr>\n",
       "    <tr>\n",
       "      <th>4</th>\n",
       "      <td>Australia</td>\n",
       "      <td>AUS</td>\n",
       "      <td>Adolescents out of school, female (% of female...</td>\n",
       "      <td>2.19272994995117</td>\n",
       "    </tr>\n",
       "  </tbody>\n",
       "</table>\n",
       "</div>"
      ],
      "text/plain": [
       "  Country Name Country Code  \\\n",
       "0    Australia          AUS   \n",
       "1    Australia          AUS   \n",
       "2    Australia          AUS   \n",
       "3    Australia          AUS   \n",
       "4    Australia          AUS   \n",
       "\n",
       "                                         Series Name     2019 [YR2019]  \n",
       "0            Access to electricity (% of population)               100  \n",
       "1  Adjusted savings: carbon dioxide damage (% of ...  1.11294140526482  \n",
       "2  Adolescent fertility rate (births per 1,000 wo...           10.9366  \n",
       "3  Adolescents out of school (% of lower secondar...  1.97146999835968  \n",
       "4  Adolescents out of school, female (% of female...  2.19272994995117  "
      ]
     },
     "execution_count": 5,
     "metadata": {},
     "output_type": "execute_result"
    }
   ],
   "source": [
    "df = df.dropna(subset = [\"Series Name\"])\n",
    "df = df.drop(columns=[\"Series Code\"])"
   ]
  },
  {
   "cell_type": "code",
   "execution_count": 6,
   "id": "0e834201-e1dc-428e-ac84-d32634b27c21",
   "metadata": {},
   "outputs": [],
   "source": [
    "df_pivot = df.set_index([\"Country Name\", \"Series Name\"], drop=True).unstack(\"Series Name\")\n",
    "df_pivot = df_pivot.drop(columns=\"Country Code\")\n",
    "df_pivot.columns = df_pivot.columns.droplevel(0)\n",
    "#print(df_pivot.shape)\n",
    "df_pivot[\"Country Name\"] = df_pivot.index\n",
    "#print(df_pivot[\"Country Name\"])\n",
    "df_pivot.reset_index(drop=True, inplace=True)#\n",
    "#print(df_pivot.head())"
   ]
  },
  {
   "cell_type": "code",
   "execution_count": 214,
   "id": "84380174-5c2e-43d7-bcf5-738c2ee213ca",
   "metadata": {},
   "outputs": [],
   "source": [
    "df_dropped = df_pivot.dropna(axis=1, how=\"any\")\n",
    "df_dropped_2 = df_dropped.drop(columns=df_dropped.columns[(df_dropped == \"..\").any()])\n",
    "\n",
    "#for i in range(0,439):\n",
    "#    print(df_dropped_2.columns[i])\n",
    "#df_dropped.loc[:, (df_dropped==\"..\").any()]\n",
    "#df_dropped.drop(columns=\"Country Code\").head()"
   ]
  },
  {
   "cell_type": "markdown",
   "id": "6d6e7295",
   "metadata": {},
   "source": [
    "### World Happiness Report 2019"
   ]
  },
  {
   "cell_type": "code",
   "execution_count": 9,
   "id": "b78ebfbe-0fc9-4b4a-b596-2c1854168780",
   "metadata": {},
   "outputs": [],
   "source": [
    "happiness = pd.read_csv(\"Data/link_to_data/world-happiness-report-2019.csv\")\n",
    "happy_country_list = list(happiness[\"Country (region)\"])\n",
    "\n",
    "indicators_country_list = df[\"Country Name\"].drop_duplicates()"
   ]
  },
  {
   "cell_type": "code",
   "execution_count": 12,
   "id": "dd4733ef-e5ca-4e66-9c17-9e52a7f73d62",
   "metadata": {
    "scrolled": true
   },
   "outputs": [],
   "source": [
    "intersection = set(indicators_country_list).intersection(happy_country_list)\n",
    "non_intersection = set(indicators_country_list)^set(happy_country_list)\n",
    "happy_non_intersection = set(happy_country_list).intersection(non_intersection)"
   ]
  },
  {
   "cell_type": "markdown",
   "id": "316400c0",
   "metadata": {},
   "source": [
    "Länder die in den World Bank data nicht enthalten sind:\n",
    "- Taiwan :(\n",
    "- Cyprus"
   ]
  },
  {
   "cell_type": "code",
   "execution_count": 13,
   "id": "42c7c015-2828-4ce1-84cf-813f6d8be530",
   "metadata": {},
   "outputs": [],
   "source": [
    "# list of tuples (happiness report name, world bank name)\n",
    "happy_country_list_renamed = [\n",
    "(\"Swaziland\", \"Eswatani\"),\n",
    "(\"Macedonia\", \"North Macedonia\"),\n",
    "(\"Kyrgyzstan\", \"Kyrgyz Republic\"),\n",
    "(\"Yemen\", \"Yemen, Rep\"),\n",
    "(\"Gambia\", \"Gambia, The\"),\n",
    "(\"Ivory Coast\", \"Cote d'Ivoire\"),\n",
    "(\"Venezuela\", \"Venezuale, RB\"),\n",
    "(\"South Korea\", \"Korea, Rep.\"),\n",
    "(\"Laos\", \"Lao PDR\"),\n",
    "(\"Hong Kong\", \"Hong Kong SAR, China\"),\n",
    "(\"Congo (Kinshasa)\", \"Congo, Dem. Rep.\"),\n",
    "(\"Palestinian Territories\", \"West Bank and Gaza\"),\n",
    "(\"Congo (Brazzaville)\", \"Congo, Rep.\"),\n",
    "(\"Iran\", \"Iran, Islamic Rep.\"),\n",
    "(\"Egypt\", \"Egypt, Arab Rep.\"),\n",
    "(\"Russia\", \"Russian Federation\"),\n",
    "(\"Slovakia\", \"Slovak Republic\"),\n",
    "(\"Bosnia and Herzegovina \", \"Bosnia and Herzegovina\"),\n",
    "(\"Syria\", \"Syrian Arab Republic\")]\n",
    "len(happy_country_list_renamed)\n",
    "\n",
    "for happy_name, wb_name in happy_country_list_renamed:\n",
    "    for i in range(0, len(happiness[\"Country (region)\"])):\n",
    "        if happiness.loc[i, \"Country (region)\"] == happy_name:\n",
    "            happiness.loc[i, \"Country (region)\"] = wb_name\n",
    "        if happiness.loc[i, \"Country (region)\"] == \"Taiwan\":\n",
    "            happiness.drop([i])\n",
    "        if happiness.loc[i, \"Country (region)\"] == \"Cyprus\":\n",
    "            happiness.drop([i])\n"
   ]
  },
  {
   "cell_type": "code",
   "execution_count": 15,
   "id": "a785eb7d-58f0-480a-b9ec-a11d78c35d7f",
   "metadata": {},
   "outputs": [
    {
     "data": {
      "text/html": [
       "<div>\n",
       "<style scoped>\n",
       "    .dataframe tbody tr th:only-of-type {\n",
       "        vertical-align: middle;\n",
       "    }\n",
       "\n",
       "    .dataframe tbody tr th {\n",
       "        vertical-align: top;\n",
       "    }\n",
       "\n",
       "    .dataframe thead th {\n",
       "        text-align: right;\n",
       "    }\n",
       "</style>\n",
       "<table border=\"1\" class=\"dataframe\">\n",
       "  <thead>\n",
       "    <tr style=\"text-align: right;\">\n",
       "      <th></th>\n",
       "      <th>Country (region)</th>\n",
       "      <th>Ladder</th>\n",
       "      <th>SD of Ladder</th>\n",
       "      <th>Positive affect</th>\n",
       "      <th>Negative affect</th>\n",
       "      <th>Social support</th>\n",
       "      <th>Freedom</th>\n",
       "      <th>Corruption</th>\n",
       "      <th>Generosity</th>\n",
       "      <th>Log of GDP\\nper capita</th>\n",
       "      <th>Healthy life\\nexpectancy</th>\n",
       "    </tr>\n",
       "  </thead>\n",
       "  <tbody>\n",
       "    <tr>\n",
       "      <th>0</th>\n",
       "      <td>Finland</td>\n",
       "      <td>1</td>\n",
       "      <td>4</td>\n",
       "      <td>41.0</td>\n",
       "      <td>10.0</td>\n",
       "      <td>2.0</td>\n",
       "      <td>5.0</td>\n",
       "      <td>4.0</td>\n",
       "      <td>47.0</td>\n",
       "      <td>22.0</td>\n",
       "      <td>27.0</td>\n",
       "    </tr>\n",
       "    <tr>\n",
       "      <th>1</th>\n",
       "      <td>Denmark</td>\n",
       "      <td>2</td>\n",
       "      <td>13</td>\n",
       "      <td>24.0</td>\n",
       "      <td>26.0</td>\n",
       "      <td>4.0</td>\n",
       "      <td>6.0</td>\n",
       "      <td>3.0</td>\n",
       "      <td>22.0</td>\n",
       "      <td>14.0</td>\n",
       "      <td>23.0</td>\n",
       "    </tr>\n",
       "    <tr>\n",
       "      <th>2</th>\n",
       "      <td>Norway</td>\n",
       "      <td>3</td>\n",
       "      <td>8</td>\n",
       "      <td>16.0</td>\n",
       "      <td>29.0</td>\n",
       "      <td>3.0</td>\n",
       "      <td>3.0</td>\n",
       "      <td>8.0</td>\n",
       "      <td>11.0</td>\n",
       "      <td>7.0</td>\n",
       "      <td>12.0</td>\n",
       "    </tr>\n",
       "    <tr>\n",
       "      <th>3</th>\n",
       "      <td>Iceland</td>\n",
       "      <td>4</td>\n",
       "      <td>9</td>\n",
       "      <td>3.0</td>\n",
       "      <td>3.0</td>\n",
       "      <td>1.0</td>\n",
       "      <td>7.0</td>\n",
       "      <td>45.0</td>\n",
       "      <td>3.0</td>\n",
       "      <td>15.0</td>\n",
       "      <td>13.0</td>\n",
       "    </tr>\n",
       "    <tr>\n",
       "      <th>4</th>\n",
       "      <td>Netherlands</td>\n",
       "      <td>5</td>\n",
       "      <td>1</td>\n",
       "      <td>12.0</td>\n",
       "      <td>25.0</td>\n",
       "      <td>15.0</td>\n",
       "      <td>19.0</td>\n",
       "      <td>12.0</td>\n",
       "      <td>7.0</td>\n",
       "      <td>12.0</td>\n",
       "      <td>18.0</td>\n",
       "    </tr>\n",
       "  </tbody>\n",
       "</table>\n",
       "</div>"
      ],
      "text/plain": [
       "  Country (region)  Ladder  SD of Ladder  Positive affect  Negative affect  \\\n",
       "0          Finland       1             4             41.0             10.0   \n",
       "1          Denmark       2            13             24.0             26.0   \n",
       "2           Norway       3             8             16.0             29.0   \n",
       "3          Iceland       4             9              3.0              3.0   \n",
       "4      Netherlands       5             1             12.0             25.0   \n",
       "\n",
       "   Social support  Freedom  Corruption  Generosity  Log of GDP\\nper capita  \\\n",
       "0             2.0      5.0         4.0        47.0                    22.0   \n",
       "1             4.0      6.0         3.0        22.0                    14.0   \n",
       "2             3.0      3.0         8.0        11.0                     7.0   \n",
       "3             1.0      7.0        45.0         3.0                    15.0   \n",
       "4            15.0     19.0        12.0         7.0                    12.0   \n",
       "\n",
       "   Healthy life\\nexpectancy  \n",
       "0                      27.0  \n",
       "1                      23.0  \n",
       "2                      12.0  \n",
       "3                      13.0  \n",
       "4                      18.0  "
      ]
     },
     "execution_count": 15,
     "metadata": {},
     "output_type": "execute_result"
    }
   ],
   "source": [
    "# drop Taiwan and Cyprus\n",
    "#happiness = happiness[happiness[\"Country (region)\"] != \"Taiwan\"]\n",
    "happiness.head()"
   ]
  }
 ],
 "metadata": {
  "kernelspec": {
   "display_name": "Python 3",
   "language": "python",
   "name": "python3"
  },
  "language_info": {
   "codemirror_mode": {
    "name": "ipython",
    "version": 3
   },
   "file_extension": ".py",
   "mimetype": "text/x-python",
   "name": "python",
   "nbconvert_exporter": "python",
   "pygments_lexer": "ipython3",
   "version": "3.8.8"
  }
 },
 "nbformat": 4,
 "nbformat_minor": 5
}
