{
 "cells": [
  {
   "cell_type": "markdown",
   "id": "a947f3ed",
   "metadata": {},
   "source": [
    "# Notebook 1: Data Clean Up and Pre-Selection"
   ]
  },
  {
   "cell_type": "code",
   "execution_count": 52,
   "id": "64b302b0-b67b-40ca-a7f3-eb5d425f5b45",
   "metadata": {},
   "outputs": [],
   "source": [
    "%matplotlib inline\n",
    "import numpy as np\n",
    "import matplotlib.pyplot as plt\n",
    "import os\n",
    "import tqdm\n",
    "import glob\n",
    "import pandas as pd"
   ]
  },
  {
   "cell_type": "markdown",
   "id": "0a99ff5c",
   "metadata": {},
   "source": [
    "# World Bank Development Data"
   ]
  },
  {
   "cell_type": "markdown",
   "id": "a0e294d7",
   "metadata": {},
   "source": [
    "Reading in and scouting the data (available from https://databank.worldbank.org/source/world-development-indicators)"
   ]
  },
  {
   "cell_type": "code",
   "execution_count": 53,
   "id": "6c01dac7-8dbc-4f96-b778-0862164fa656",
   "metadata": {},
   "outputs": [
    {
     "data": {
      "text/html": [
       "<div>\n",
       "<style scoped>\n",
       "    .dataframe tbody tr th:only-of-type {\n",
       "        vertical-align: middle;\n",
       "    }\n",
       "\n",
       "    .dataframe tbody tr th {\n",
       "        vertical-align: top;\n",
       "    }\n",
       "\n",
       "    .dataframe thead th {\n",
       "        text-align: right;\n",
       "    }\n",
       "</style>\n",
       "<table border=\"1\" class=\"dataframe\">\n",
       "  <thead>\n",
       "    <tr style=\"text-align: right;\">\n",
       "      <th></th>\n",
       "      <th>Country Name</th>\n",
       "      <th>Country Code</th>\n",
       "      <th>Series Name</th>\n",
       "      <th>Series Code</th>\n",
       "      <th>2019 [YR2019]</th>\n",
       "    </tr>\n",
       "  </thead>\n",
       "  <tbody>\n",
       "    <tr>\n",
       "      <th>0</th>\n",
       "      <td>Australia</td>\n",
       "      <td>AUS</td>\n",
       "      <td>Access to electricity (% of population)</td>\n",
       "      <td>EG.ELC.ACCS.ZS</td>\n",
       "      <td>100</td>\n",
       "    </tr>\n",
       "    <tr>\n",
       "      <th>1</th>\n",
       "      <td>Australia</td>\n",
       "      <td>AUS</td>\n",
       "      <td>Adjusted savings: carbon dioxide damage (% of ...</td>\n",
       "      <td>NY.ADJ.DCO2.GN.ZS</td>\n",
       "      <td>1.11294140526482</td>\n",
       "    </tr>\n",
       "    <tr>\n",
       "      <th>2</th>\n",
       "      <td>Australia</td>\n",
       "      <td>AUS</td>\n",
       "      <td>Adolescent fertility rate (births per 1,000 wo...</td>\n",
       "      <td>SP.ADO.TFRT</td>\n",
       "      <td>10.9366</td>\n",
       "    </tr>\n",
       "    <tr>\n",
       "      <th>3</th>\n",
       "      <td>Australia</td>\n",
       "      <td>AUS</td>\n",
       "      <td>Adolescents out of school (% of lower secondar...</td>\n",
       "      <td>SE.SEC.UNER.LO.ZS</td>\n",
       "      <td>1.97146999835968</td>\n",
       "    </tr>\n",
       "    <tr>\n",
       "      <th>4</th>\n",
       "      <td>Australia</td>\n",
       "      <td>AUS</td>\n",
       "      <td>Adolescents out of school, female (% of female...</td>\n",
       "      <td>SE.SEC.UNER.LO.FE.ZS</td>\n",
       "      <td>2.19272994995117</td>\n",
       "    </tr>\n",
       "  </tbody>\n",
       "</table>\n",
       "</div>"
      ],
      "text/plain": [
       "  Country Name Country Code  \\\n",
       "0    Australia          AUS   \n",
       "1    Australia          AUS   \n",
       "2    Australia          AUS   \n",
       "3    Australia          AUS   \n",
       "4    Australia          AUS   \n",
       "\n",
       "                                         Series Name           Series Code  \\\n",
       "0            Access to electricity (% of population)        EG.ELC.ACCS.ZS   \n",
       "1  Adjusted savings: carbon dioxide damage (% of ...     NY.ADJ.DCO2.GN.ZS   \n",
       "2  Adolescent fertility rate (births per 1,000 wo...           SP.ADO.TFRT   \n",
       "3  Adolescents out of school (% of lower secondar...     SE.SEC.UNER.LO.ZS   \n",
       "4  Adolescents out of school, female (% of female...  SE.SEC.UNER.LO.FE.ZS   \n",
       "\n",
       "      2019 [YR2019]  \n",
       "0               100  \n",
       "1  1.11294140526482  \n",
       "2           10.9366  \n",
       "3  1.97146999835968  \n",
       "4  2.19272994995117  "
      ]
     },
     "execution_count": 53,
     "metadata": {},
     "output_type": "execute_result"
    }
   ],
   "source": [
    "wb_data = pd.read_csv(\"data/world_bank_data.csv\")\n",
    "wb_data.head()\n",
    "\n",
    "#wb_data.tail()"
   ]
  },
  {
   "cell_type": "markdown",
   "id": "fd59acbe",
   "metadata": {},
   "source": [
    "Dropping the last five rows, because they contain only NaN values and Meta-Data, as well as the Series Code and Country Code column, because they are not needed for our analysis."
   ]
  },
  {
   "cell_type": "code",
   "execution_count": 54,
   "id": "30bd2fb2-45dd-4ad3-8edc-10a277b598ca",
   "metadata": {},
   "outputs": [
    {
     "name": "stdout",
     "output_type": "stream",
     "text": [
      "(383843, 5)\n",
      "(383838, 3)\n"
     ]
    }
   ],
   "source": [
    "print(wb_data.shape)\n",
    "\n",
    "wb_data = wb_data.dropna(subset = [\"Series Name\"])\n",
    "wb_data = wb_data.drop(columns=[\"Series Code\",\"Country Code\"])\n",
    "\n",
    "print(wb_data.shape)"
   ]
  },
  {
   "cell_type": "markdown",
   "id": "32b11845",
   "metadata": {},
   "source": [
    "Reformatting the data such that the development indicators, e.g. *Access to electricity (% of population)*, each get their own column."
   ]
  },
  {
   "cell_type": "code",
   "execution_count": 55,
   "id": "0e834201-e1dc-428e-ac84-d32634b27c21",
   "metadata": {},
   "outputs": [],
   "source": [
    "# combining the development indicators (Series Name) into columns by country\n",
    "wb_data = wb_data.set_index([\"Country Name\", \"Series Name\"], drop=True).unstack(\"Series Name\")\n",
    "\n",
    "# removing the upper level of the multi-index \n",
    "wb_data.columns = wb_data.columns.droplevel(0)\n",
    "\n",
    "# adding a columns with country names for later reformatting purposes\n",
    "wb_data[\"Country Name\"] = wb_data.index"
   ]
  },
  {
   "cell_type": "markdown",
   "id": "9ead86ed",
   "metadata": {},
   "source": [
    "### World Happiness Report 2019"
   ]
  },
  {
   "cell_type": "markdown",
   "id": "72fef9b3",
   "metadata": {},
   "source": [
    "Reading in the World Happiness Report (WHR) Data (available from https://www.kaggle.com/unsdsn/world-happiness).\n",
    "Since we do not plan to analyse our data over time, we focus on the 2019 Report.\n",
    "We choose the year 2019 over the year 2020, because we are not interested in the effect of COVID-19 on happiness but more general correlations. Furthermore, due to COVID-19, the 2020 WHR has a lower sample size. "
   ]
  },
  {
   "cell_type": "code",
   "execution_count": 58,
   "id": "b78ebfbe-0fc9-4b4a-b596-2c1854168780",
   "metadata": {},
   "outputs": [
    {
     "name": "stdout",
     "output_type": "stream",
     "text": [
      "Country Name\n",
      "Afghanistan                                    Afghanistan\n",
      "Africa Eastern and Southern    Africa Eastern and Southern\n",
      "Africa Western and Central      Africa Western and Central\n",
      "Albania                                            Albania\n",
      "Algeria                                            Algeria\n",
      "                                          ...             \n",
      "West Bank and Gaza                      West Bank and Gaza\n",
      "World                                                World\n",
      "Yemen, Rep.                                    Yemen, Rep.\n",
      "Zambia                                              Zambia\n",
      "Zimbabwe                                          Zimbabwe\n",
      "Name: Country Name, Length: 266, dtype: object\n"
     ]
    }
   ],
   "source": [
    "whr_data = pd.read_csv(\"data/world_happiness_report_2019.csv\")\n",
    "whr_countries = list(whr_data[\"Country (region)\"])\n",
    "\n",
    "wb_countries = wb_data[\"Country Name\"]"
   ]
  },
  {
   "cell_type": "code",
   "execution_count": null,
   "id": "dd4733ef-e5ca-4e66-9c17-9e52a7f73d62",
   "metadata": {
    "scrolled": true
   },
   "outputs": [],
   "source": [
    "intersect_countries = set(wb_countries).intersection(whr_countries)\n",
    "non_intersection = set(wb_countries)^set(whr_countries)\n",
    "happy_non_intersection = set(happy_country_list).intersection(non_intersection)"
   ]
  },
  {
   "cell_type": "markdown",
   "id": "e4d51b3b",
   "metadata": {},
   "source": [
    "Länder die in den World Bank data nicht enthalten sind:\n",
    "- Taiwan :(\n",
    "- Cyprus"
   ]
  },
  {
   "cell_type": "code",
   "execution_count": null,
   "id": "42c7c015-2828-4ce1-84cf-813f6d8be530",
   "metadata": {},
   "outputs": [],
   "source": [
    "# list of tuples (happiness report name, world bank name)\n",
    "happy_country_list_renamed = [\n",
    "(\"Swaziland\", \"Eswatini\"),\n",
    "(\"Macedonia\", \"North Macedonia\"),\n",
    "(\"Kyrgyzstan\", \"Kyrgyz Republic\"),\n",
    "(\"Yemen\", \"Yemen, Rep.\"),\n",
    "(\"Gambia\", \"Gambia, The\"),\n",
    "(\"Ivory Coast\", \"Cote d'Ivoire\"),\n",
    "(\"Venezuela\", \"Venezuela, RB\"),\n",
    "(\"South Korea\", \"Korea, Rep.\"),\n",
    "(\"Laos\", \"Lao PDR\"),\n",
    "(\"Hong Kong\", \"Hong Kong SAR, China\"),\n",
    "(\"Congo (Kinshasa)\", \"Congo, Dem. Rep.\"),\n",
    "(\"Palestinian Territories\", \"West Bank and Gaza\"),\n",
    "(\"Congo (Brazzaville)\", \"Congo, Rep.\"),\n",
    "(\"Iran\", \"Iran, Islamic Rep.\"),\n",
    "(\"Egypt\", \"Egypt, Arab Rep.\"),\n",
    "(\"Russia\", \"Russian Federation\"),\n",
    "(\"Slovakia\", \"Slovak Republic\"),\n",
    "(\"Bosnia and Herzegovina \", \"Bosnia and Herzegovina\"),\n",
    "(\"Syria\", \"Syrian Arab Republic\")]\n",
    "\n",
    "for happy_name, wb_name in happy_country_list_renamed:\n",
    "    for i in range(0, len(happiness[\"Country (region)\"])):\n",
    "        if happiness.loc[i, \"Country (region)\"] == happy_name:\n",
    "            happiness.loc[i, \"Country (region)\"] = wb_name\n"
   ]
  },
  {
   "cell_type": "code",
   "execution_count": null,
   "id": "a785eb7d-58f0-480a-b9ec-a11d78c35d7f",
   "metadata": {},
   "outputs": [],
   "source": [
    "happiness = happiness[happiness[\"Country (region)\"].str.contains(\"Taiwan\")==False]\n",
    "happiness = happiness[happiness[\"Country (region)\"].str.contains(\"Cyprus\")==False]\n",
    "\n",
    "df_pivot = df_pivot[df_pivot[\"Country Name\"].isin(happiness[\"Country (region)\"])]\n",
    "df_pivot.index = df_pivot[\"Country Name\"]"
   ]
  },
  {
   "cell_type": "code",
   "execution_count": null,
   "id": "b7fdc487",
   "metadata": {
    "scrolled": true
   },
   "outputs": [],
   "source": [
    "df_pivot.index = df_pivot[\"Country Name\"]\n",
    "\n",
    "threshold = 10\n",
    "delete_columns = []\n",
    "\n",
    "for i in range(0, len(df_pivot.columns)):\n",
    "    num_values = sum(df_pivot[df_pivot.columns[i]]==\"..\")\n",
    "    #print(num_values)\n",
    "    if num_values > threshold:\n",
    "        delete_columns.append(df_pivot.columns[i])\n",
    "        #df_pivot = df_pivot.drop(columns = df_pivot.columns[i])"
   ]
  },
  {
   "cell_type": "code",
   "execution_count": null,
   "id": "f9389df0",
   "metadata": {},
   "outputs": [],
   "source": [
    "df_pivot = df_pivot.drop(columns=delete_columns)\n",
    "print(len(df_pivot.columns))\n",
    "#sorted(df_pivot.columns)"
   ]
  }
 ],
 "metadata": {
  "kernelspec": {
   "display_name": "Python 3",
   "language": "python",
   "name": "python3"
  },
  "language_info": {
   "codemirror_mode": {
    "name": "ipython",
    "version": 3
   },
   "file_extension": ".py",
   "mimetype": "text/x-python",
   "name": "python",
   "nbconvert_exporter": "python",
   "pygments_lexer": "ipython3",
   "version": "3.8.8"
  }
 },
 "nbformat": 4,
 "nbformat_minor": 5
}
