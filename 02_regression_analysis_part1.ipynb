{
 "cells": [
  {
   "cell_type": "markdown",
   "metadata": {},
   "source": [
    "# Notebook 2: Least Squares Regression and Scaling"
   ]
  },
  {
   "cell_type": "markdown",
   "metadata": {},
   "source": [
    "#TODO What is happening here"
   ]
  },
  {
   "cell_type": "code",
   "execution_count": 5,
   "metadata": {},
   "outputs": [],
   "source": [
    "%matplotlib inline\n",
    "import numpy as np\n",
    "import matplotlib.pyplot as plt\n",
    "import os\n",
    "import tqdm\n",
    "import glob\n",
    "import pandas as pd\n",
    "import sklearn\n",
    "from src import ana_utils as utils\n",
    "\n",
    "#np.set_printoptions(suppress=True)\n",
    "from sklearn.linear_model import LinearRegression\n",
    "\n",
    "np.random.seed(7)"
   ]
  },
  {
   "cell_type": "markdown",
   "metadata": {},
   "source": [
    "Import datasets that were preprocessed in Notebook 1"
   ]
  },
  {
   "cell_type": "code",
   "execution_count": 6,
   "metadata": {},
   "outputs": [
    {
     "name": "stdout",
     "output_type": "stream",
     "text": [
      "True\n"
     ]
    }
   ],
   "source": [
    "wb_data = pd.read_csv(\"data/wb_data.csv\", index_col=\"Country Name\")\n",
    "wb_data_short = pd.read_csv(\"data/wb_data_short.csv\", index_col=\"Country Name\")\n",
    "whr_data = pd.read_csv(\"data/whr_data.csv\", index_col=\"Country name\")\n",
    "\n",
    "# test: are the same countries present in each dataset?\n",
    "print(sorted(list(wb_data.index))==sorted(list(whr_data.index)))"
   ]
  },
  {
   "cell_type": "markdown",
   "metadata": {},
   "source": [
    "Split data into train and test set. We choose a 80/20 split, i.e. 120 countries in the training set and 30 countries in the test set."
   ]
  },
  {
   "cell_type": "code",
   "execution_count": 7,
   "metadata": {},
   "outputs": [
    {
     "name": "stdout",
     "output_type": "stream",
     "text": [
      "(120, 120) (30, 120) (120, 1) (30, 1)\n",
      "True True\n"
     ]
    }
   ],
   "source": [
    "test_size = 30\n",
    "train, test, train_gt, test_gt = utils.split_data(wb_data_short, whr_data, test_size)\n",
    "\n",
    "# verify set shapes\n",
    "print(train.shape, test.shape, train_gt.shape, test_gt.shape)\n",
    "\n",
    "#verify that data prder and groundtruth order and indices match \n",
    "print(list(train.index)==list(train_gt.index), list(test.index)==list(test_gt.index))\n"
   ]
  },
  {
   "cell_type": "markdown",
   "metadata": {},
   "source": [
    "## Linear regression"
   ]
  },
  {
   "cell_type": "markdown",
   "metadata": {},
   "source": [
    "\n",
    "Let's see how linear least squares regression performs on wb_data and wb_data_short (redundant indicators removed). We choose 2000-fold validation after noticing quite some variance for lower n."
   ]
  },
  {
   "cell_type": "code",
   "execution_count": 8,
   "metadata": {},
   "outputs": [
    {
     "ename": "ValueError",
     "evalue": "not enough values to unpack (expected 6, got 4)",
     "output_type": "error",
     "traceback": [
      "\u001b[1;31m---------------------------------------------------------------------------\u001b[0m",
      "\u001b[1;31mValueError\u001b[0m                                Traceback (most recent call last)",
      "\u001b[1;32m<ipython-input-8-598b85ccc050>\u001b[0m in \u001b[0;36m<module>\u001b[1;34m\u001b[0m\n\u001b[0;32m      2\u001b[0m \u001b[1;33m\u001b[0m\u001b[0m\n\u001b[0;32m      3\u001b[0m \u001b[1;31m# full set\u001b[0m\u001b[1;33m\u001b[0m\u001b[1;33m\u001b[0m\u001b[1;33m\u001b[0m\u001b[0m\n\u001b[1;32m----> 4\u001b[1;33m \u001b[0mloss_list\u001b[0m\u001b[1;33m,\u001b[0m \u001b[0mmean_loss\u001b[0m\u001b[1;33m,\u001b[0m \u001b[0mmean_train_loss\u001b[0m\u001b[1;33m,\u001b[0m \u001b[0mcoef_list\u001b[0m\u001b[1;33m,\u001b[0m \u001b[0mavg_coefs\u001b[0m\u001b[1;33m,\u001b[0m \u001b[0madjusted_r_squared\u001b[0m \u001b[1;33m=\u001b[0m \u001b[0mutils\u001b[0m\u001b[1;33m.\u001b[0m\u001b[0mn_fold_ceval\u001b[0m\u001b[1;33m(\u001b[0m\u001b[0mreg_model\u001b[0m\u001b[1;33m=\u001b[0m\u001b[0mleast_squares\u001b[0m\u001b[1;33m,\u001b[0m \u001b[0mn\u001b[0m\u001b[1;33m=\u001b[0m\u001b[1;36m1000\u001b[0m\u001b[1;33m,\u001b[0m \u001b[0mdata\u001b[0m\u001b[1;33m=\u001b[0m\u001b[0mwb_data\u001b[0m\u001b[1;33m,\u001b[0m \u001b[0mgt\u001b[0m\u001b[1;33m=\u001b[0m\u001b[0mwhr_data\u001b[0m\u001b[1;33m,\u001b[0m \u001b[0mtest_size\u001b[0m\u001b[1;33m=\u001b[0m\u001b[0mtest_size\u001b[0m\u001b[1;33m,\u001b[0m \u001b[0mscaling\u001b[0m\u001b[1;33m=\u001b[0m\u001b[1;34m\"no_scaling\"\u001b[0m\u001b[1;33m)\u001b[0m\u001b[1;33m\u001b[0m\u001b[1;33m\u001b[0m\u001b[0m\n\u001b[0m\u001b[0;32m      5\u001b[0m \u001b[0mprint\u001b[0m\u001b[1;33m(\u001b[0m\u001b[1;34m\"Mean loss (full set of indicators):\"\u001b[0m\u001b[1;33m,\u001b[0m \u001b[0mmean_loss\u001b[0m\u001b[1;33m)\u001b[0m\u001b[1;33m\u001b[0m\u001b[1;33m\u001b[0m\u001b[0m\n\u001b[0;32m      6\u001b[0m \u001b[0mprint\u001b[0m\u001b[1;33m(\u001b[0m\u001b[1;34m\"Mean train loss (reduced set of indicators):\"\u001b[0m\u001b[1;33m,\u001b[0m \u001b[0mmean_train_loss\u001b[0m\u001b[1;33m)\u001b[0m\u001b[1;33m\u001b[0m\u001b[1;33m\u001b[0m\u001b[0m\n",
      "\u001b[1;31mValueError\u001b[0m: not enough values to unpack (expected 6, got 4)"
     ]
    }
   ],
   "source": [
    "least_squares = sklearn.linear_model.LinearRegression()\n",
    "\n",
    "# full set\n",
    "loss_list, mean_loss, mean_train_loss, coef_list, avg_coefs, adjusted_r_squared = utils.n_fold_ceval(reg_model=least_squares, n=1000, data=wb_data, gt=whr_data, test_size=test_size, scaling=\"no_scaling\", calc_adj_r_squared=True)\n",
    "print(\"Mean loss (full set of indicators):\", mean_loss)\n",
    "print(\"Mean train loss (reduced set of indicators):\", mean_train_loss)\n",
    "print(\"Adjusted R^2:\", adjusted_r_squared)\n",
    "print(\"The average size of the first ten coefficients ((full set of indicators)):\", avg_coefs[:10], \"\\n\")\n",
    "\n",
    "# manually reduced set\n",
    "loss_list, mean_loss, mean_train_loss, coef_list, avg_coefs, adjusted_r_squared = utils.n_fold_ceval(reg_model=least_squares, n=1000, data=wb_data_short, gt=whr_data, test_size=test_size, scaling=\"no_scaling\", calc_adj_r_squared=True)\n",
    "print(\"Mean test loss (reduced set of indicators):\", mean_loss)\n",
    "print(\"Mean train loss (reduced set of indicators):\", mean_train_loss)\n",
    "print(\"Adjusted R^2:\", adjusted_r_squared)\n",
    "print(\"The average size of the first ten coefficients (reduced set of indicators):\", avg_coefs[:10])"
   ]
  },
  {
   "cell_type": "markdown",
   "metadata": {},
   "source": [
    "While linear regression performs better after manually removing redundancies, both of the results are still quite poor. \n",
    "We suspect multicolinearity to be a main reason for bad performance. \n",
    "\n",
    "But before starting to deal with multicolinearity, we want to normalize/standardize the data. This is because, in the end, we aim to compare coefficients. But as of now, coefficient sizes vary drastically, thus requiring rescaling of the features.\n",
    "\n",
    "Hence, performing analysis also on the normalized/standardized data along the way is necessary to prevent us from developing a model that works only on non-normalized/non-standardized data. "
   ]
  },
  {
   "cell_type": "markdown",
   "metadata": {},
   "source": [
    "### Normalization \n",
    "\n",
    "Here, we normalize each row, using the L2 norm. That is, for each country the indicator values are scaled such that the sum of all squared indicator values is one."
   ]
  },
  {
   "cell_type": "code",
   "execution_count": null,
   "metadata": {},
   "outputs": [
    {
     "name": "stdout",
     "output_type": "stream",
     "text": [
      "Mean loss (full set of indicators): 31.28188481600015\n",
      "The average size of the first ten coefficients ((full set of indicators)): [ 28.7335 -15.5441  -0.1055  -0.523   -0.7349  60.7378  21.7037  67.2968\n",
      "   0.1485 -20.7325] \n",
      "\n",
      "Mean loss (reduced set of indicators): 4.944546921287039\n",
      "The average size of the first ten coefficients (reduced set of indicators): [ 21.4104  -7.3186   1.0311  -0.4875  -3.9778 101.6384 116.0385  23.1098\n",
      "  -5.2663   1.4116]\n"
     ]
    }
   ],
   "source": [
    "least_squares = sklearn.linear_model.LinearRegression()\n",
    "\n",
    "# full set\n",
    "loss_list, mean_loss, mean_train_loss, coef_list, avg_coefs, adjusted_r_squared = utils.n_fold_ceval(reg_model=least_squares, n=1000, data=wb_data, gt=whr_data, test_size=test_size, scaling=\"normalize\", calc_adj_r_squared=True)\n",
    "print(\"Mean loss (full set of indicators):\", mean_loss)\n",
    "print(\"Mean train loss (reduced set of indicators):\", mean_train_loss)\n",
    "print(\"Adjusted R^2:\", adjusted_r_squared)\n",
    "print(\"The average size of the first ten coefficients ((full set of indicators)):\", avg_coefs[:10], \"\\n\")\n",
    "\n",
    "# manually reduced set\n",
    "loss_list, mean_loss, mean_train_loss, coef_list, avg_coefs, adjusted_r_squared = utils.n_fold_ceval(reg_model=least_squares, n=1000, data=wb_data_short, gt=whr_data, test_size=test_size, scaling=\"normalize\", calc_adj_r_squared=True)\n",
    "print(\"Mean test loss (reduced set of indicators):\", mean_loss)\n",
    "print(\"Mean train loss (reduced set of indicators):\", mean_train_loss)\n",
    "print(\"Adjusted R^2:\", adjusted_r_squared)\n",
    "print(\"The average size of the first ten coefficients (reduced set of indicators):\", avg_coefs[:10])"
   ]
  },
  {
   "cell_type": "markdown",
   "metadata": {},
   "source": [
    "### Standardization\n",
    "Each value x is scaled with the formula $\\frac{x-\\mu}{\\sigma}$"
   ]
  },
  {
   "cell_type": "code",
   "execution_count": null,
   "metadata": {},
   "outputs": [
    {
     "name": "stdout",
     "output_type": "stream",
     "text": [
      "Mean loss (full set of indicators): 25.08420041301712\n",
      "The average size of the first ten coefficients ((full set of indicatoreg_model=least_squaresrs)): [ 0.6734 -0.1709  0.0026 -0.0407 -0.049   2.535   1.4409  1.1724  0.2123\n",
      " -0.9681] \n",
      "\n",
      "Mean loss (reduced set of indicators): 5.3233445138595075\n",
      "The average size of the first ten coefficients (reduced set of indicators): [ 0.5083 -0.0975  0.0848 -0.0108 -0.189   4.9715  4.1716  0.674  -0.3332\n",
      "  0.0779]\n"
     ]
    }
   ],
   "source": [
    "least_squares = sklearn.linear_model.LinearRegression()\n",
    "\n",
    "# full set\n",
    "loss_list, mean_loss, mean_train_loss, coef_list, avg_coefs, adjusted_r_squared = utils.n_fold_ceval(reg_model=least_squares, n=1000, data=wb_data, gt=whr_data, test_size=test_size, scaling=\"standardize\", calc_adj_r_squared=True)\n",
    "print(\"Mean loss (full set of indicators):\", mean_loss)\n",
    "print(\"Mean train loss (reduced set of indicators):\", mean_train_loss)\n",
    "print(\"Adjusted R^2:\", adjusted_r_squared)\n",
    "print(\"The average size of the first ten coefficients ((full set of indicators)):\", avg_coefs[:10], \"\\n\")\n",
    "\n",
    "# manually reduced set\n",
    "loss_list, mean_loss, mean_train_loss, coef_list, avg_coefs, adjusted_r_squared = utils.n_fold_ceval(reg_model=least_squares, n=1000, data=wb_data_short, gt=whr_data, test_size=test_size, scaling=\"standardize\", calc_adj_r_squared=True)\n",
    "print(\"Mean test loss (reduced set of indicators):\", mean_loss)\n",
    "print(\"Mean train loss (reduced set of indicators):\", mean_train_loss)\n",
    "print(\"Adjusted R^2:\", adjusted_r_squared)\n",
    "print(\"The average size of the first ten coefficients (reduced set of indicators):\", avg_coefs[:10])"
   ]
  },
  {
   "cell_type": "markdown",
   "metadata": {},
   "source": [
    "### Conclusion for Standardization/Normalization\n",
    "Both methods seem to worsen mean loss for the regression on the full dataset. However, they don't change the mean loss notably for the dataset containing the manually reduced set of indicators.  \n",
    "Therefore, we will from now on normalize the data in order to make the resulting regression coefficients more interpretable."
   ]
  }
 ],
 "metadata": {
  "kernelspec": {
   "display_name": "Python 3",
   "language": "python",
   "name": "python3"
  },
  "language_info": {
   "codemirror_mode": {
    "name": "ipython",
    "version": 3
   },
   "file_extension": ".py",
   "mimetype": "text/x-python",
   "name": "python",
   "nbconvert_exporter": "python",
   "pygments_lexer": "ipython3",
   "version": "3.8.8"
  }
 },
 "nbformat": 4,
 "nbformat_minor": 4
}
