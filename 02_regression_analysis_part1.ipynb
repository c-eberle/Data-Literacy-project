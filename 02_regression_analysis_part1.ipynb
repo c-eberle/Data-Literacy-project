{
 "cells": [
  {
   "cell_type": "markdown",
   "metadata": {},
   "source": [
    "# Notebook 2: Conducting and Evaluating Regression Analysis"
   ]
  },
  {
   "cell_type": "code",
   "execution_count": 1,
   "metadata": {},
   "outputs": [],
   "source": [
    "%matplotlib inline\n",
    "import numpy as np\n",
    "import matplotlib.pyplot as plt\n",
    "import os\n",
    "import tqdm\n",
    "import glob\n",
    "import pandas as pd\n",
    "import sklearn\n",
    "from src import ana_utils as utils\n",
    "\n",
    "#np.set_printoptions(suppress=True)\n",
    "from sklearn.linear_model import LinearRegression\n",
    "\n",
    "np.random.seed(7)"
   ]
  },
  {
   "cell_type": "markdown",
   "metadata": {},
   "source": [
    "Import datasets that were preprocessed in Notebook 1"
   ]
  },
  {
   "cell_type": "code",
   "execution_count": 2,
   "metadata": {},
   "outputs": [
    {
     "name": "stdout",
     "output_type": "stream",
     "text": [
      "True\n"
     ]
    }
   ],
   "source": [
    "wb_data = pd.read_csv(\"data/wb_data.csv\", index_col=\"Country Name\")\n",
    "wb_data_short = pd.read_csv(\"data/wb_data_short.csv\", index_col=\"Country Name\")\n",
    "whr_data = pd.read_csv(\"data/whr_data.csv\", index_col=\"Country name\")\n",
    "\n",
    "# test: are the same countries present in each dataset?\n",
    "print(sorted(list(wb_data.index))==sorted(list(whr_data.index)))"
   ]
  },
  {
   "cell_type": "markdown",
   "metadata": {},
   "source": [
    "Split data into train and test set. We choose a 80/20 split, i.e. 120 countries in the training set and 30 countries in the test set."
   ]
  },
  {
   "cell_type": "code",
   "execution_count": 3,
   "metadata": {},
   "outputs": [
    {
     "name": "stdout",
     "output_type": "stream",
     "text": [
      "(120, 120) (30, 120) (120, 1) (30, 1)\n",
      "True True\n"
     ]
    }
   ],
   "source": [
    "test_size = 30\n",
    "train, test, train_gt, test_gt = utils.split_data(wb_data_short, whr_data, test_size)\n",
    "\n",
    "# verify set shapes\n",
    "print(train.shape, test.shape, train_gt.shape, test_gt.shape)\n",
    "\n",
    "#verify that data prder and groundtruth order and indices match \n",
    "print(list(train.index)==list(train_gt.index), list(test.index)==list(test_gt.index))\n"
   ]
  },
  {
   "cell_type": "markdown",
   "metadata": {},
   "source": [
    "## Linear regression"
   ]
  },
  {
   "cell_type": "markdown",
   "metadata": {},
   "source": [
    "\n",
    "Let's see how linear regression performs on wb_data and wb_data_short (redundant indicators removed). We choose 2000-fold validation after noticing quite some variance for lower n."
   ]
  },
  {
   "cell_type": "code",
   "execution_count": 4,
   "metadata": {},
   "outputs": [],
   "source": [
    "least_squares = sklearn.linear_model.LinearRegression()"
   ]
  },
  {
   "cell_type": "code",
   "execution_count": 5,
   "metadata": {},
   "outputs": [
    {
     "name": "stdout",
     "output_type": "stream",
     "text": [
      "Mean loss (full set of indicators): 14.448268503467897\n",
      "The average size of the first ten coefficients ((full set of indicators)): [[ 1.530e-02 -8.200e-03 -0.000e+00 -0.000e+00 -2.900e-03  6.360e-02\n",
      "  -9.500e-03  7.310e-02  7.740e-02 -8.620e-02 -2.280e-02  1.198e-01\n",
      "  -1.645e-01  1.871e-01 -1.450e-02 -2.496e-01 -2.301e-01  5.030e-02\n",
      "   1.144e-01  2.140e-02 -5.950e-02  5.000e-04 -1.047e-01  1.590e-02\n",
      "   3.990e-02 -2.330e-01  1.970e-02  4.478e-01 -2.379e-01 -6.268e-01\n",
      "   8.632e-01 -6.018e-01  3.000e-04 -1.028e-01  1.964e-01 -7.580e-02\n",
      "   8.270e-02  1.303e-01 -6.590e-02  2.219e-01 -3.221e-01 -2.942e-01\n",
      "  -1.801e-01 -0.000e+00 -0.000e+00  6.693e-01  1.131e-01 -5.282e-01\n",
      "  -8.860e-02  0.000e+00  1.250e-02 -1.030e-02  9.700e-03  1.000e-02\n",
      "   1.560e-02  1.780e-02 -6.800e-03 -0.000e+00  2.300e-03  2.970e-02\n",
      "   1.840e-02  3.090e-02  3.460e-02 -3.600e-02  1.570e-02  1.830e-02\n",
      "  -2.578e-01  1.941e-01 -1.776e-01  9.690e-02  2.197e-01 -4.080e-02\n",
      "   2.198e-01  2.919e-01 -7.377e-01  1.162e-01  3.403e-01 -1.885e-01\n",
      "   1.082e-01  2.230e-02 -1.532e-01  1.949e-01  1.682e-01  9.770e-02\n",
      "   6.480e-02 -4.160e-02 -8.890e-02  2.102e-01  1.799e-01 -2.982e-01\n",
      "  -1.374e-01  2.410e-01  3.434e-01 -5.480e-01 -3.126e-01  6.364e-01\n",
      "  -3.180e-01  9.800e-02  4.496e-01 -2.076e-01 -9.360e-02  4.651e-01\n",
      "   3.770e-02 -5.544e-01  4.110e-01  1.927e-01  9.400e-03  9.560e-02\n",
      "  -2.845e-01 -3.950e-02  4.324e-01 -2.707e-01  5.736e-01 -6.181e-01\n",
      "  -4.850e-01  1.345e-01 -5.116e-01  4.698e-01 -3.000e-04  4.520e-02\n",
      "  -7.470e-02 -7.100e-02  2.240e-02  7.100e-02 -5.230e-02 -1.075e-01\n",
      "   1.890e-02  1.303e-01 -2.620e-02  2.200e-03 -2.564e-01 -0.000e+00\n",
      "   0.000e+00  5.930e-02  1.371e-01 -2.298e-01 -1.862e-01 -3.200e-03\n",
      "  -4.600e-03 -2.838e-01  8.260e-02 -5.140e-02  1.368e-01 -9.800e-03\n",
      "  -3.470e-02 -1.568e-01  2.090e-01 -2.620e-02 -2.200e-03 -3.840e-02\n",
      "  -1.200e-01 -2.585e-01  2.853e-01 -1.556e-01 -2.122e-01  2.446e-01]] \n",
      "\n",
      "Mean loss (reduced set of indicators): 5.333431913418843\n",
      "The average size of the first ten coefficients (reduced set of indicators): [[ 1.94000e-02 -6.10000e-03  0.00000e+00 -0.00000e+00 -5.30000e-03\n",
      "   4.79300e-01  1.88500e-01  8.97000e-02 -2.22000e-02  1.51000e-02\n",
      "  -1.58000e-02  1.74386e+01 -1.29014e+01  8.95300e-01  7.90000e-03\n",
      "   8.81900e-01  3.62000e-02  9.04800e-01  6.50000e-03 -1.03000e-01\n",
      "  -7.06000e-02  1.06200e-01 -1.30000e-03 -6.95000e-01  9.00000e-04\n",
      "  -8.03000e-02  1.03000e-02  2.80000e-02  9.86000e-02 -4.90000e-02\n",
      "  -0.00000e+00  0.00000e+00  3.49600e-01 -2.31100e-01 -7.95000e-02\n",
      "   0.00000e+00  9.40000e-03 -8.00000e-03  9.30000e-03  4.00000e-04\n",
      "   1.12000e-02  9.00000e-03  3.00000e-04 -0.00000e+00  1.20000e-02\n",
      "   3.32000e-02  1.45000e-02  3.35000e-02  3.17000e-02 -2.07000e-02\n",
      "   1.96000e-02  1.53000e-02  4.92000e-02 -1.91000e-02 -5.24800e-01\n",
      "   8.06400e-01  6.08500e-01 -1.19560e+00 -3.45000e-02  3.70000e-01\n",
      "  -1.00880e+00  6.13800e-01  1.63000e-02  4.16000e-01  2.39400e-01\n",
      "   3.24600e-01  6.74800e-01 -7.37500e-01 -6.12100e-01  5.56800e-01\n",
      "   8.02300e-01 -9.26200e-01 -1.90900e-01  3.21800e-01 -4.50000e-03\n",
      "   9.57000e-02 -1.18000e-02  2.60600e-01  1.34350e+00 -1.07830e+00\n",
      "  -1.21570e+00  9.84700e-01 -6.55000e-02 -3.96900e-01  6.08100e-01\n",
      "  -6.45400e-01  3.40200e-01 -3.34500e-01 -2.40500e-01 -1.39400e-01\n",
      "  -7.73400e-01  7.22400e-01 -2.00000e-04  1.60000e-02 -2.13000e-02\n",
      "   2.13000e-02 -0.00000e+00 -4.61000e-02 -3.34000e-02  6.71000e-02\n",
      "  -6.00000e-04 -1.94400e-01 -0.00000e+00 -3.64882e+01 -1.16427e+01\n",
      "   1.08400e-01  2.00000e-03  1.30000e-03 -2.10400e-01  1.33600e-01\n",
      "  -9.06000e-02 -1.01500e-01  1.46000e-02  4.78000e-02  6.00000e-04\n",
      "   5.03000e-02  1.75599e+01 -1.29242e+01 -1.89430e+01 -2.45581e+01]]\n"
     ]
    }
   ],
   "source": [
    "# For the full dense indicator data\n",
    "loss_list, mean_loss, coef_list, avg_coefs = utils.n_fold_ceval(2000, wb_data, whr_data, test_size, scaling=\"no_scaling\", reg_model=least_squares)\n",
    "print(\"Mean loss (full set of indicators):\", mean_loss)\n",
    "print(\"The average size of the first ten coefficients ((full set of indicators)):\", avg_coefs[:10], \"\\n\")\n",
    "\n",
    "loss_list, mean_loss, coef_list, avg_coefs = utils.n_fold_ceval(2000, wb_data_short, whr_data, test_size, scaling=\"no_scaling\", reg_model=least_squares)\n",
    "print(\"Mean loss (reduced set of indicators):\", mean_loss)\n",
    "print(\"The average size of the first ten coefficients (reduced set of indicators):\", avg_coefs[:10])"
   ]
  },
  {
   "cell_type": "markdown",
   "metadata": {},
   "source": [
    "While linear regression performs better after manually removing redundancies, both of the results are still quite poor. \n",
    "We suspect multicolinearity to be a main reason for bad performance. \n",
    "\n",
    "But before starting to deal with multicolinearity, we want to normalize/standardize the data. This is because, in the end, we aim to compare coefficients. Hence, performing analysis also on the normalized/standardized data along the way is necessary to prevent us from developing a model that works only on non-normalized/non-standardized data."
   ]
  },
  {
   "cell_type": "markdown",
   "metadata": {},
   "source": [
    "### Normalization \n",
    "\n",
    "Here, we normalize each row, using the L2 norm. That is, for each country the indicator values are scaled such that the sum of all squared indicator values is one."
   ]
  },
  {
   "cell_type": "code",
   "execution_count": 6,
   "metadata": {},
   "outputs": [
    {
     "name": "stdout",
     "output_type": "stream",
     "text": [
      "Mean loss (full set of indicators): 31.28188481600015\n",
      "The average size of the first ten coefficients ((full set of indicators)): [[ 2.873350e+01 -1.554410e+01 -1.055000e-01 -5.230000e-01 -7.349000e-01\n",
      "   6.073780e+01  2.170370e+01  6.729680e+01  1.485000e-01 -2.073250e+01\n",
      "  -3.417900e+00  2.036860e+01 -1.383680e+01  5.558600e+00  1.046250e+01\n",
      "  -2.308350e+01 -5.012930e+01  6.280900e+00  3.571740e+01  1.436430e+01\n",
      "  -9.814000e+00  4.462000e+00 -2.309000e+01 -3.169000e+00  1.969130e+01\n",
      "  -6.239250e+01  2.913470e+01  5.520390e+01  9.847900e+00 -2.179852e+02\n",
      "   2.015448e+02 -1.038450e+01  6.337000e-01 -1.105073e+02  6.661500e+01\n",
      "   5.759830e+01  4.759510e+01 -9.912370e+01 -7.942900e+01  7.162820e+01\n",
      "  -5.639740e+01  1.020272e+02 -1.122523e+02 -8.484800e+00 -1.880000e+00\n",
      "   3.867868e+02 -2.049211e+02 -3.147230e+01 -7.710000e+00  1.069610e+01\n",
      "   5.160000e-02 -1.626900e+00  5.195700e+00  1.179200e+00  1.087000e+00\n",
      "   1.776400e+00 -2.367700e+00 -1.417010e+01  5.231000e-01  1.433160e+01\n",
      "   2.067300e+00  6.049100e+00  2.328800e+00 -3.002800e+00  1.675300e+00\n",
      "   6.228600e+00  2.937640e+01  2.552000e+00 -1.752400e+01 -1.183080e+01\n",
      "  -7.097300e+00 -2.269000e+00 -7.403550e+01  1.069010e+02 -2.347360e+01\n",
      "  -9.597820e+01  5.463870e+01 -4.221690e+01 -8.662970e+01  6.995260e+01\n",
      "  -3.890600e+01  1.722310e+02  8.896300e+00 -1.577873e+02  8.045000e+00\n",
      "   8.309000e-01  2.988300e+01  3.857190e+01  8.799350e+01 -7.893100e+01\n",
      "  -1.827380e+01  3.680910e+01  5.140130e+01 -5.239400e+01 -3.765150e+01\n",
      "   6.673830e+01  4.755070e+01 -2.987610e+01  5.672400e+00  7.453800e+00\n",
      "   2.279270e+01  5.541200e+00 -1.225300e+01  5.268900e+00  1.387163e+02\n",
      "  -4.365460e+01 -4.488100e+00  4.294540e+01 -2.993360e+01 -1.719900e+00\n",
      "   2.224050e+01 -5.406100e+01  9.483400e+00 -3.842020e+01 -2.666730e+01\n",
      "  -4.732400e+00 -3.032300e+01 -1.512000e-01 -3.111300e+00  2.619000e+00\n",
      "   1.132809e+02 -2.634740e+01 -1.073364e+02  2.648700e+01 -1.239000e-01\n",
      "  -8.118700e+00 -7.265400e+00  1.298934e+02  7.167300e+00  7.673000e-01\n",
      "  -1.800280e+01  3.588100e+00 -3.850000e-02  2.259200e+01  6.156940e+01\n",
      "  -9.000580e+01 -1.166321e+02 -1.472700e+00 -4.203400e+00 -2.575616e+02\n",
      "   1.085603e+02 -2.051870e+01 -1.256830e+01  2.298240e+01  1.577600e+00\n",
      "  -1.747210e+01  2.463220e+01 -7.497900e+00 -5.363000e-01 -3.894000e+00\n",
      "   2.529220e+01 -3.649470e+01 -1.882860e+01 -3.905720e+01 -7.340210e+01\n",
      "   5.815500e+01]] \n",
      "\n",
      "Mean loss (reduced set of indicators): 4.944546921287039\n",
      "The average size of the first ten coefficients (reduced set of indicators): [[ 2.14104000e+01 -7.31860000e+00  1.03110000e+00 -4.87500000e-01\n",
      "  -3.97780000e+00  1.01638400e+02  1.16038500e+02  2.31098000e+01\n",
      "  -5.26630000e+00  1.41160000e+00 -2.52920000e+00  4.45697700e+02\n",
      "  -7.43746900e+02  1.65659100e+02 -2.74126900e+02  6.78937000e+01\n",
      "  -2.27150500e+02  3.56288800e+02 -4.55549100e+02 -6.43169000e+01\n",
      "  -5.50688000e+01  4.52211000e+01  6.45600000e-01 -2.58246000e+01\n",
      "   1.77440000e+00 -3.85405000e+01  5.23970000e+00  2.30530000e+01\n",
      "   8.87354000e+01 -3.17540000e+01 -3.01330000e+00  4.71200000e-01\n",
      "   3.21054900e+02 -1.99313100e+02  4.98580181e+10  5.24840000e+00\n",
      "   1.12650000e+00 -1.36020000e+00  7.11360000e+00  2.30800000e-01\n",
      "   1.89310000e+00  1.25440000e+00  9.71000000e-02 -5.56250000e+00\n",
      "   3.64500000e-01  1.85850000e+01  2.42070000e+00  5.22200000e+00\n",
      "   3.22760000e+00 -2.48820000e+00  3.01110000e+00  5.68350000e+00\n",
      "  -1.40273131e+12  9.27650710e+11  6.94921488e+11  5.15195264e+10\n",
      "   6.54413908e+11  4.85149284e+10  5.98880631e+11  4.44032839e+10\n",
      "   1.54894875e+11  2.30641493e+11 -1.50159780e+10  5.47940916e+11\n",
      "   1.48786933e+11  2.22027559e+11  1.47972611e+11  2.23529683e+11\n",
      "   1.43793906e+11  2.15736246e+11  1.32761500e+11  1.95267353e+11\n",
      "   1.19986416e+11  1.76076160e+11  1.10881161e+11  1.61061080e+11\n",
      "   1.03474350e+11  1.47520233e+11  9.86742887e+10  1.37868014e+11\n",
      "   8.80321858e+10  1.18639237e+11 -3.07284004e+12 -1.49102332e+12\n",
      "   1.00546451e+12  6.48471612e+11  8.00450412e+11  4.92623233e+11\n",
      "   6.09241133e+11  3.34016880e+11  9.43634031e+11  4.01988366e+11\n",
      "  -2.44790000e+00  5.22300000e-01  2.61275964e+10  2.59899019e+10\n",
      "   4.97100000e-01 -2.41611683e+10 -2.59104214e+10  6.35180000e+01\n",
      "   1.13803455e+10 -1.49967000e+01 -2.16100000e-01 -2.22203812e+04\n",
      "  -5.64523070e+03  9.76420000e+00  1.86200000e+00  1.60210000e+00\n",
      "  -2.09248400e+02  1.17482800e+02 -1.24251000e+01 -9.20900000e+00\n",
      "   3.89240000e+00  1.02756000e+01  1.62839221e+10  1.35400000e+00\n",
      "   9.92759200e+03 -6.38730880e+03 -1.57961225e+04 -1.78313960e+04]]\n"
     ]
    }
   ],
   "source": [
    "# For the full dense indicator data\n",
    "loss_list, mean_loss, coef_list, avg_coefs = utils.n_fold_ceval(2000, wb_data, whr_data, test_size, scaling=\"normalize\", reg_model=least_squares)\n",
    "print(\"Mean loss (full set of indicators):\", mean_loss)\n",
    "print(\"The average size of the first ten coefficients ((full set of indicators)):\", avg_coefs[:10], \"\\n\")\n",
    "\n",
    "loss_list, mean_loss, coef_list, avg_coefs = utils.n_fold_ceval(2000, wb_data_short, whr_data, test_size, scaling=\"normalize\", reg_model=least_squares)\n",
    "print(\"Mean loss (reduced set of indicators):\", mean_loss)\n",
    "print(\"The average size of the first ten coefficients (reduced set of indicators):\", avg_coefs[:10])"
   ]
  },
  {
   "cell_type": "markdown",
   "metadata": {},
   "source": [
    "### Standardization\n",
    "Each value x is scaled with the formula $\\frac{x-\\mu}{\\sigma}$"
   ]
  },
  {
   "cell_type": "code",
   "execution_count": 7,
   "metadata": {},
   "outputs": [
    {
     "name": "stdout",
     "output_type": "stream",
     "text": [
      "Mean loss (full set of indicators): 25.08420041301712\n",
      "The average size of the first ten coefficients ((full set of indicators)): [[ 6.7340e-01 -1.7090e-01  2.6000e-03 -4.0700e-02 -4.9000e-02  2.5350e+00\n",
      "   1.4409e+00  1.1724e+00  2.1230e-01 -9.6810e-01 -3.4300e-02  7.4930e-01\n",
      "  -2.7600e-01  2.2900e-01  6.6260e-01 -1.1026e+00 -1.0718e+00 -8.1400e-02\n",
      "   8.9340e-01  9.2850e-01 -5.0190e-01 -2.6360e-01 -1.1950e-01  2.6500e-02\n",
      "   1.8290e-01 -1.8295e+00  1.0490e-01  6.7160e-01  6.2610e-01 -4.6759e+00\n",
      "   5.0977e+00 -5.4920e-01  2.3400e-02 -3.4373e+00  1.0347e+00  1.3878e+00\n",
      "   1.7285e+00 -2.1630e+00 -4.4370e-01  4.3790e-01 -1.1262e+00  1.5499e+00\n",
      "  -2.1301e+00 -4.5770e-01 -7.7400e-02  5.4737e+00 -2.9100e-01 -4.0696e+00\n",
      "  -7.3700e-02  8.9030e-01  2.5800e-02 -1.1270e-01  1.8870e-01  8.7600e-02\n",
      "   9.6800e-02  1.2370e-01 -1.2120e-01 -1.1341e+00  5.0800e-02  4.7290e-01\n",
      "   1.1140e-01  4.1510e-01  1.8290e-01 -1.6430e-01  1.8300e-01  2.3420e-01\n",
      "  -1.1241e+00  1.5586e+00 -1.5860e-01 -2.0394e+00  1.3440e-01 -3.0910e-01\n",
      "  -1.4149e+00  3.0587e+00  6.3300e-02 -2.9235e+00  1.3881e+00 -4.1820e-01\n",
      "  -2.1089e+00  1.6405e+00 -1.0114e+00  9.2701e+00  3.1120e-01 -8.4109e+00\n",
      "   7.3240e-01  1.2560e-01  7.6310e-01  7.1800e-01  1.3485e+00 -1.3775e+00\n",
      "  -3.0310e-01  9.1120e-01  1.0564e+00 -1.1539e+00 -7.0930e-01  1.5005e+00\n",
      "   1.2946e+00 -7.8870e-01  3.6700e-01  2.3730e-01  1.1595e+00 -1.7580e-01\n",
      "  -5.3920e-01  5.0960e-01  2.6940e+00 -2.9871e+00  1.0000e-04  2.9642e+00\n",
      "  -1.0901e+00 -1.9310e-01  1.5095e+00 -2.2924e+00  6.5110e-01 -1.3014e+00\n",
      "  -8.8390e-01 -2.3630e-01 -1.1278e+00  7.6500e-02 -1.9770e-01  1.3100e-01\n",
      "   6.3752e+00 -3.4000e-03 -6.0119e+00  3.4000e-03 -3.6000e-03 -4.7700e-02\n",
      "  -5.2800e-02  2.7365e+00  4.2670e-01  2.4700e-02 -1.7540e-01  2.7910e-01\n",
      "  -1.7900e-02  1.0822e+00  1.2256e+00 -2.6509e+00 -1.4410e-01 -3.3800e-02\n",
      "  -2.3400e-02 -2.9933e+00  1.8402e+00 -8.3780e-01 -5.6290e-01  7.1900e-01\n",
      "  -2.2060e-01 -5.8940e-01  1.2811e+00 -4.4800e-01 -2.4700e-02 -1.6050e-01\n",
      "   1.2638e+00 -2.6480e-01 -1.4634e+00 -1.4222e+00 -2.0020e+00  2.4630e+00]] \n",
      "\n",
      "Mean loss (reduced set of indicators): 5.3233445138595075\n",
      "The average size of the first ten coefficients (reduced set of indicators): [[ 5.08300000e-01 -9.75000000e-02  8.48000000e-02 -1.08000000e-02\n",
      "  -1.89000000e-01  4.97150000e+00  4.17160000e+00  6.74000000e-01\n",
      "  -3.33200000e-01  7.79000000e-02 -9.03000000e-02  2.23439000e+01\n",
      "  -3.74025000e+01 -6.69590000e+00  3.90860000e+00 -1.99220000e+00\n",
      "   2.04980000e+00 -6.22300000e+00  2.75160000e+00 -1.51450000e+00\n",
      "  -6.50800000e-01  1.68120000e+00  8.43000000e-02 -8.07200000e-01\n",
      "   1.16900000e-01 -1.23300000e+00  5.72000000e-02  3.82800000e-01\n",
      "   7.25500000e-01 -5.09900000e-01 -3.10100000e-01  2.75000000e-02\n",
      "   2.64360000e+00 -1.81840000e+00 -1.60441580e+10  3.40800000e-01\n",
      "   9.10000000e-02 -8.85000000e-02  2.29500000e-01  4.15000000e-02\n",
      "   1.47500000e-01  1.04700000e-01 -1.47000000e-02 -3.43200000e-01\n",
      "  -3.30000000e-03  4.06400000e-01  4.10000000e-03  2.40500000e-01\n",
      "   1.83700000e-01 -2.33500000e-01  1.16300000e-01  2.14600000e-01\n",
      "  -5.57691143e+11  1.30456180e+12  3.95897509e+11 -3.04133671e+11\n",
      "   3.33117395e+11 -2.53483219e+11  2.74419401e+11 -2.08048093e+11\n",
      "   5.43795099e+11  5.29379316e+11 -1.00324007e+12 -1.14995392e+12\n",
      "   3.93304465e+11  3.63942962e+11  2.83497892e+11  3.47705268e+11\n",
      "   2.90751502e+11  3.99263758e+11  2.74204527e+11  3.30186791e+11\n",
      "   2.81714693e+11  3.41523451e+11  3.31707926e+11  3.68686637e+11\n",
      "   3.84376154e+11  4.01917343e+11  4.49007416e+11  4.48747718e+11\n",
      "   4.57263477e+11  4.35829491e+11 -5.89636404e+11  3.70469036e+11\n",
      "   2.36843892e+11 -2.26118555e+10  2.10682987e+11 -1.94506793e+10\n",
      "   1.71474369e+11 -1.36548890e+10  3.04188873e+11 -1.83488358e+10\n",
      "  -1.98000000e-01  4.45000000e-02 -3.65772453e+11 -3.65772453e+11\n",
      "   7.15000000e-02  1.49264953e+10  8.90157799e+09  1.35840000e+00\n",
      "   4.56155343e+09 -1.75400000e-01 -1.48000000e-02 -1.11685210e+03\n",
      "  -1.86118200e+02  1.77000000e-02  2.52000000e-02  2.57000000e-02\n",
      "  -2.37610000e+00  1.74830000e+00 -6.34700000e-01 -4.59300000e-01\n",
      "   1.60200000e-01  4.99700000e-01  4.56155343e+09  7.50000000e-02\n",
      "   5.04040100e+02 -3.28065500e+02 -6.19040700e+02 -5.01770500e+02]]\n"
     ]
    }
   ],
   "source": [
    "# For the full dense indicator data\n",
    "loss_list, mean_loss, coef_list, avg_coefs = utils.n_fold_ceval(2000, wb_data, whr_data, test_size, scaling=\"standardize\", reg_model=least_squares)\n",
    "print(\"Mean loss (full set of indicators):\", mean_loss)\n",
    "print(\"The average size of the first ten coefficients ((full set of indicators)):\", avg_coefs[:10], \"\\n\")\n",
    "\n",
    "loss_list, mean_loss, coef_list, avg_coefs = utils.n_fold_ceval(2000, wb_data_short, whr_data, test_size, scaling=\"standardize\", reg_model=least_squares)\n",
    "print(\"Mean loss (reduced set of indicators):\", mean_loss)\n",
    "print(\"The average size of the first ten coefficients (reduced set of indicators):\", avg_coefs[:10])"
   ]
  },
  {
   "cell_type": "markdown",
   "metadata": {},
   "source": [
    "### Conclusion for standardization/normalization\n",
    "Both methods seem to worsen mean loss for the regression on the full dataset. However, they don't change the mean loss significantly for the dataset containing the manually reduced set of indicators.  \n",
    "Therefore, we will from now on normalize the data in order to make the resulting regression coefficients more interpretable."
   ]
  }
 ],
 "metadata": {
  "kernelspec": {
   "display_name": "Python 3",
   "language": "python",
   "name": "python3"
  },
  "language_info": {
   "codemirror_mode": {
    "name": "ipython",
    "version": 3
   },
   "file_extension": ".py",
   "mimetype": "text/x-python",
   "name": "python",
   "nbconvert_exporter": "python",
   "pygments_lexer": "ipython3",
   "version": "3.8.10"
  }
 },
 "nbformat": 4,
 "nbformat_minor": 4
}
