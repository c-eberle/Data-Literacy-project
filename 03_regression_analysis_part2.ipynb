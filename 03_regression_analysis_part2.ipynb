{
 "cells": [
  {
   "cell_type": "markdown",
   "metadata": {},
   "source": [
    "# Notebook 3: Dealing with Multicolinearity"
   ]
  },
  {
   "cell_type": "code",
   "execution_count": 9,
   "metadata": {},
   "outputs": [],
   "source": [
    "%matplotlib inline\n",
    "import numpy as np\n",
    "import matplotlib.pyplot as plt\n",
    "import os\n",
    "import tqdm\n",
    "import glob\n",
    "import pandas as pd\n",
    "import sklearn\n",
    "from src import ana_utils as utils\n",
    "import collections\n",
    "\n",
    "#np.set_printoptions(suppress=True)\n",
    "from sklearn.linear_model import LinearRegression\n",
    "\n",
    "np.random.seed(7)"
   ]
  },
  {
   "cell_type": "markdown",
   "metadata": {},
   "source": [
    "Import datasets that were preprocessed in Notebook 1"
   ]
  },
  {
   "cell_type": "code",
   "execution_count": 10,
   "metadata": {},
   "outputs": [],
   "source": [
    "wb_data = pd.read_csv(\"data/wb_data.csv\", index_col=\"Country Name\")\n",
    "wb_data_short = pd.read_csv(\"data/wb_data_short.csv\", index_col=\"Country Name\")\n",
    "whr_data = pd.read_csv(\"data/whr_data.csv\", index_col=\"Country name\")\n",
    "\n",
    "# sort by index\n",
    "wb_data.sort_index(inplace=True)\n",
    "wb_data_short.sort_index(inplace=True)\n",
    "whr_data.sort_index(inplace=True)\n",
    "\n",
    "# drop everything but life satisfaction ladder score from whr data\n",
    "whr_scores = whr_data[\"Ladder score\"]"
   ]
  },
  {
   "cell_type": "markdown",
   "metadata": {},
   "source": [
    "### Pearson correlation coefficient analysis\n",
    "\n",
    "First, we wanted to get an impression of the amount of multicolinearity present in the data. Therefore, we looked at the correlation coefficient of each indicator pair."
   ]
  },
  {
   "cell_type": "code",
   "execution_count": 11,
   "metadata": {},
   "outputs": [
    {
     "data": {
      "text/plain": [
       "'Population ages 10-14, female (% of female population)'"
      ]
     },
     "execution_count": 11,
     "metadata": {},
     "output_type": "execute_result"
    }
   ],
   "source": [
    "import scipy.stats\n",
    "\n",
    "indicator_corr = wb_data.corr(method=\"pearson\")\n",
    "#indicator_corr\n",
    "#indicator_corr[indicator_corr>0.8]\n",
    "\n",
    "#We build a function that prints all correlated pairs above a certain threshold\n",
    "threshold = 0.85\n",
    "corr_dict = utils.corr_counter(indicator_corr)\n",
    "\n",
    "corr_dict_sorted = sorted(corr_dict.items(), key=lambda x: x[1], reverse=True) \n",
    "\n",
    "#corr_dict_sorted\n",
    "#indicators_sorted_by_corr = sorted(corr_dict, key=corr_dict.get)\n",
    "\n",
    "#TODO ? visualize\n",
    "max(corr_dict, key=corr_dict.get)"
   ]
  },
  {
   "cell_type": "code",
   "execution_count": 13,
   "metadata": {},
   "outputs": [
    {
     "data": {
      "text/plain": [
       "Index(['Adjusted savings: energy depletion (current US$)',\n",
       "       'Adjusted savings: mineral depletion (current US$)',\n",
       "       'Contributing family workers, male (% of male employment) (modeled ILO estimate)',\n",
       "       'Employers, female (% of female employment) (modeled ILO estimate)',\n",
       "       'Employers, male (% of male employment) (modeled ILO estimate)',\n",
       "       'Employers, total (% of total employment) (modeled ILO estimate)',\n",
       "       'Employment in industry, female (% of female employment) (modeled ILO estimate)',\n",
       "       'Incidence of tuberculosis (per 100,000 people)',\n",
       "       'Labor force participation rate for ages 15-24, male (%) (modeled ILO estimate)',\n",
       "       'Labor force participation rate, total (% of total population ages 15-64) (modeled ILO estimate)',\n",
       "       'Labor force, total', 'Land area (sq. km)',\n",
       "       'Lower secondary school starting age (years)',\n",
       "       'Merchandise exports by the reporting economy, residual (% of total merchandise exports)',\n",
       "       'Merchandise exports to economies in the Arab World (% of total merchandise exports)',\n",
       "       'Merchandise exports to low- and middle-income economies in East Asia & Pacific (% of total merchandise exports)',\n",
       "       'Merchandise exports to low- and middle-income economies in South Asia (% of total merchandise exports)',\n",
       "       'Merchandise exports to low- and middle-income economies outside region (% of total merchandise exports)',\n",
       "       'Merchandise imports by the reporting economy, residual (% of total merchandise imports)',\n",
       "       'Merchandise imports from low- and middle-income economies in East Asia & Pacific (% of total merchandise imports)',\n",
       "       'Merchandise imports from low- and middle-income economies in Europe & Central Asia (% of total merchandise imports)',\n",
       "       'Merchandise imports from low- and middle-income economies in Latin America & the Caribbean (% of total merchandise imports)',\n",
       "       'Merchandise imports from low- and middle-income economies in South Asia (% of total merchandise imports)',\n",
       "       'Merchandise imports from low- and middle-income economies in Sub-Saharan Africa (% of total merchandise imports)',\n",
       "       'Merchandise imports from low- and middle-income economies outside region (% of total merchandise imports)',\n",
       "       'Population ages 25-29, male (% of male population)',\n",
       "       'Population ages 30-34, male (% of male population)',\n",
       "       'Population ages 65 and above, male',\n",
       "       'Population density (people per sq. km of land area)',\n",
       "       'Population, female (% of total population)',\n",
       "       'Primary education, duration (years)',\n",
       "       'Primary school starting age (years)', 'Rural population',\n",
       "       'Secondary education, duration (years)', 'Secure Internet servers',\n",
       "       'Secure Internet servers (per 1 million people)',\n",
       "       'Statistical performance indicators (SPI): Pillar 1 data use score (scale 0-100)',\n",
       "       'Statistical performance indicators (SPI): Pillar 3 data products score  (scale 0-100)',\n",
       "       'Unemployment, youth male (% of male labor force ages 15-24) (modeled ILO estimate)',\n",
       "       'Unemployment, youth total (% of total labor force ages 15-24) (modeled ILO estimate)'],\n",
       "      dtype='object')"
      ]
     },
     "execution_count": 13,
     "metadata": {},
     "output_type": "execute_result"
    }
   ],
   "source": [
    "def pearsons_reduction(data, target_size): \n",
    "    reduced_data = data.copy(deep=True)\n",
    "    remove_limit = len(data.columns) - target_size\n",
    "    \n",
    "    for i in range(0, remove_limit):\n",
    "        indicator_corr = reduced_data.corr(method=\"pearson\")\n",
    "        corr_dict = utils.corr_counter(indicator_corr)\n",
    "\n",
    "        most_correlated_indicator = max(corr_dict, key=corr_dict.get)\n",
    "        #print(max(corr_dict.values()))\n",
    "        reduced_data.drop(columns=most_correlated_indicator, inplace=True)\n",
    "\n",
    "    return reduced_data\n",
    "\n",
    "reduced_wb_data = pearsons_reduction(wb_data, 40)\n",
    "reduced_wb_data.columns"
   ]
  },
  {
   "cell_type": "markdown",
   "metadata": {},
   "source": [
    "#Upon further research, we find that instead of removing redundancies"
   ]
  },
  {
   "cell_type": "code",
   "execution_count": 14,
   "metadata": {},
   "outputs": [
    {
     "name": "stderr",
     "output_type": "stream",
     "text": [
      "c:\\Users\\samue\\Documents\\GitHub\\Data-Literacy-project\\src\\ana_utils.py:26: RuntimeWarning: divide by zero encountered in double_scalars\n",
      "  vif = 1/(1 - r_squared)\n",
      "c:\\Users\\samue\\Documents\\GitHub\\Data-Literacy-project\\src\\ana_utils.py:26: RuntimeWarning: divide by zero encountered in double_scalars\n",
      "  vif = 1/(1 - r_squared)\n",
      "c:\\Users\\samue\\Documents\\GitHub\\Data-Literacy-project\\src\\ana_utils.py:26: RuntimeWarning: divide by zero encountered in double_scalars\n",
      "  vif = 1/(1 - r_squared)\n",
      "c:\\Users\\samue\\Documents\\GitHub\\Data-Literacy-project\\src\\ana_utils.py:26: RuntimeWarning: divide by zero encountered in double_scalars\n",
      "  vif = 1/(1 - r_squared)\n",
      "c:\\Users\\samue\\Documents\\GitHub\\Data-Literacy-project\\src\\ana_utils.py:26: RuntimeWarning: divide by zero encountered in double_scalars\n",
      "  vif = 1/(1 - r_squared)\n",
      "c:\\Users\\samue\\Documents\\GitHub\\Data-Literacy-project\\src\\ana_utils.py:26: RuntimeWarning: divide by zero encountered in double_scalars\n",
      "  vif = 1/(1 - r_squared)\n",
      "c:\\Users\\samue\\Documents\\GitHub\\Data-Literacy-project\\src\\ana_utils.py:26: RuntimeWarning: divide by zero encountered in double_scalars\n",
      "  vif = 1/(1 - r_squared)\n",
      "c:\\Users\\samue\\Documents\\GitHub\\Data-Literacy-project\\src\\ana_utils.py:26: RuntimeWarning: divide by zero encountered in double_scalars\n",
      "  vif = 1/(1 - r_squared)\n",
      "c:\\Users\\samue\\Documents\\GitHub\\Data-Literacy-project\\src\\ana_utils.py:26: RuntimeWarning: divide by zero encountered in double_scalars\n",
      "  vif = 1/(1 - r_squared)\n",
      "c:\\Users\\samue\\Documents\\GitHub\\Data-Literacy-project\\src\\ana_utils.py:26: RuntimeWarning: divide by zero encountered in double_scalars\n",
      "  vif = 1/(1 - r_squared)\n",
      "c:\\Users\\samue\\Documents\\GitHub\\Data-Literacy-project\\src\\ana_utils.py:26: RuntimeWarning: divide by zero encountered in double_scalars\n",
      "  vif = 1/(1 - r_squared)\n",
      "c:\\Users\\samue\\Documents\\GitHub\\Data-Literacy-project\\src\\ana_utils.py:26: RuntimeWarning: divide by zero encountered in double_scalars\n",
      "  vif = 1/(1 - r_squared)\n",
      "c:\\Users\\samue\\Documents\\GitHub\\Data-Literacy-project\\src\\ana_utils.py:26: RuntimeWarning: divide by zero encountered in double_scalars\n",
      "  vif = 1/(1 - r_squared)\n",
      "c:\\Users\\samue\\Documents\\GitHub\\Data-Literacy-project\\src\\ana_utils.py:26: RuntimeWarning: divide by zero encountered in double_scalars\n",
      "  vif = 1/(1 - r_squared)\n",
      "c:\\Users\\samue\\Documents\\GitHub\\Data-Literacy-project\\src\\ana_utils.py:26: RuntimeWarning: divide by zero encountered in double_scalars\n",
      "  vif = 1/(1 - r_squared)\n",
      "c:\\Users\\samue\\Documents\\GitHub\\Data-Literacy-project\\src\\ana_utils.py:26: RuntimeWarning: divide by zero encountered in double_scalars\n",
      "  vif = 1/(1 - r_squared)\n",
      "c:\\Users\\samue\\Documents\\GitHub\\Data-Literacy-project\\src\\ana_utils.py:26: RuntimeWarning: divide by zero encountered in double_scalars\n",
      "  vif = 1/(1 - r_squared)\n",
      "c:\\Users\\samue\\Documents\\GitHub\\Data-Literacy-project\\src\\ana_utils.py:26: RuntimeWarning: divide by zero encountered in double_scalars\n",
      "  vif = 1/(1 - r_squared)\n",
      "c:\\Users\\samue\\Documents\\GitHub\\Data-Literacy-project\\src\\ana_utils.py:26: RuntimeWarning: divide by zero encountered in double_scalars\n",
      "  vif = 1/(1 - r_squared)\n",
      "c:\\Users\\samue\\Documents\\GitHub\\Data-Literacy-project\\src\\ana_utils.py:26: RuntimeWarning: divide by zero encountered in double_scalars\n",
      "  vif = 1/(1 - r_squared)\n",
      "c:\\Users\\samue\\Documents\\GitHub\\Data-Literacy-project\\src\\ana_utils.py:26: RuntimeWarning: divide by zero encountered in double_scalars\n",
      "  vif = 1/(1 - r_squared)\n",
      "c:\\Users\\samue\\Documents\\GitHub\\Data-Literacy-project\\src\\ana_utils.py:26: RuntimeWarning: divide by zero encountered in double_scalars\n",
      "  vif = 1/(1 - r_squared)\n",
      "c:\\Users\\samue\\Documents\\GitHub\\Data-Literacy-project\\src\\ana_utils.py:26: RuntimeWarning: divide by zero encountered in double_scalars\n",
      "  vif = 1/(1 - r_squared)\n",
      "c:\\Users\\samue\\Documents\\GitHub\\Data-Literacy-project\\src\\ana_utils.py:26: RuntimeWarning: divide by zero encountered in double_scalars\n",
      "  vif = 1/(1 - r_squared)\n",
      "c:\\Users\\samue\\Documents\\GitHub\\Data-Literacy-project\\src\\ana_utils.py:26: RuntimeWarning: divide by zero encountered in double_scalars\n",
      "  vif = 1/(1 - r_squared)\n",
      "c:\\Users\\samue\\Documents\\GitHub\\Data-Literacy-project\\src\\ana_utils.py:26: RuntimeWarning: divide by zero encountered in double_scalars\n",
      "  vif = 1/(1 - r_squared)\n",
      "c:\\Users\\samue\\Documents\\GitHub\\Data-Literacy-project\\src\\ana_utils.py:26: RuntimeWarning: divide by zero encountered in double_scalars\n",
      "  vif = 1/(1 - r_squared)\n",
      "c:\\Users\\samue\\Documents\\GitHub\\Data-Literacy-project\\src\\ana_utils.py:26: RuntimeWarning: divide by zero encountered in double_scalars\n",
      "  vif = 1/(1 - r_squared)\n",
      "c:\\Users\\samue\\Documents\\GitHub\\Data-Literacy-project\\src\\ana_utils.py:26: RuntimeWarning: divide by zero encountered in double_scalars\n",
      "  vif = 1/(1 - r_squared)\n",
      "c:\\Users\\samue\\Documents\\GitHub\\Data-Literacy-project\\src\\ana_utils.py:26: RuntimeWarning: divide by zero encountered in double_scalars\n",
      "  vif = 1/(1 - r_squared)\n",
      "c:\\Users\\samue\\Documents\\GitHub\\Data-Literacy-project\\src\\ana_utils.py:26: RuntimeWarning: divide by zero encountered in double_scalars\n",
      "  vif = 1/(1 - r_squared)\n",
      "c:\\Users\\samue\\Documents\\GitHub\\Data-Literacy-project\\src\\ana_utils.py:26: RuntimeWarning: divide by zero encountered in double_scalars\n",
      "  vif = 1/(1 - r_squared)\n",
      "c:\\Users\\samue\\Documents\\GitHub\\Data-Literacy-project\\src\\ana_utils.py:26: RuntimeWarning: divide by zero encountered in double_scalars\n",
      "  vif = 1/(1 - r_squared)\n",
      "c:\\Users\\samue\\Documents\\GitHub\\Data-Literacy-project\\src\\ana_utils.py:26: RuntimeWarning: divide by zero encountered in double_scalars\n",
      "  vif = 1/(1 - r_squared)\n",
      "c:\\Users\\samue\\Documents\\GitHub\\Data-Literacy-project\\src\\ana_utils.py:26: RuntimeWarning: divide by zero encountered in double_scalars\n",
      "  vif = 1/(1 - r_squared)\n",
      "c:\\Users\\samue\\Documents\\GitHub\\Data-Literacy-project\\src\\ana_utils.py:26: RuntimeWarning: divide by zero encountered in double_scalars\n",
      "  vif = 1/(1 - r_squared)\n",
      "c:\\Users\\samue\\Documents\\GitHub\\Data-Literacy-project\\src\\ana_utils.py:26: RuntimeWarning: divide by zero encountered in double_scalars\n",
      "  vif = 1/(1 - r_squared)\n",
      "c:\\Users\\samue\\Documents\\GitHub\\Data-Literacy-project\\src\\ana_utils.py:26: RuntimeWarning: divide by zero encountered in double_scalars\n",
      "  vif = 1/(1 - r_squared)\n",
      "c:\\Users\\samue\\Documents\\GitHub\\Data-Literacy-project\\src\\ana_utils.py:26: RuntimeWarning: divide by zero encountered in double_scalars\n",
      "  vif = 1/(1 - r_squared)\n",
      "c:\\Users\\samue\\Documents\\GitHub\\Data-Literacy-project\\src\\ana_utils.py:26: RuntimeWarning: divide by zero encountered in double_scalars\n",
      "  vif = 1/(1 - r_squared)\n"
     ]
    },
    {
     "name": "stdout",
     "output_type": "stream",
     "text": [
      "(150, 30)\n"
     ]
    }
   ],
   "source": [
    "\n",
    "def vif_reduction(data, drop_batch, target_size):\n",
    "    reduced_data = data.copy(deep=True)\n",
    "    iterations = round((len(data.columns) - target_size) / drop_batch)\n",
    "    \n",
    "    for i in range(0, iterations):\n",
    "        wb_vif = utils.sklearn_vif(reduced_data.columns, reduced_data)\n",
    "\n",
    "        drop_list = list(wb_vif[\"VIF\"].sort_values()[-drop_batch:].index)\n",
    "        reduced_data.drop(columns=drop_list, inplace=True)\n",
    "\n",
    "    return reduced_data\n",
    "\n",
    "wb_data_vif_red = vif_reduction(wb_data, 1, 30)\n",
    "print(wb_data_vif_red.shape)"
   ]
  },
  {
   "cell_type": "code",
   "execution_count": null,
   "metadata": {},
   "outputs": [
    {
     "name": "stderr",
     "output_type": "stream",
     "text": [
      "c:\\Users\\samue\\Documents\\GitHub\\Data-Literacy-project\\src\\ana_utils.py:26: RuntimeWarning: divide by zero encountered in double_scalars\n",
      "  vif = 1/(1 - r_squared)\n",
      "c:\\Users\\samue\\Documents\\GitHub\\Data-Literacy-project\\src\\ana_utils.py:26: RuntimeWarning: divide by zero encountered in double_scalars\n",
      "  vif = 1/(1 - r_squared)\n",
      "c:\\Users\\samue\\Documents\\GitHub\\Data-Literacy-project\\src\\ana_utils.py:26: RuntimeWarning: divide by zero encountered in double_scalars\n",
      "  vif = 1/(1 - r_squared)\n",
      "c:\\Users\\samue\\Documents\\GitHub\\Data-Literacy-project\\src\\ana_utils.py:26: RuntimeWarning: divide by zero encountered in double_scalars\n",
      "  vif = 1/(1 - r_squared)\n",
      "c:\\Users\\samue\\Documents\\GitHub\\Data-Literacy-project\\src\\ana_utils.py:26: RuntimeWarning: divide by zero encountered in double_scalars\n",
      "  vif = 1/(1 - r_squared)\n",
      "c:\\Users\\samue\\Documents\\GitHub\\Data-Literacy-project\\src\\ana_utils.py:26: RuntimeWarning: divide by zero encountered in double_scalars\n",
      "  vif = 1/(1 - r_squared)\n",
      "c:\\Users\\samue\\Documents\\GitHub\\Data-Literacy-project\\src\\ana_utils.py:26: RuntimeWarning: divide by zero encountered in double_scalars\n",
      "  vif = 1/(1 - r_squared)\n",
      "c:\\Users\\samue\\Documents\\GitHub\\Data-Literacy-project\\src\\ana_utils.py:26: RuntimeWarning: divide by zero encountered in double_scalars\n",
      "  vif = 1/(1 - r_squared)\n",
      "c:\\Users\\samue\\Documents\\GitHub\\Data-Literacy-project\\src\\ana_utils.py:26: RuntimeWarning: divide by zero encountered in double_scalars\n",
      "  vif = 1/(1 - r_squared)\n",
      "c:\\Users\\samue\\Documents\\GitHub\\Data-Literacy-project\\src\\ana_utils.py:26: RuntimeWarning: divide by zero encountered in double_scalars\n",
      "  vif = 1/(1 - r_squared)\n",
      "c:\\Users\\samue\\Documents\\GitHub\\Data-Literacy-project\\src\\ana_utils.py:26: RuntimeWarning: divide by zero encountered in double_scalars\n",
      "  vif = 1/(1 - r_squared)\n",
      "c:\\Users\\samue\\Documents\\GitHub\\Data-Literacy-project\\src\\ana_utils.py:26: RuntimeWarning: divide by zero encountered in double_scalars\n",
      "  vif = 1/(1 - r_squared)\n",
      "c:\\Users\\samue\\Documents\\GitHub\\Data-Literacy-project\\src\\ana_utils.py:26: RuntimeWarning: divide by zero encountered in double_scalars\n",
      "  vif = 1/(1 - r_squared)\n",
      "c:\\Users\\samue\\Documents\\GitHub\\Data-Literacy-project\\src\\ana_utils.py:26: RuntimeWarning: divide by zero encountered in double_scalars\n",
      "  vif = 1/(1 - r_squared)\n",
      "c:\\Users\\samue\\Documents\\GitHub\\Data-Literacy-project\\src\\ana_utils.py:26: RuntimeWarning: divide by zero encountered in double_scalars\n",
      "  vif = 1/(1 - r_squared)\n",
      "c:\\Users\\samue\\Documents\\GitHub\\Data-Literacy-project\\src\\ana_utils.py:26: RuntimeWarning: divide by zero encountered in double_scalars\n",
      "  vif = 1/(1 - r_squared)\n",
      "c:\\Users\\samue\\Documents\\GitHub\\Data-Literacy-project\\src\\ana_utils.py:26: RuntimeWarning: divide by zero encountered in double_scalars\n",
      "  vif = 1/(1 - r_squared)\n",
      "c:\\Users\\samue\\Documents\\GitHub\\Data-Literacy-project\\src\\ana_utils.py:26: RuntimeWarning: divide by zero encountered in double_scalars\n",
      "  vif = 1/(1 - r_squared)\n",
      "c:\\Users\\samue\\Documents\\GitHub\\Data-Literacy-project\\src\\ana_utils.py:26: RuntimeWarning: divide by zero encountered in double_scalars\n",
      "  vif = 1/(1 - r_squared)\n",
      "c:\\Users\\samue\\Documents\\GitHub\\Data-Literacy-project\\src\\ana_utils.py:26: RuntimeWarning: divide by zero encountered in double_scalars\n",
      "  vif = 1/(1 - r_squared)\n",
      "c:\\Users\\samue\\Documents\\GitHub\\Data-Literacy-project\\src\\ana_utils.py:26: RuntimeWarning: divide by zero encountered in double_scalars\n",
      "  vif = 1/(1 - r_squared)\n",
      "c:\\Users\\samue\\Documents\\GitHub\\Data-Literacy-project\\src\\ana_utils.py:26: RuntimeWarning: divide by zero encountered in double_scalars\n",
      "  vif = 1/(1 - r_squared)\n",
      "c:\\Users\\samue\\Documents\\GitHub\\Data-Literacy-project\\src\\ana_utils.py:26: RuntimeWarning: divide by zero encountered in double_scalars\n",
      "  vif = 1/(1 - r_squared)\n",
      "c:\\Users\\samue\\Documents\\GitHub\\Data-Literacy-project\\src\\ana_utils.py:26: RuntimeWarning: divide by zero encountered in double_scalars\n",
      "  vif = 1/(1 - r_squared)\n"
     ]
    }
   ],
   "source": [
    "#utils.sklearn_vif(wb_data_cc.columns, wb_data_cc)\n",
    "wb_vif = utils.sklearn_vif(wb_data.columns, wb_data)\n",
    "drop_list = list(wb_vif[\"VIF\"].sort_values()[15:156].index)\n",
    "wb_data_cc = wb_data.drop(columns=drop_list)"
   ]
  },
  {
   "cell_type": "code",
   "execution_count": null,
   "metadata": {},
   "outputs": [],
   "source": [
    "# lets remove sex ratio lol\n",
    "#wb_data_cc = wb_data_cc.drop(\"Sex ratio at birth (male births per female births)\", axis=1)"
   ]
  },
  {
   "cell_type": "code",
   "execution_count": null,
   "metadata": {},
   "outputs": [],
   "source": [
    "wb_data = reduced_wb_data.columns"
   ]
  },
  {
   "cell_type": "code",
   "execution_count": 19,
   "metadata": {},
   "outputs": [
    {
     "name": "stdout",
     "output_type": "stream",
     "text": [
      "Mean loss: 0.5816086471941693\n",
      "The average size of the first ten coefficients: [ 0.7227  0.6964 -4.6883  0.3217 -4.5571 -1.4024  5.0134  0.2237 -3.8794\n",
      " -2.4633]\n"
     ]
    }
   ],
   "source": [
    "# For the full dense indicator data\n",
    "loss_list, mean_loss, coef_list, avg_coefs = utils.n_fold_ceval(5000, wb_data_vif_red, whr_scores, 1, \"normalize\")\n",
    "\n",
    "print(\"Mean loss:\", mean_loss)\n",
    "print(\"The average size of the first ten coefficients:\", avg_coefs[:10])"
   ]
  }
 ],
 "metadata": {
  "kernelspec": {
   "display_name": "Python 3",
   "language": "python",
   "name": "python3"
  },
  "language_info": {
   "codemirror_mode": {
    "name": "ipython",
    "version": 3
   },
   "file_extension": ".py",
   "mimetype": "text/x-python",
   "name": "python",
   "nbconvert_exporter": "python",
   "pygments_lexer": "ipython3",
   "version": "3.8.8"
  }
 },
 "nbformat": 4,
 "nbformat_minor": 4
}
