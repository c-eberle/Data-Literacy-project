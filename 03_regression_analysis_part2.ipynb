{
 "cells": [
  {
   "cell_type": "markdown",
   "metadata": {},
   "source": [
    "# Notebook 3: Dealing with Multicolinearity"
   ]
  },
  {
   "cell_type": "code",
   "execution_count": 1,
   "metadata": {},
   "outputs": [],
   "source": [
    "%matplotlib inline\n",
    "import numpy as np\n",
    "import matplotlib.pyplot as plt\n",
    "import os\n",
    "import tqdm\n",
    "import glob\n",
    "import pandas as pd\n",
    "import sklearn\n",
    "from src import ana_utils as utils\n",
    "import collections\n",
    "\n",
    "#np.set_printoptions(suppress=True)\n",
    "from sklearn.linear_model import LinearRegression\n",
    "\n",
    "np.random.seed(7)"
   ]
  },
  {
   "cell_type": "markdown",
   "metadata": {},
   "source": [
    "Import datasets that were preprocessed in Notebook 1"
   ]
  },
  {
   "cell_type": "code",
   "execution_count": 2,
   "metadata": {},
   "outputs": [],
   "source": [
    "wb_data = pd.read_csv(\"data/wb_data.csv\", index_col=\"Country Name\")\n",
    "wb_data_short = pd.read_csv(\"data/wb_data_short.csv\", index_col=\"Country Name\")\n",
    "whr_data = pd.read_csv(\"data/whr_data.csv\", index_col=\"Country name\")\n",
    "\n",
    "# sort by index\n",
    "wb_data.sort_index(inplace=True)\n",
    "wb_data_short.sort_index(inplace=True)\n",
    "whr_data.sort_index(inplace=True)\n",
    "\n",
    "# drop everything but life satisfaction ladder score from whr data\n",
    "whr_scores = whr_data[\"Ladder score\"]"
   ]
  },
  {
   "cell_type": "markdown",
   "metadata": {},
   "source": [
    "### Pearson correlation coefficient analysis\n",
    "\n",
    "First, we wanted to get an impression of the amount of multicolinearity present in the data. Therefore, we looked at the correlation coefficient of each indicator pair."
   ]
  },
  {
   "cell_type": "code",
   "execution_count": 15,
   "metadata": {},
   "outputs": [
    {
     "data": {
      "text/plain": [
       "[('Adjusted savings: energy depletion (current US$)', 0),\n",
       " ('Adjusted savings: mineral depletion (current US$)', 0),\n",
       " ('Death rate, crude (per 1,000 people)', 0),\n",
       " ('Employment in industry, female (% of female employment) (modeled ILO estimate)',\n",
       "  0),\n",
       " ('Incidence of tuberculosis (per 100,000 people)', 0),\n",
       " ('Labor force participation rate, male (% of male population ages 15-64) (modeled ILO estimate)',\n",
       "  0),\n",
       " ('Land area (sq. km)', 0),\n",
       " ('Lower secondary school starting age (years)', 0),\n",
       " ('Merchandise exports by the reporting economy, residual (% of total merchandise exports)',\n",
       "  0),\n",
       " ('Merchandise exports to economies in the Arab World (% of total merchandise exports)',\n",
       "  0),\n",
       " ('Merchandise exports to high-income economies (% of total merchandise exports)',\n",
       "  0),\n",
       " ('Merchandise exports to low- and middle-income economies in East Asia & Pacific (% of total merchandise exports)',\n",
       "  0),\n",
       " ('Merchandise exports to low- and middle-income economies in Europe & Central Asia (% of total merchandise exports)',\n",
       "  0),\n",
       " ('Merchandise exports to low- and middle-income economies in South Asia (% of total merchandise exports)',\n",
       "  0),\n",
       " ('Merchandise exports to low- and middle-income economies outside region (% of total merchandise exports)',\n",
       "  0),\n",
       " ('Merchandise imports by the reporting economy, residual (% of total merchandise imports)',\n",
       "  0),\n",
       " ('Merchandise imports from high-income economies (% of total merchandise imports)',\n",
       "  0),\n",
       " ('Merchandise imports from low- and middle-income economies in East Asia & Pacific (% of total merchandise imports)',\n",
       "  0),\n",
       " ('Merchandise imports from low- and middle-income economies in Europe & Central Asia (% of total merchandise imports)',\n",
       "  0),\n",
       " ('Merchandise imports from low- and middle-income economies in Latin America & the Caribbean (% of total merchandise imports)',\n",
       "  0),\n",
       " ('Merchandise imports from low- and middle-income economies in South Asia (% of total merchandise imports)',\n",
       "  0),\n",
       " ('Merchandise imports from low- and middle-income economies in Sub-Saharan Africa (% of total merchandise imports)',\n",
       "  0),\n",
       " ('Merchandise imports from low- and middle-income economies outside region (% of total merchandise imports)',\n",
       "  0),\n",
       " ('Population ages 25-29, female (% of female population)', 0),\n",
       " ('Population ages 25-29, male (% of male population)', 0),\n",
       " ('Population density (people per sq. km of land area)', 0),\n",
       " ('Population, female (% of total population)', 0),\n",
       " ('Population, male (% of total population)', 0),\n",
       " ('Primary education, duration (years)', 0),\n",
       " ('Primary school starting age (years)', 0),\n",
       " ('Rural population (% of total population)', 0),\n",
       " ('Secondary education, duration (years)', 0),\n",
       " ('Secure Internet servers', 0),\n",
       " ('Secure Internet servers (per 1 million people)', 0),\n",
       " ('Sex ratio at birth (male births per female births)', 0),\n",
       " ('Statistical performance indicators (SPI): Pillar 1 data use score (scale 0-100)',\n",
       "  0),\n",
       " ('Statistical performance indicators (SPI): Pillar 3 data products score  (scale 0-100)',\n",
       "  0),\n",
       " ('Urban population (% of total population)', 0),\n",
       " ('Access to electricity, urban (% of urban population)', 1),\n",
       " ('Access to electricity (% of population)', 1),\n",
       " ('Age dependency ratio, young (% of working-age population)', 1),\n",
       " ('Employment in industry, male (% of male employment) (modeled ILO estimate)',\n",
       "  1),\n",
       " ('Employment in industry (% of total employment) (modeled ILO estimate)', 1),\n",
       " ('Labor force participation rate, male (% of male population ages 15+) (modeled ILO estimate)',\n",
       "  1),\n",
       " ('Employment to population ratio, 15+, male (%) (modeled ILO estimate)', 1),\n",
       " ('Merchandise imports by the reporting economy (current US$)', 1),\n",
       " ('Merchandise exports by the reporting economy (current US$)', 1),\n",
       " ('Population ages 30-34, male (% of male population)', 1),\n",
       " ('Population ages 30-34, female (% of female population)', 1),\n",
       " ('Population ages 35-39, male (% of male population)', 1),\n",
       " ('Population ages 35-39, female (% of female population)', 1),\n",
       " ('Urban population growth (annual %)', 1),\n",
       " ('Population growth (annual %)', 1),\n",
       " ('Contributing family workers, total (% of total employment) (modeled ILO estimate)',\n",
       "  2),\n",
       " ('Contributing family workers, male (% of male employment) (modeled ILO estimate)',\n",
       "  2),\n",
       " ('Employers, total (% of total employment) (modeled ILO estimate)', 2),\n",
       " ('Employers, male (% of male employment) (modeled ILO estimate)', 2),\n",
       " ('Employment in agriculture, male (% of male employment) (modeled ILO estimate)',\n",
       "  2),\n",
       " ('Employment in services, male (% of male employment) (modeled ILO estimate)',\n",
       "  2),\n",
       " ('Employment in services, female (% of female employment) (modeled ILO estimate)',\n",
       "  2),\n",
       " ('Ratio of female to male labor force participation rate (%) (modeled ILO estimate)',\n",
       "  2),\n",
       " ('Population ages 15-64, male (% of male population)', 2),\n",
       " ('Wage and salaried workers, total (% of total employment) (modeled ILO estimate)',\n",
       "  2),\n",
       " ('Wage and salaried workers, male (% of male employment) (modeled ILO estimate)',\n",
       "  2),\n",
       " ('Labor force participation rate, total (% of total population ages 15+) (modeled ILO estimate)',\n",
       "  3),\n",
       " ('Labor force participation rate for ages 15-24, total (%) (modeled ILO estimate)',\n",
       "  3),\n",
       " ('Labor force participation rate, female (% of female population ages 15+) (modeled ILO estimate)',\n",
       "  3),\n",
       " ('Labor force participation rate, female (% of female population ages 15-64) (modeled ILO estimate)',\n",
       "  3),\n",
       " ('Population ages 20-24, female (% of female population)', 3),\n",
       " ('Population ages 45-49, male (% of male population)', 3),\n",
       " ('Survival to age 65, male (% of cohort)', 4),\n",
       " ('Population ages 20-24, male (% of male population)', 4),\n",
       " ('Population ages 40-44, male (% of male population)', 4),\n",
       " ('Labor force, female (% of total labor force)', 4),\n",
       " ('Survival to age 65, female (% of cohort)', 4),\n",
       " ('Unemployment, youth total (% of total labor force ages 15-24) (modeled ILO estimate)',\n",
       "  4),\n",
       " ('Population ages 00-04, male (% of male population)', 5),\n",
       " ('Labor force participation rate for ages 15-24, male (%) (modeled ILO estimate)',\n",
       "  5),\n",
       " ('Population ages 50-54, male (% of male population)', 5),\n",
       " ('Unemployment, youth male (% of male labor force ages 15-24) (modeled ILO estimate)',\n",
       "  5),\n",
       " ('Population ages 55-59, male (% of male population)', 6),\n",
       " ('Vulnerable employment, total (% of total employment) (modeled ILO estimate)',\n",
       "  7),\n",
       " ('Vulnerable employment, male (% of male employment) (modeled ILO estimate)',\n",
       "  7),\n",
       " ('Population ages 65-69, male (% of male population)', 11),\n",
       " ('Population ages 10-14, male (% of male population)', 12),\n",
       " ('Population ages 80 and above, female (% of female population)', 12),\n",
       " ('Population ages 80 and above, male (% of male population)', 13),\n",
       " ('Population ages 15-19, male (% of male population)', 13),\n",
       " ('Population, total', 13),\n",
       " ('Urban population', 14),\n",
       " ('Population ages 75-79, female (% of female population)', 14)]"
      ]
     },
     "execution_count": 15,
     "metadata": {},
     "output_type": "execute_result"
    }
   ],
   "source": [
    "import scipy.stats\n",
    "\n",
    "indicator_corr = wb_data.corr(method=\"pearson\")\n",
    "#indicator_corr\n",
    "#indicator_corr[indicator_corr>0.8]\n",
    "\n",
    "#We build a function that prints all correlated pairs above a certain threshold\n",
    "threshold = 0.85\n",
    "corr_dict = utils.corr_counter(indicator_corr, threshold, verbose=False)\n",
    "\n",
    "corr_dict_sorted = sorted(corr_dict.items(), key=lambda x: x[1], reverse=True) \n",
    "\n",
    "corr_dict_sorted\n",
    "#indicators_sorted_by_corr = sorted(corr_dict, key=corr_dict.get)\n",
    "\n",
    "#TODO ? visualize"
   ]
  },
  {
   "cell_type": "markdown",
   "metadata": {},
   "source": [
    "#Upon further research, we find that instead of removing redundancies"
   ]
  },
  {
   "cell_type": "code",
   "execution_count": 4,
   "metadata": {},
   "outputs": [
    {
     "name": "stderr",
     "output_type": "stream",
     "text": [
      "c:\\Users\\samue\\Documents\\GitHub\\Data-Literacy-project\\src\\ana_utils.py:26: RuntimeWarning: divide by zero encountered in double_scalars\n",
      "  vif = 1/(1 - r_squared)\n",
      "c:\\Users\\samue\\Documents\\GitHub\\Data-Literacy-project\\src\\ana_utils.py:26: RuntimeWarning: divide by zero encountered in double_scalars\n",
      "  vif = 1/(1 - r_squared)\n",
      "c:\\Users\\samue\\Documents\\GitHub\\Data-Literacy-project\\src\\ana_utils.py:26: RuntimeWarning: divide by zero encountered in double_scalars\n",
      "  vif = 1/(1 - r_squared)\n",
      "c:\\Users\\samue\\Documents\\GitHub\\Data-Literacy-project\\src\\ana_utils.py:26: RuntimeWarning: divide by zero encountered in double_scalars\n",
      "  vif = 1/(1 - r_squared)\n",
      "c:\\Users\\samue\\Documents\\GitHub\\Data-Literacy-project\\src\\ana_utils.py:26: RuntimeWarning: divide by zero encountered in double_scalars\n",
      "  vif = 1/(1 - r_squared)\n",
      "c:\\Users\\samue\\Documents\\GitHub\\Data-Literacy-project\\src\\ana_utils.py:26: RuntimeWarning: divide by zero encountered in double_scalars\n",
      "  vif = 1/(1 - r_squared)\n",
      "c:\\Users\\samue\\Documents\\GitHub\\Data-Literacy-project\\src\\ana_utils.py:26: RuntimeWarning: divide by zero encountered in double_scalars\n",
      "  vif = 1/(1 - r_squared)\n",
      "c:\\Users\\samue\\Documents\\GitHub\\Data-Literacy-project\\src\\ana_utils.py:26: RuntimeWarning: divide by zero encountered in double_scalars\n",
      "  vif = 1/(1 - r_squared)\n",
      "c:\\Users\\samue\\Documents\\GitHub\\Data-Literacy-project\\src\\ana_utils.py:26: RuntimeWarning: divide by zero encountered in double_scalars\n",
      "  vif = 1/(1 - r_squared)\n",
      "c:\\Users\\samue\\Documents\\GitHub\\Data-Literacy-project\\src\\ana_utils.py:26: RuntimeWarning: divide by zero encountered in double_scalars\n",
      "  vif = 1/(1 - r_squared)\n",
      "c:\\Users\\samue\\Documents\\GitHub\\Data-Literacy-project\\src\\ana_utils.py:26: RuntimeWarning: divide by zero encountered in double_scalars\n",
      "  vif = 1/(1 - r_squared)\n",
      "c:\\Users\\samue\\Documents\\GitHub\\Data-Literacy-project\\src\\ana_utils.py:26: RuntimeWarning: divide by zero encountered in double_scalars\n",
      "  vif = 1/(1 - r_squared)\n"
     ]
    }
   ],
   "source": [
    "wb_vif = utils.sklearn_vif(wb_data.columns, wb_data)"
   ]
  },
  {
   "cell_type": "code",
   "execution_count": 5,
   "metadata": {},
   "outputs": [
    {
     "data": {
      "text/plain": [
       "(150, 15)"
      ]
     },
     "execution_count": 5,
     "metadata": {},
     "output_type": "execute_result"
    }
   ],
   "source": [
    "cc_indicators = list(wb_vif[\"VIF\"].sort_values()[15:156].index)\n",
    "\n",
    "wb_data_cc = wb_data.drop(columns=cc_indicators)\n",
    "wb_data_cc.shape"
   ]
  },
  {
   "cell_type": "code",
   "execution_count": 6,
   "metadata": {},
   "outputs": [
    {
     "data": {
      "text/html": [
       "<div>\n",
       "<style scoped>\n",
       "    .dataframe tbody tr th:only-of-type {\n",
       "        vertical-align: middle;\n",
       "    }\n",
       "\n",
       "    .dataframe tbody tr th {\n",
       "        vertical-align: top;\n",
       "    }\n",
       "\n",
       "    .dataframe thead th {\n",
       "        text-align: right;\n",
       "    }\n",
       "</style>\n",
       "<table border=\"1\" class=\"dataframe\">\n",
       "  <thead>\n",
       "    <tr style=\"text-align: right;\">\n",
       "      <th></th>\n",
       "      <th>VIF</th>\n",
       "      <th>Tolerance</th>\n",
       "    </tr>\n",
       "  </thead>\n",
       "  <tbody>\n",
       "    <tr>\n",
       "      <th>Access to electricity, urban (% of urban population)</th>\n",
       "      <td>1.7</td>\n",
       "      <td>0.5886</td>\n",
       "    </tr>\n",
       "    <tr>\n",
       "      <th>Adjusted savings: mineral depletion (current US$)</th>\n",
       "      <td>1.2</td>\n",
       "      <td>0.8191</td>\n",
       "    </tr>\n",
       "    <tr>\n",
       "      <th>Incidence of tuberculosis (per 100,000 people)</th>\n",
       "      <td>1.7</td>\n",
       "      <td>0.6015</td>\n",
       "    </tr>\n",
       "    <tr>\n",
       "      <th>Merchandise exports by the reporting economy, residual (% of total merchandise exports)</th>\n",
       "      <td>1.2</td>\n",
       "      <td>0.8213</td>\n",
       "    </tr>\n",
       "    <tr>\n",
       "      <th>Merchandise exports to economies in the Arab World (% of total merchandise exports)</th>\n",
       "      <td>1.2</td>\n",
       "      <td>0.8662</td>\n",
       "    </tr>\n",
       "    <tr>\n",
       "      <th>Merchandise exports to high-income economies (% of total merchandise exports)</th>\n",
       "      <td>1.6</td>\n",
       "      <td>0.6288</td>\n",
       "    </tr>\n",
       "    <tr>\n",
       "      <th>Merchandise exports to low- and middle-income economies in South Asia (% of total merchandise exports)</th>\n",
       "      <td>1.4</td>\n",
       "      <td>0.7248</td>\n",
       "    </tr>\n",
       "    <tr>\n",
       "      <th>Merchandise imports by the reporting economy, residual (% of total merchandise imports)</th>\n",
       "      <td>1.1</td>\n",
       "      <td>0.9125</td>\n",
       "    </tr>\n",
       "    <tr>\n",
       "      <th>Merchandise imports from low- and middle-income economies outside region (% of total merchandise imports)</th>\n",
       "      <td>1.4</td>\n",
       "      <td>0.6996</td>\n",
       "    </tr>\n",
       "    <tr>\n",
       "      <th>Population density (people per sq. km of land area)</th>\n",
       "      <td>1.6</td>\n",
       "      <td>0.6393</td>\n",
       "    </tr>\n",
       "    <tr>\n",
       "      <th>Secondary education, duration (years)</th>\n",
       "      <td>1.2</td>\n",
       "      <td>0.8055</td>\n",
       "    </tr>\n",
       "    <tr>\n",
       "      <th>Secure Internet servers (per 1 million people)</th>\n",
       "      <td>1.3</td>\n",
       "      <td>0.7559</td>\n",
       "    </tr>\n",
       "    <tr>\n",
       "      <th>Sex ratio at birth (male births per female births)</th>\n",
       "      <td>1.7</td>\n",
       "      <td>0.5863</td>\n",
       "    </tr>\n",
       "    <tr>\n",
       "      <th>Statistical performance indicators (SPI): Pillar 1 data use score (scale 0-100)</th>\n",
       "      <td>1.9</td>\n",
       "      <td>0.5363</td>\n",
       "    </tr>\n",
       "    <tr>\n",
       "      <th>Statistical performance indicators (SPI): Pillar 3 data products score  (scale 0-100)</th>\n",
       "      <td>1.8</td>\n",
       "      <td>0.5530</td>\n",
       "    </tr>\n",
       "  </tbody>\n",
       "</table>\n",
       "</div>"
      ],
      "text/plain": [
       "                                                    VIF  Tolerance\n",
       "Access to electricity, urban (% of urban popula...  1.7     0.5886\n",
       "Adjusted savings: mineral depletion (current US$)   1.2     0.8191\n",
       "Incidence of tuberculosis (per 100,000 people)      1.7     0.6015\n",
       "Merchandise exports by the reporting economy, r...  1.2     0.8213\n",
       "Merchandise exports to economies in the Arab Wo...  1.2     0.8662\n",
       "Merchandise exports to high-income economies (%...  1.6     0.6288\n",
       "Merchandise exports to low- and middle-income e...  1.4     0.7248\n",
       "Merchandise imports by the reporting economy, r...  1.1     0.9125\n",
       "Merchandise imports from low- and middle-income...  1.4     0.6996\n",
       "Population density (people per sq. km of land a...  1.6     0.6393\n",
       "Secondary education, duration (years)               1.2     0.8055\n",
       "Secure Internet servers (per 1 million people)      1.3     0.7559\n",
       "Sex ratio at birth (male births per female births)  1.7     0.5863\n",
       "Statistical performance indicators (SPI): Pilla...  1.9     0.5363\n",
       "Statistical performance indicators (SPI): Pilla...  1.8     0.5530"
      ]
     },
     "execution_count": 6,
     "metadata": {},
     "output_type": "execute_result"
    }
   ],
   "source": [
    "utils.sklearn_vif(wb_data_cc.columns, wb_data_cc)"
   ]
  },
  {
   "cell_type": "code",
   "execution_count": 7,
   "metadata": {},
   "outputs": [],
   "source": [
    "# lets remove sex ratio lol\n",
    "wb_data_cc = wb_data_cc.drop(\"Sex ratio at birth (male births per female births)\", axis=1)"
   ]
  },
  {
   "cell_type": "code",
   "execution_count": 8,
   "metadata": {},
   "outputs": [
    {
     "name": "stdout",
     "output_type": "stream",
     "text": [
      "Mean loss: 14.448144518650265\n",
      "The average size of the first ten coefficients: [ 0.0153 -0.0082 -0.     -0.     -0.0029  0.0634 -0.0099  0.0733  0.0773\n",
      " -0.0862]\n"
     ]
    }
   ],
   "source": [
    "# For the full dense indicator data\n",
    "loss_list, mean_loss, coef_list, avg_coefs = utils.n_fold_ceval(2000, wb_data, whr_scores, 30, \"no_scaling\")\n",
    "\n",
    "print(\"Mean loss:\", mean_loss)\n",
    "print(\"The average size of the first ten coefficients:\", avg_coefs[:10])"
   ]
  }
 ],
 "metadata": {
  "kernelspec": {
   "display_name": "Python 3",
   "language": "python",
   "name": "python3"
  },
  "language_info": {
   "codemirror_mode": {
    "name": "ipython",
    "version": 3
   },
   "file_extension": ".py",
   "mimetype": "text/x-python",
   "name": "python",
   "nbconvert_exporter": "python",
   "pygments_lexer": "ipython3",
   "version": "3.8.8"
  }
 },
 "nbformat": 4,
 "nbformat_minor": 4
}
