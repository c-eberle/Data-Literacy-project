{
 "cells": [
  {
   "cell_type": "markdown",
   "id": "9141dd86-506d-48f0-be7e-eedc5239f97b",
   "metadata": {},
   "source": [
    "# Notebook 5: Combining all Previous Approaches\n"
   ]
  },
  {
   "cell_type": "code",
   "execution_count": 1,
   "id": "22d32cd4-7ec4-4a9e-9334-f7892304852f",
   "metadata": {},
   "outputs": [],
   "source": [
    "%matplotlib inline\n",
    "import numpy as np\n",
    "import matplotlib.pyplot as plt\n",
    "import os\n",
    "import tqdm\n",
    "import glob\n",
    "import pandas as pd\n",
    "import sklearn\n",
    "from src import corr_utils as corr_utils\n",
    "from src import ana_utils as ana_utils\n",
    "import collections\n",
    "import scipy.stats\n",
    "\n",
    "\n",
    "#np.set_printoptions(suppress=True)\n",
    "from sklearn.linear_model import LinearRegression\n",
    "\n",
    "np.random.seed(7)"
   ]
  },
  {
   "cell_type": "markdown",
   "id": "cc2d9b8d-53f4-4a59-ab36-52c00604ecb1",
   "metadata": {},
   "source": [
    "Import datasets from Notebook 1"
   ]
  },
  {
   "cell_type": "code",
   "execution_count": 2,
   "id": "52181b51-2b3b-4ce5-a19c-81bc697b8de1",
   "metadata": {},
   "outputs": [],
   "source": [
    "wb_data = pd.read_csv(\"data/wb_data.csv\", index_col=\"Country Name\")\n",
    "wb_data_short = pd.read_csv(\"data/wb_data_short.csv\", index_col=\"Country Name\")\n",
    "whr_data = pd.read_csv(\"data/whr_data.csv\", index_col=\"Country name\")"
   ]
  },
  {
   "cell_type": "markdown",
   "id": "4b3b2ea9-0e1c-46b3-adee-616b2839ca4f",
   "metadata": {},
   "source": [
    "Import reduced datasets from Notebook 3"
   ]
  },
  {
   "cell_type": "code",
   "execution_count": 3,
   "id": "e9155ffb-2fb4-4b8c-8598-ecffa7978a71",
   "metadata": {},
   "outputs": [],
   "source": [
    "wb_data_pear_sorted = pd.read_csv(\"data/wb_data_pear_sorted.csv\").set_index(wb_data.index)\n",
    "wb_data_vif_sorted = pd.read_csv(\"data/wb_data_vif_sorted.csv\").set_index(wb_data.index)"
   ]
  },
  {
   "cell_type": "markdown",
   "id": "189e1def-52f5-404f-9f41-ea9e232210c6",
   "metadata": {},
   "source": [
    "# Least Squares Regression, with normalized data"
   ]
  },
  {
   "cell_type": "markdown",
   "id": "a041bc7d-a8d5-418a-8e31-1a4e86f7a611",
   "metadata": {},
   "source": [
    "### Pearson indicators"
   ]
  },
  {
   "cell_type": "code",
   "execution_count": 4,
   "id": "78ab9abd-3cb7-4ca0-b27a-710e9c4d15a8",
   "metadata": {},
   "outputs": [],
   "source": [
    "least_squares = sklearn.linear_model.LinearRegression()"
   ]
  },
  {
   "cell_type": "code",
   "execution_count": 5,
   "id": "7ff1d2c2-917d-43dd-9f1e-3106d5000482",
   "metadata": {},
   "outputs": [],
   "source": [
    "test_size = 30\n",
    "num_indicator_list = [10, 20, 30, 40, 50, 75, 100, 121]\n",
    "ceval_kwargs = {\"reg_model\" : least_squares, \"n\" : 1000, \"gt\" : whr_data, \"test_size\" : test_size, \"scaling\" : \"normalize\", \"calc_adj_r_squared\" : True}\n",
    "\n",
    "lin_pearson_loss, _ = corr_utils.multi_ceval(num_indicator_list, wb_data_pear_sorted, False, **ceval_kwargs)"
   ]
  },
  {
   "cell_type": "markdown",
   "id": "d135961c-4f22-445f-b9d3-e9c746add1ce",
   "metadata": {},
   "source": [
    "### VIF indicators"
   ]
  },
  {
   "cell_type": "code",
   "execution_count": 6,
   "id": "a36567d5-0fb8-4f9b-8af7-16c7b167e2a8",
   "metadata": {},
   "outputs": [],
   "source": [
    "ceval_kwargs = {\"reg_model\" : least_squares, \"n\" : 1000, \"gt\" : whr_data, \"test_size\" : test_size, \"scaling\" : \"normalize\", \"calc_adj_r_squared\" : True}\n",
    "\n",
    "lin_vif_loss, _ = corr_utils.multi_ceval(num_indicator_list, wb_data_vif_sorted, False, **ceval_kwargs)"
   ]
  },
  {
   "cell_type": "markdown",
   "id": "a2957f55-4f7c-4f78-8c71-dca8e370d716",
   "metadata": {},
   "source": [
    "### Random indicators"
   ]
  },
  {
   "cell_type": "code",
   "execution_count": 14,
   "id": "0d4584d6-508c-420e-a9b9-b7815146400a",
   "metadata": {},
   "outputs": [],
   "source": [
    "#ToDo"
   ]
  },
  {
   "cell_type": "markdown",
   "id": "f982e97d-479f-4c8f-bc23-ee149da18505",
   "metadata": {},
   "source": [
    "### Full set of indicators"
   ]
  },
  {
   "cell_type": "code",
   "execution_count": 7,
   "id": "5c6cb157-0312-400f-aff9-576cc2b89c66",
   "metadata": {},
   "outputs": [],
   "source": [
    "_, lin_full_loss, _, _ = ana_utils.n_fold_ceval(reg_model=least_squares, n=1000, data=wb_data, gt=whr_data, test_size=test_size, scaling=\"normalize\")"
   ]
  },
  {
   "cell_type": "markdown",
   "id": "64dbd1ef-334a-405d-94fc-8c72ce02fcbb",
   "metadata": {},
   "source": [
    "### Manually shortened set of indicators"
   ]
  },
  {
   "cell_type": "code",
   "execution_count": 8,
   "id": "59160d0d-625b-4324-87a4-cb3bcc4f1154",
   "metadata": {},
   "outputs": [],
   "source": [
    "_, lin_short_loss, _, _ = ana_utils.n_fold_ceval(reg_model=least_squares, n=1000, data=wb_data, gt=whr_data, test_size=test_size, scaling=\"normalize\")"
   ]
  },
  {
   "cell_type": "markdown",
   "id": "9165912c-fead-4d60-8ca6-eb166d2760a0",
   "metadata": {},
   "source": [
    "# Ridge Regression, with normalized data"
   ]
  },
  {
   "cell_type": "markdown",
   "id": "29cc53c0-214a-472a-a1c6-18302b324e2e",
   "metadata": {},
   "source": [
    "### Pearson indicators"
   ]
  },
  {
   "cell_type": "code",
   "execution_count": 9,
   "id": "4dd60170-a7ff-4edd-b395-2d11a917dfc1",
   "metadata": {},
   "outputs": [],
   "source": [
    "ridge = sklearn.linear_model.Ridge()"
   ]
  },
  {
   "cell_type": "code",
   "execution_count": 10,
   "id": "d5e01d03-41bd-4d55-9e6d-da5dac873694",
   "metadata": {},
   "outputs": [],
   "source": [
    "test_size = 30\n",
    "num_indicator_list = [10, 20, 30, 40, 50, 75, 100, 121]\n",
    "ceval_kwargs = {\"reg_model\" : ridge, \"n\" : 1000, \"gt\" : whr_data, \"test_size\" : test_size, \"scaling\" : \"normalize\", \"calc_adj_r_squared\" : True}\n",
    "\n",
    "ridge_pearson_loss, _ = corr_utils.multi_ceval(num_indicator_list, wb_data_pear_sorted, False, **ceval_kwargs)"
   ]
  },
  {
   "cell_type": "markdown",
   "id": "562f67a8-20b1-42fc-ac85-c9874ba7051d",
   "metadata": {},
   "source": [
    "### VIF indicators"
   ]
  },
  {
   "cell_type": "code",
   "execution_count": 11,
   "id": "efc0eb9c-aafe-4ea2-bb49-a394eb2887dc",
   "metadata": {},
   "outputs": [],
   "source": [
    "ceval_kwargs = {\"reg_model\" : ridge, \"n\" : 1000, \"gt\" : whr_data, \"test_size\" : test_size, \"scaling\" : \"normalize\", \"calc_adj_r_squared\" : True}\n",
    "\n",
    "ridge_vif_loss, _ = corr_utils.multi_ceval(num_indicator_list, wb_data_vif_sorted, False, **ceval_kwargs)"
   ]
  },
  {
   "cell_type": "markdown",
   "id": "70e86765-f42e-40b6-b158-b298f51a531f",
   "metadata": {},
   "source": [
    "### Random indicators"
   ]
  },
  {
   "cell_type": "code",
   "execution_count": 14,
   "id": "c20b55fc-5da4-4d6a-b16a-c8157b1771b5",
   "metadata": {},
   "outputs": [],
   "source": [
    "#ToDo"
   ]
  },
  {
   "cell_type": "markdown",
   "id": "0ad2a930-9170-42e4-b9d1-35b568974477",
   "metadata": {},
   "source": [
    "### Full set of indicators"
   ]
  },
  {
   "cell_type": "code",
   "execution_count": 12,
   "id": "2b1e1393-6158-43f0-9694-56890b417493",
   "metadata": {},
   "outputs": [],
   "source": [
    "_, ridge_full_loss, _, _ = ana_utils.n_fold_ceval(reg_model=ridge, n=1000, data=wb_data, gt=whr_data, test_size=test_size, scaling=\"normalize\")"
   ]
  },
  {
   "cell_type": "markdown",
   "id": "b982582d-b8d1-4f14-9202-3f4d063e0332",
   "metadata": {},
   "source": [
    "### Manually shortened set of indicators"
   ]
  },
  {
   "cell_type": "code",
   "execution_count": 13,
   "id": "a5214644-b77f-43ab-9648-5f71260b89cc",
   "metadata": {},
   "outputs": [],
   "source": [
    "_, ridge_short_loss, _, _ = ana_utils.n_fold_ceval(reg_model=ridge, n=1000, data=wb_data, gt=whr_data, test_size=test_size, scaling=\"normalize\")"
   ]
  },
  {
   "cell_type": "markdown",
   "id": "f7733100-139d-43bb-ac09-f6f276edd2fc",
   "metadata": {},
   "source": [
    "# Lasso regression"
   ]
  },
  {
   "cell_type": "markdown",
   "id": "145bf261-cebc-4cf3-b35e-aad554dd0e1c",
   "metadata": {},
   "source": [
    "### Pearson indicators"
   ]
  },
  {
   "cell_type": "code",
   "execution_count": 14,
   "id": "340f21a2-28be-4fac-ac12-453763a2685f",
   "metadata": {},
   "outputs": [],
   "source": [
    "lasso = sklearn.linear_model.Lasso(alpha=0.001, max_iter=10_000)"
   ]
  },
  {
   "cell_type": "code",
   "execution_count": 15,
   "id": "815f1a2b-b1bf-4791-acff-5b18aeb0377e",
   "metadata": {},
   "outputs": [],
   "source": [
    "test_size = 30\n",
    "num_indicator_list = [10, 20, 30, 40, 50, 75, 100, 121]\n",
    "ceval_kwargs = {\"reg_model\" : lasso, \"n\" : 1000, \"gt\" : whr_data, \"test_size\" : test_size, \"scaling\" : \"normalize\", \"calc_adj_r_squared\" : True}\n",
    "\n",
    "lasso_pearson_loss, _ = corr_utils.multi_ceval(num_indicator_list, wb_data_pear_sorted, False, **ceval_kwargs)"
   ]
  },
  {
   "cell_type": "markdown",
   "id": "d9dc4933-9d9d-460d-9488-440ce88d2d68",
   "metadata": {},
   "source": [
    "### VIF indicators"
   ]
  },
  {
   "cell_type": "code",
   "execution_count": 16,
   "id": "3b958006-bbad-43c4-9624-936c4b879bf7",
   "metadata": {},
   "outputs": [],
   "source": [
    "ceval_kwargs = {\"reg_model\" : lasso, \"n\" : 1000, \"gt\" : whr_data, \"test_size\" : test_size, \"scaling\" : \"normalize\", \"calc_adj_r_squared\" : True}\n",
    "\n",
    "lasso_vif_loss, _ = corr_utils.multi_ceval(num_indicator_list, wb_data_vif_sorted, False, **ceval_kwargs)"
   ]
  },
  {
   "cell_type": "markdown",
   "id": "e19be074-d942-481f-b681-0d0e480dfe37",
   "metadata": {},
   "source": [
    "### Random indicators"
   ]
  },
  {
   "cell_type": "code",
   "execution_count": 14,
   "id": "9c38d463-edb4-4657-9872-732ae0e2aaf1",
   "metadata": {},
   "outputs": [],
   "source": [
    "#ToDo"
   ]
  },
  {
   "cell_type": "markdown",
   "id": "fb3db97e-0c0f-4ace-aa83-6d823a9c6503",
   "metadata": {},
   "source": [
    "### Full set of indicators"
   ]
  },
  {
   "cell_type": "code",
   "execution_count": 17,
   "id": "dec9efce-c88a-4d45-b696-238b16e99433",
   "metadata": {},
   "outputs": [],
   "source": [
    "_, lasso_full_loss, _, _ = ana_utils.n_fold_ceval(reg_model=lasso, n=1000, data=wb_data, gt=whr_data, test_size=test_size, scaling=\"normalize\")"
   ]
  },
  {
   "cell_type": "markdown",
   "id": "8404c77e-6708-4340-8dc7-56b5533f77e8",
   "metadata": {},
   "source": [
    "### Manually shortened set of indicators"
   ]
  },
  {
   "cell_type": "code",
   "execution_count": 18,
   "id": "458a4376-58a5-4f65-801e-007285e4a8de",
   "metadata": {},
   "outputs": [],
   "source": [
    "_, lasso_short_loss, _, _ = ana_utils.n_fold_ceval(reg_model=lasso, n=1000, data=wb_data, gt=whr_data, test_size=test_size, scaling=\"normalize\")"
   ]
  },
  {
   "cell_type": "markdown",
   "id": "f8408d85-c0f9-463c-bde8-8dad611a936f",
   "metadata": {},
   "source": [
    "# Partial Least Squares"
   ]
  },
  {
   "cell_type": "markdown",
   "id": "1b1a7cf5-ee3f-4f7e-a954-cc763251bf1a",
   "metadata": {},
   "source": [
    "### Pearson indicators"
   ]
  },
  {
   "cell_type": "code",
   "execution_count": 19,
   "id": "3f501bde-951b-4fa9-9bc8-202127952dbf",
   "metadata": {},
   "outputs": [],
   "source": [
    "from sklearn.cross_decomposition import PLSRegression\n",
    "pls = pls = PLSRegression(n_components=3)"
   ]
  },
  {
   "cell_type": "code",
   "execution_count": 20,
   "id": "baae8a58-2c01-4b44-8beb-845982b27e74",
   "metadata": {},
   "outputs": [],
   "source": [
    "test_size = 30\n",
    "num_indicator_list = [10, 20, 30, 40, 50, 75, 100, 121]\n",
    "ceval_kwargs = {\"reg_model\" : pls, \"n\" : 1000, \"gt\" : whr_data, \"test_size\" : test_size, \"scaling\" : \"normalize\", \"calc_adj_r_squared\" : True}\n",
    "\n",
    "pls_pearson_loss, _ = corr_utils.multi_ceval(num_indicator_list, wb_data_pear_sorted, False, **ceval_kwargs)"
   ]
  },
  {
   "cell_type": "markdown",
   "id": "36e3482f-3424-475e-9d05-7dfbd871bfaa",
   "metadata": {},
   "source": [
    "### VIF indicators"
   ]
  },
  {
   "cell_type": "code",
   "execution_count": 21,
   "id": "5e7db973-a3c1-4dde-9d2b-c1c88d7abfea",
   "metadata": {},
   "outputs": [],
   "source": [
    "ceval_kwargs = {\"reg_model\" : pls, \"n\" : 1000, \"gt\" : whr_data, \"test_size\" : test_size, \"scaling\" : \"normalize\", \"calc_adj_r_squared\" : True}\n",
    "\n",
    "pls_vif_loss, _ = corr_utils.multi_ceval(num_indicator_list, wb_data_vif_sorted, False, **ceval_kwargs)"
   ]
  },
  {
   "cell_type": "markdown",
   "id": "e7cc23fd-71bd-454b-afe0-8b8ec36e459a",
   "metadata": {},
   "source": [
    "### Random indicators"
   ]
  },
  {
   "cell_type": "code",
   "execution_count": 14,
   "id": "c22b1a48-a8c2-4ddc-8686-7ca76aae1c58",
   "metadata": {},
   "outputs": [],
   "source": [
    "#ToDo"
   ]
  },
  {
   "cell_type": "markdown",
   "id": "5d1edcc2-8f88-46e3-816f-702c0a7c8f3a",
   "metadata": {},
   "source": [
    "### Full set of indicators"
   ]
  },
  {
   "cell_type": "code",
   "execution_count": 22,
   "id": "4efb549f-6be6-4ef5-9839-01e21ee88007",
   "metadata": {},
   "outputs": [],
   "source": [
    "_, pls_full_loss, _, _ = ana_utils.n_fold_ceval(reg_model=pls, n=1000, data=wb_data, gt=whr_data, test_size=test_size, scaling=\"normalize\")"
   ]
  },
  {
   "cell_type": "markdown",
   "id": "7c520175-38ae-47eb-b72c-b71306804ff5",
   "metadata": {},
   "source": [
    "### Manually shortened set of indicators"
   ]
  },
  {
   "cell_type": "code",
   "execution_count": 23,
   "id": "f620137d-f831-4a73-921e-5bca3cd04e65",
   "metadata": {},
   "outputs": [],
   "source": [
    "_, pls_short_loss, _, _ = ana_utils.n_fold_ceval(reg_model=pls, n=1000, data=wb_data, gt=whr_data, test_size=test_size, scaling=\"normalize\")"
   ]
  },
  {
   "cell_type": "markdown",
   "id": "d7f3d9d1-057a-49b2-9b24-2fa94cd98c2f",
   "metadata": {},
   "source": [
    "# Plotting"
   ]
  },
  {
   "cell_type": "code",
   "execution_count": 61,
   "id": "9c91bcbb-d61e-4fbd-bfaf-f4b91c734d53",
   "metadata": {},
   "outputs": [
    {
     "data": {
      "image/png": "[encoded data removed]",
      "text/plain": [
       "<Figure size 720x504 with 4 Axes>"
      ]
     },
     "metadata": {
      "needs_background": "light"
     },
     "output_type": "display_data"
    }
   ],
   "source": [
    "fig, ax = plt.subplots(2, 2, figsize=(10,7))\n",
    "fig.tight_layout()\n",
    "\n",
    "# Least Squares\n",
    "ax[0,0].errorbar(num_indicator_list, lin_pearson_loss, label = \"Pearson's R reduction\")\n",
    "ax[0,0].errorbar(num_indicator_list, lin_vif_loss, label = \"VIF reduction\", barsabove=True)\n",
    "#ax[0,0].errorbar(num_indicator_list, lin_rand_loss, label = \"Random Reduction\")\n",
    "ax[0,0].plot(120, lin_short_loss,'rx', label=\"Reduction by hand\") \n",
    "ax[0,0].set_title(\"Least Squares\")\n",
    "ax[0,0].legend()\n",
    "\n",
    "# Ridge\n",
    "ax[0,1].errorbar(num_indicator_list, ridge_pearson_loss, label = \"Pearson's R reduction\")\n",
    "ax[0,1].errorbar(num_indicator_list, ridge_vif_loss, label = \"VIF reduction\", barsabove=True)\n",
    "#ax[0,1].errorbar(num_indicator_list, ridge_rand_loss, label = \"Random Reduction\")\n",
    "ax[0,1].plot(120, ridge_short_loss,'rx', label=\"Reduction by hand\") \n",
    "ax[0,1].set_title(\"Ridge\")\n",
    "ax[0,1].legend()\n",
    "\n",
    "# Lasso\n",
    "ax[1,0].errorbar(num_indicator_list, lasso_pearson_loss, label = \"Pearson's R reduction\")\n",
    "ax[1,0].errorbar(num_indicator_list, lasso_vif_loss, label = \"VIF reduction\", barsabove=True)\n",
    "#ax[1,0].errorbar(num_indicator_list, lin_rand_loss, label = \"Random Reduction\")\n",
    "ax[1,0].plot(120, lasso_short_loss,'rx', label=\"Reduction by hand\") \n",
    "ax[1,0].set_title(\"Lasso\")\n",
    "ax[1,0].legend()\n",
    "\n",
    "# Partial Least Squares\n",
    "ax[1,1].errorbar(num_indicator_list, pls_pearson_loss, label = \"Pearson's R reduction\")\n",
    "ax[1,1].errorbar(num_indicator_list, pls_vif_loss, label = \"VIF reduction\", barsabove=True)\n",
    "#ax[1,1].errorbar(num_indicator_list, lin_rand_loss, label = \"Random Reduction\")\n",
    "ax[1,1].plot(120, pls_short_loss,'rx', label=\"Reduction by hand\") \n",
    "ax[1,1].set_title(\"Partial Least Squares\")\n",
    "ax[1,1].legend()\n",
    "\n",
    "\n",
    "plt.show()"
   ]
  }
 ],
 "metadata": {
  "kernelspec": {
   "display_name": "Python 3",
   "language": "python",
   "name": "python3"
  },
  "language_info": {
   "codemirror_mode": {
    "name": "ipython",
    "version": 3
   },
   "file_extension": ".py",
   "mimetype": "text/x-python",
   "name": "python",
   "nbconvert_exporter": "python",
   "pygments_lexer": "ipython3",
   "version": "3.8.10"
  }
 },
 "nbformat": 4,
 "nbformat_minor": 5
}
