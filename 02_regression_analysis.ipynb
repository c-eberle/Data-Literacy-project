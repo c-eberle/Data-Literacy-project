{
 "cells": [
  {
   "cell_type": "markdown",
   "metadata": {},
   "source": [
    "# Notebook 2: Conducting and Evaluating Regression Analysis"
   ]
  },
  {
   "cell_type": "code",
   "execution_count": 22,
   "metadata": {},
   "outputs": [],
   "source": [
    "%matplotlib inline\n",
    "import numpy as np\n",
    "import matplotlib.pyplot as plt\n",
    "import os\n",
    "import tqdm\n",
    "import glob\n",
    "import pandas as pd\n",
    "import sklearn\n",
    "from src import utils\n",
    "\n",
    "np.set_printoptions(suppress=True)\n",
    "from sklearn.linear_model import LinearRegression\n",
    "\n",
    "np.random.seed(2)"
   ]
  },
  {
   "cell_type": "markdown",
   "metadata": {},
   "source": [
    "Import datasets that were preprocessed in Notebook 1"
   ]
  },
  {
   "cell_type": "code",
   "execution_count": 23,
   "metadata": {},
   "outputs": [],
   "source": [
    "wb_data = pd.read_csv(\"data/wb_data.csv\")\n",
    "wb_data_short = pd.read_csv(\"data/wb_data_short.csv\")\n",
    "whr_data = pd.read_csv(\"data/whr_data.csv\")\n",
    "\n",
    "wb_data.index = wb_data[\"Country Name\"]\n",
    "wb_data.drop(columns=[\"Country Name\"], inplace=True)\n",
    "wb_data_short.index = wb_data_short[\"Country Name\"]\n",
    "wb_data_short.drop(columns=[\"Country Name\"], inplace=True)\n",
    "\n",
    "\n",
    "whr_data.index = whr_data[\"Country name\"]\n",
    "whr_data.drop(columns=[\"Country name\"], inplace=True)\n",
    "#whr_data.head(20)\n",
    "\n",
    "# sort by index\n",
    "wb_data.sort_index(inplace=True)\n",
    "wb_data_short.sort_index(inplace=True)\n",
    "whr_data.sort_index(inplace=True)"
   ]
  },
  {
   "cell_type": "code",
   "execution_count": 24,
   "metadata": {},
   "outputs": [
    {
     "name": "stdout",
     "output_type": "stream",
     "text": [
      "True\n"
     ]
    }
   ],
   "source": [
    "# test: are the datasets equal?\n",
    "print(sorted(list(wb_data.index))==sorted(list(whr_data.index)))"
   ]
  },
  {
   "cell_type": "markdown",
   "metadata": {},
   "source": [
    "Standardize world bank data: $\\frac{x-\\mu}{\\sigma}$"
   ]
  },
  {
   "cell_type": "code",
   "execution_count": 25,
   "metadata": {},
   "outputs": [],
   "source": [
    "from sklearn.preprocessing import StandardScaler\n",
    "\n",
    "wb_data_st = wb_data.copy(deep=True)\n",
    "wb_data_short_st = wb_data_short.copy(deep=True)\n",
    "\n",
    "wb_data_st[:] = StandardScaler().fit_transform(wb_data)\n",
    "wb_data_short_st[:] = StandardScaler().fit_transform(wb_data_short)"
   ]
  },
  {
   "cell_type": "code",
   "execution_count": 27,
   "metadata": {},
   "outputs": [
    {
     "name": "stdout",
     "output_type": "stream",
     "text": [
      "True\n"
     ]
    }
   ],
   "source": [
    "# test: are the datasets equal\n",
    "print(sorted(list(wb_data.index))==sorted(list(whr_data.index)))"
   ]
  },
  {
   "cell_type": "code",
   "execution_count": 28,
   "metadata": {},
   "outputs": [],
   "source": [
    "# drop everything but life satisfaction ladder score from whr data\n",
    "whr_scores = whr_data[\"Ladder score\"]"
   ]
  },
  {
   "cell_type": "markdown",
   "metadata": {},
   "source": [
    "## Pearson correlation coefficients\n",
    "Aim: Get the correlation coefficient of each indicator with the whr_data"
   ]
  },
  {
   "cell_type": "code",
   "execution_count": 29,
   "metadata": {},
   "outputs": [
    {
     "data": {
      "text/plain": [
       "\"\\nfor name, values in indicator_corr.iteritems():\\n    print()\\n    print('\\nTarget indicator: ', name)\\n    print('Correlated Indicators:')\\n    for i in range(0, indicator_corr.shape[1]):\\n        if threshold < values[i] < 1:\\n            name = indicator_corr.columns[i]\\n            print('{name}: {value}'.format(name=name, value=values[i]))\\n\""
      ]
     },
     "execution_count": 29,
     "metadata": {},
     "output_type": "execute_result"
    }
   ],
   "source": [
    "import scipy.stats\n",
    "\n",
    "indicator_corr = wb_data_short.corr(method=\"pearson\")\n",
    "indicator_corr\n",
    "indicator_corr[indicator_corr>0.8]\n",
    "\n",
    "threshold = 0.85\n",
    "#utils.print_corr(indicator_corr, threshold)\n",
    "#TODO function that creates pretty colored corr matrix"
   ]
  },
  {
   "cell_type": "markdown",
   "metadata": {},
   "source": [
    "Finding the VIF value for each indicator."
   ]
  },
  {
   "cell_type": "code",
   "execution_count": 30,
   "metadata": {},
   "outputs": [
    {
     "name": "stderr",
     "output_type": "stream",
     "text": [
      "/home/christian/Desktop/Data Literacy/Data-Literacy-project/src/utils.py:25: RuntimeWarning: divide by zero encountered in double_scalars\n",
      "  vif = 1/(1 - r_squared)\n",
      "/home/christian/Desktop/Data Literacy/Data-Literacy-project/src/utils.py:25: RuntimeWarning: divide by zero encountered in double_scalars\n",
      "  vif = 1/(1 - r_squared)\n",
      "/home/christian/Desktop/Data Literacy/Data-Literacy-project/src/utils.py:25: RuntimeWarning: divide by zero encountered in double_scalars\n",
      "  vif = 1/(1 - r_squared)\n",
      "/home/christian/Desktop/Data Literacy/Data-Literacy-project/src/utils.py:25: RuntimeWarning: divide by zero encountered in double_scalars\n",
      "  vif = 1/(1 - r_squared)\n",
      "/home/christian/Desktop/Data Literacy/Data-Literacy-project/src/utils.py:25: RuntimeWarning: divide by zero encountered in double_scalars\n",
      "  vif = 1/(1 - r_squared)\n",
      "/home/christian/Desktop/Data Literacy/Data-Literacy-project/src/utils.py:25: RuntimeWarning: divide by zero encountered in double_scalars\n",
      "  vif = 1/(1 - r_squared)\n",
      "/home/christian/Desktop/Data Literacy/Data-Literacy-project/src/utils.py:25: RuntimeWarning: divide by zero encountered in double_scalars\n",
      "  vif = 1/(1 - r_squared)\n",
      "/home/christian/Desktop/Data Literacy/Data-Literacy-project/src/utils.py:25: RuntimeWarning: divide by zero encountered in double_scalars\n",
      "  vif = 1/(1 - r_squared)\n",
      "/home/christian/Desktop/Data Literacy/Data-Literacy-project/src/utils.py:25: RuntimeWarning: divide by zero encountered in double_scalars\n",
      "  vif = 1/(1 - r_squared)\n",
      "/home/christian/Desktop/Data Literacy/Data-Literacy-project/src/utils.py:25: RuntimeWarning: divide by zero encountered in double_scalars\n",
      "  vif = 1/(1 - r_squared)\n",
      "/home/christian/Desktop/Data Literacy/Data-Literacy-project/src/utils.py:25: RuntimeWarning: divide by zero encountered in double_scalars\n",
      "  vif = 1/(1 - r_squared)\n",
      "/home/christian/Desktop/Data Literacy/Data-Literacy-project/src/utils.py:25: RuntimeWarning: divide by zero encountered in double_scalars\n",
      "  vif = 1/(1 - r_squared)\n"
     ]
    }
   ],
   "source": [
    "wb_vif = utils.sklearn_vif(wb_data.columns, wb_data)"
   ]
  },
  {
   "cell_type": "markdown",
   "metadata": {},
   "source": [
    "Remove indicators that are too strongly correlated "
   ]
  },
  {
   "cell_type": "code",
   "execution_count": 31,
   "metadata": {},
   "outputs": [
    {
     "data": {
      "text/plain": [
       "(150, 15)"
      ]
     },
     "execution_count": 31,
     "metadata": {},
     "output_type": "execute_result"
    }
   ],
   "source": [
    "cc_indicators = list(wb_vif[\"VIF\"].sort_values()[15:156].index)\n",
    "\n",
    "wb_data_cc = wb_data.drop(columns=cc_indicators)\n",
    "wb_data_cc.shape"
   ]
  },
  {
   "cell_type": "code",
   "execution_count": 32,
   "metadata": {},
   "outputs": [],
   "source": [
    "#TODO test whether 2-step reduction makes a differnece!"
   ]
  },
  {
   "cell_type": "code",
   "execution_count": 33,
   "metadata": {
    "scrolled": true
   },
   "outputs": [
    {
     "data": {
      "text/html": [
       "<div>\n",
       "<style scoped>\n",
       "    .dataframe tbody tr th:only-of-type {\n",
       "        vertical-align: middle;\n",
       "    }\n",
       "\n",
       "    .dataframe tbody tr th {\n",
       "        vertical-align: top;\n",
       "    }\n",
       "\n",
       "    .dataframe thead th {\n",
       "        text-align: right;\n",
       "    }\n",
       "</style>\n",
       "<table border=\"1\" class=\"dataframe\">\n",
       "  <thead>\n",
       "    <tr style=\"text-align: right;\">\n",
       "      <th></th>\n",
       "      <th>VIF</th>\n",
       "      <th>Tolerance</th>\n",
       "    </tr>\n",
       "  </thead>\n",
       "  <tbody>\n",
       "    <tr>\n",
       "      <th>Access to electricity, urban (% of urban population)</th>\n",
       "      <td>1.7</td>\n",
       "      <td>0.5886</td>\n",
       "    </tr>\n",
       "    <tr>\n",
       "      <th>Adjusted savings: mineral depletion (current US$)</th>\n",
       "      <td>1.2</td>\n",
       "      <td>0.8191</td>\n",
       "    </tr>\n",
       "    <tr>\n",
       "      <th>Incidence of tuberculosis (per 100,000 people)</th>\n",
       "      <td>1.7</td>\n",
       "      <td>0.6015</td>\n",
       "    </tr>\n",
       "    <tr>\n",
       "      <th>Merchandise exports by the reporting economy, residual (% of total merchandise exports)</th>\n",
       "      <td>1.2</td>\n",
       "      <td>0.8213</td>\n",
       "    </tr>\n",
       "    <tr>\n",
       "      <th>Merchandise exports to economies in the Arab World (% of total merchandise exports)</th>\n",
       "      <td>1.2</td>\n",
       "      <td>0.8662</td>\n",
       "    </tr>\n",
       "    <tr>\n",
       "      <th>Merchandise exports to high-income economies (% of total merchandise exports)</th>\n",
       "      <td>1.6</td>\n",
       "      <td>0.6288</td>\n",
       "    </tr>\n",
       "    <tr>\n",
       "      <th>Merchandise exports to low- and middle-income economies in South Asia (% of total merchandise exports)</th>\n",
       "      <td>1.4</td>\n",
       "      <td>0.7248</td>\n",
       "    </tr>\n",
       "    <tr>\n",
       "      <th>Merchandise imports by the reporting economy, residual (% of total merchandise imports)</th>\n",
       "      <td>1.1</td>\n",
       "      <td>0.9125</td>\n",
       "    </tr>\n",
       "    <tr>\n",
       "      <th>Merchandise imports from low- and middle-income economies outside region (% of total merchandise imports)</th>\n",
       "      <td>1.4</td>\n",
       "      <td>0.6996</td>\n",
       "    </tr>\n",
       "    <tr>\n",
       "      <th>Population density (people per sq. km of land area)</th>\n",
       "      <td>1.6</td>\n",
       "      <td>0.6393</td>\n",
       "    </tr>\n",
       "    <tr>\n",
       "      <th>Secondary education, duration (years)</th>\n",
       "      <td>1.2</td>\n",
       "      <td>0.8055</td>\n",
       "    </tr>\n",
       "    <tr>\n",
       "      <th>Secure Internet servers (per 1 million people)</th>\n",
       "      <td>1.3</td>\n",
       "      <td>0.7559</td>\n",
       "    </tr>\n",
       "    <tr>\n",
       "      <th>Sex ratio at birth (male births per female births)</th>\n",
       "      <td>1.7</td>\n",
       "      <td>0.5863</td>\n",
       "    </tr>\n",
       "    <tr>\n",
       "      <th>Statistical performance indicators (SPI): Pillar 1 data use score (scale 0-100)</th>\n",
       "      <td>1.9</td>\n",
       "      <td>0.5363</td>\n",
       "    </tr>\n",
       "    <tr>\n",
       "      <th>Statistical performance indicators (SPI): Pillar 3 data products score  (scale 0-100)</th>\n",
       "      <td>1.8</td>\n",
       "      <td>0.5530</td>\n",
       "    </tr>\n",
       "  </tbody>\n",
       "</table>\n",
       "</div>"
      ],
      "text/plain": [
       "                                                    VIF  Tolerance\n",
       "Access to electricity, urban (% of urban popula...  1.7     0.5886\n",
       "Adjusted savings: mineral depletion (current US$)   1.2     0.8191\n",
       "Incidence of tuberculosis (per 100,000 people)      1.7     0.6015\n",
       "Merchandise exports by the reporting economy, r...  1.2     0.8213\n",
       "Merchandise exports to economies in the Arab Wo...  1.2     0.8662\n",
       "Merchandise exports to high-income economies (%...  1.6     0.6288\n",
       "Merchandise exports to low- and middle-income e...  1.4     0.7248\n",
       "Merchandise imports by the reporting economy, r...  1.1     0.9125\n",
       "Merchandise imports from low- and middle-income...  1.4     0.6996\n",
       "Population density (people per sq. km of land a...  1.6     0.6393\n",
       "Secondary education, duration (years)               1.2     0.8055\n",
       "Secure Internet servers (per 1 million people)      1.3     0.7559\n",
       "Sex ratio at birth (male births per female births)  1.7     0.5863\n",
       "Statistical performance indicators (SPI): Pilla...  1.9     0.5363\n",
       "Statistical performance indicators (SPI): Pilla...  1.8     0.5530"
      ]
     },
     "execution_count": 33,
     "metadata": {},
     "output_type": "execute_result"
    }
   ],
   "source": [
    "utils.sklearn_vif(wb_data_cc.columns, wb_data_cc)"
   ]
  },
  {
   "cell_type": "code",
   "execution_count": 34,
   "metadata": {},
   "outputs": [],
   "source": [
    "wb_data_cor = wb_data.corr()\n",
    "wb_inv_corr = pd.DataFrame(np.linalg.inv(wb_data_cor.values), index = wb_data_cor.index, columns=wb_data_cor.columns)\n",
    "#wb_inv_corr.diagonals\n",
    "#print_correlations(indicator_corr)"
   ]
  },
  {
   "cell_type": "markdown",
   "metadata": {},
   "source": [
    "## Split data into train and test set"
   ]
  },
  {
   "cell_type": "code",
   "execution_count": 36,
   "metadata": {},
   "outputs": [],
   "source": [
    "test_size = 30\n",
    "train, test, train_gt, test_gt = utils.split_data(wb_data_short_st, whr_scores, test_size)"
   ]
  },
  {
   "cell_type": "code",
   "execution_count": 37,
   "metadata": {},
   "outputs": [
    {
     "name": "stdout",
     "output_type": "stream",
     "text": [
      "(120, 120) (30, 120) (120,) (30,)\n",
      "True\n"
     ]
    }
   ],
   "source": [
    "print(train.shape, test.shape, train_gt.shape, test_gt.shape)\n",
    "print(list(test.index)==list(test_gt.index))"
   ]
  },
  {
   "cell_type": "markdown",
   "metadata": {},
   "source": [
    "## Linear regression"
   ]
  },
  {
   "cell_type": "markdown",
   "metadata": {},
   "source": [
    "Let's see how linear regression performs on wb_data and wb_data_short (redundant indicators removed)."
   ]
  },
  {
   "cell_type": "code",
   "execution_count": 38,
   "metadata": {},
   "outputs": [],
   "source": [
    "# lets remove sex ratio lol\n",
    "wb_data_cc = wb_data_cc.drop(\"Sex ratio at birth (male births per female births)\", axis=1)"
   ]
  },
  {
   "cell_type": "markdown",
   "metadata": {},
   "source": [
    "normalization worsens error from 0.7 to 1.3"
   ]
  },
  {
   "cell_type": "code",
   "execution_count": 39,
   "metadata": {},
   "outputs": [],
   "source": [
    "wb_data_cc_norm = wb_data_cc.copy(deep=True)\n",
    "wb_data_cc_norm[:] = sklearn.preprocessing.normalize(wb_data_cc)\n"
   ]
  },
  {
   "cell_type": "code",
   "execution_count": 40,
   "metadata": {},
   "outputs": [
    {
     "name": "stdout",
     "output_type": "stream",
     "text": [
      "0.7152410658941222\n"
     ]
    }
   ],
   "source": [
    "loss_list, coef_list = utils.n_fold_ceval(1500, wb_data_cc, whr_scores, 30)\n",
    "loss_arr = np.array(loss_list)\n",
    "mean_loss = loss_arr.mean()\n",
    "\n",
    "print(mean_loss)"
   ]
  },
  {
   "cell_type": "code",
   "execution_count": 41,
   "metadata": {},
   "outputs": [
    {
     "data": {
      "text/plain": [
       "Index(['Access to electricity, urban (% of urban population)',\n",
       "       'Adjusted savings: mineral depletion (current US$)',\n",
       "       'Incidence of tuberculosis (per 100,000 people)',\n",
       "       'Merchandise exports by the reporting economy, residual (% of total merchandise exports)',\n",
       "       'Merchandise exports to economies in the Arab World (% of total merchandise exports)',\n",
       "       'Merchandise exports to high-income economies (% of total merchandise exports)',\n",
       "       'Merchandise exports to low- and middle-income economies in South Asia (% of total merchandise exports)',\n",
       "       'Merchandise imports by the reporting economy, residual (% of total merchandise imports)',\n",
       "       'Merchandise imports from low- and middle-income economies outside region (% of total merchandise imports)',\n",
       "       'Population density (people per sq. km of land area)',\n",
       "       'Secondary education, duration (years)',\n",
       "       'Secure Internet servers (per 1 million people)',\n",
       "       'Statistical performance indicators (SPI): Pillar 1 data use score (scale 0-100)',\n",
       "       'Statistical performance indicators (SPI): Pillar 3 data products score  (scale 0-100)'],\n",
       "      dtype='object')"
      ]
     },
     "execution_count": 41,
     "metadata": {},
     "output_type": "execute_result"
    }
   ],
   "source": [
    "avg_coefs = np.around(np.mean(coef_list, axis=0), 2)\n",
    "\n",
    "wb_data_cc.columns\n",
    "#avg_coefs"
   ]
  },
  {
   "cell_type": "code",
   "execution_count": 42,
   "metadata": {},
   "outputs": [
    {
     "data": {
      "text/plain": [
       "-0.0"
      ]
     },
     "execution_count": 42,
     "metadata": {},
     "output_type": "execute_result"
    }
   ],
   "source": [
    "avg_coefs[-12]\n",
    "#avg_coefs"
   ]
  },
  {
   "cell_type": "markdown",
   "metadata": {},
   "source": [
    "For high n, the mse-loss is around 5. We print the first 50 entries of the loss array to check for outliers. It turns out that the variance is quite large and the loss is roughly in a range of [1, 25]"
   ]
  }
 ],
 "metadata": {
  "kernelspec": {
   "display_name": "Python 3",
   "language": "python",
   "name": "python3"
  },
  "language_info": {
   "codemirror_mode": {
    "name": "ipython",
    "version": 3
   },
   "file_extension": ".py",
   "mimetype": "text/x-python",
   "name": "python",
   "nbconvert_exporter": "python",
   "pygments_lexer": "ipython3",
   "version": "3.8.10"
  }
 },
 "nbformat": 4,
 "nbformat_minor": 4
}
