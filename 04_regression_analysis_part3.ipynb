{
 "cells": [
  {
   "cell_type": "markdown",
   "id": "9141dd86-506d-48f0-be7e-eedc5239f97b",
   "metadata": {},
   "source": [
    "# Notebook 4: Ridge and Lasso Regression\n",
    "Since we are dealing with a lot of multicollinearity in our world bank data, we expect Ridge and Lasso regression to perform better than the least squares regression from Notebook 2."
   ]
  },
  {
   "cell_type": "code",
   "execution_count": 14,
   "id": "22d32cd4-7ec4-4a9e-9334-f7892304852f",
   "metadata": {},
   "outputs": [],
   "source": [
    "%matplotlib inline\n",
    "import numpy as np\n",
    "import matplotlib.pyplot as plt\n",
    "import os\n",
    "import tqdm\n",
    "import glob\n",
    "import pandas as pd\n",
    "import sklearn\n",
    "from src import ana_utils as utils\n",
    "\n",
    "from sklearn.linear_model import LinearRegression\n",
    "\n",
    "np.random.seed(7)"
   ]
  },
  {
   "cell_type": "markdown",
   "id": "cc2d9b8d-53f4-4a59-ab36-52c00604ecb1",
   "metadata": {},
   "source": [
    "Import datasets"
   ]
  },
  {
   "cell_type": "code",
   "execution_count": 15,
   "id": "52181b51-2b3b-4ce5-a19c-81bc697b8de1",
   "metadata": {},
   "outputs": [],
   "source": [
    "wb_data = pd.read_csv(\"data/wb_data.csv\", index_col=\"Country Name\")\n",
    "wb_data_short = pd.read_csv(\"data/wb_data_short.csv\", index_col=\"Country Name\")\n",
    "whr_data = pd.read_csv(\"data/whr_data.csv\", index_col=\"Country name\")"
   ]
  },
  {
   "cell_type": "markdown",
   "id": "9165912c-fead-4d60-8ca6-eb166d2760a0",
   "metadata": {},
   "source": [
    "## Ridge Regression\n",
    "@Samu kein Plan was ich geändert habe dass der loss von ridg plötzlich von 0.38 auf 1.25 hoch ist :/"
   ]
  },
  {
   "cell_type": "code",
   "execution_count": 16,
   "id": "4dd60170-a7ff-4edd-b395-2d11a917dfc1",
   "metadata": {},
   "outputs": [],
   "source": [
    "ridge = sklearn.linear_model.Ridge()"
   ]
  },
  {
   "cell_type": "code",
   "execution_count": 21,
   "id": "d5e01d03-41bd-4d55-9e6d-da5dac873694",
   "metadata": {},
   "outputs": [
    {
     "name": "stdout",
     "output_type": "stream",
     "text": [
      "Mean loss (full set of indicators): 1.261922909313333\n",
      "The average size of the first ten coefficients ((full set of indicators)): [0. 0. 0. 0. 0. 0. 0. 0. 0. 0.] \n",
      "\n",
      "Mean loss (reduced set of indicators): 1.259435698506893\n",
      "The average size of the first ten coefficients (reduced set of indicators): [0. 0. 0. 0. 0. 0. 0. 0. 0. 0.]\n"
     ]
    }
   ],
   "source": [
    "test_size = 30\n",
    "# For the full dense indicator data\n",
    "loss_list, mean_loss, coef_list, avg_coefs = utils.n_fold_ceval(5000, wb_data, whr_data, test_size, scaling=\"normalize\", reg_model=lasso)\n",
    "print(\"Mean loss (full set of indicators):\", mean_loss)\n",
    "print(\"The average size of the first ten coefficients ((full set of indicators)):\", avg_coefs[:10], \"\\n\")\n",
    "\n",
    "loss_list, mean_loss, coef_list, avg_coefs = utils.n_fold_ceval(5000, wb_data_short, whr_data, test_size, scaling=\"normalize\", reg_model=lasso)\n",
    "print(\"Mean loss (reduced set of indicators):\", mean_loss)\n",
    "print(\"The average size of the first ten coefficients (reduced set of indicators):\", avg_coefs[:10])"
   ]
  },
  {
   "cell_type": "markdown",
   "id": "f7733100-139d-43bb-ac09-f6f276edd2fc",
   "metadata": {},
   "source": [
    "## Lasso regression"
   ]
  },
  {
   "cell_type": "code",
   "execution_count": 18,
   "id": "340f21a2-28be-4fac-ac12-453763a2685f",
   "metadata": {},
   "outputs": [],
   "source": [
    "lasso = sklearn.linear_model.Lasso()"
   ]
  },
  {
   "cell_type": "code",
   "execution_count": 19,
   "id": "815f1a2b-b1bf-4791-acff-5b18aeb0377e",
   "metadata": {},
   "outputs": [
    {
     "name": "stdout",
     "output_type": "stream",
     "text": [
      "Mean loss (full set of indicators): 1.2572891252122091\n",
      "The average size of the first ten coefficients ((full set of indicators)): [0. 0. 0. 0. 0. 0. 0. 0. 0. 0.] \n",
      "\n",
      "Mean loss (reduced set of indicators): 1.2657338424530944\n",
      "The average size of the first ten coefficients (reduced set of indicators): [0. 0. 0. 0. 0. 0. 0. 0. 0. 0.]\n"
     ]
    }
   ],
   "source": [
    "# For the full dense indicator data\n",
    "loss_list, mean_loss, coef_list, avg_coefs = utils.n_fold_ceval(2000, wb_data, whr_data, test_size, scaling=\"normalize\", reg_model=lasso)\n",
    "print(\"Mean loss (full set of indicators):\", mean_loss)\n",
    "print(\"The average size of the first ten coefficients ((full set of indicators)):\", avg_coefs[:10], \"\\n\")\n",
    "\n",
    "loss_list, mean_loss, coef_list, avg_coefs = utils.n_fold_ceval(2000, wb_data_short, whr_data, test_size, scaling=\"normalize\", reg_model=lasso)\n",
    "print(\"Mean loss (reduced set of indicators):\", mean_loss)\n",
    "print(\"The average size of the first ten coefficients (reduced set of indicators):\", avg_coefs[:10])"
   ]
  }
 ],
 "metadata": {
  "kernelspec": {
   "display_name": "Python 3",
   "language": "python",
   "name": "python3"
  },
  "language_info": {
   "codemirror_mode": {
    "name": "ipython",
    "version": 3
   },
   "file_extension": ".py",
   "mimetype": "text/x-python",
   "name": "python",
   "nbconvert_exporter": "python",
   "pygments_lexer": "ipython3",
   "version": "3.8.10"
  }
 },
 "nbformat": 4,
 "nbformat_minor": 5
}
