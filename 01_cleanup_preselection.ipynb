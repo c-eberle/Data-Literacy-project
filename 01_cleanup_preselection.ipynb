{
 "cells": [
  {
   "cell_type": "markdown",
   "id": "fcbc2d10",
   "metadata": {},
   "source": [
    "# Notebook 1: Data Clean-Up and Pre-Selection"
   ]
  },
  {
   "cell_type": "code",
   "execution_count": 207,
   "id": "64b302b0-b67b-40ca-a7f3-eb5d425f5b45",
   "metadata": {},
   "outputs": [],
   "source": [
    "%matplotlib inline\n",
    "import numpy as np\n",
    "import matplotlib.pyplot as plt\n",
    "import os\n",
    "import tqdm\n",
    "import glob\n",
    "import pandas as pd"
   ]
  },
  {
   "cell_type": "markdown",
   "id": "2c42bfe6",
   "metadata": {},
   "source": [
    "# World Bank Development Data"
   ]
  },
  {
   "cell_type": "markdown",
   "id": "451ae47f",
   "metadata": {},
   "source": [
    "Reading in and scouting the data (available from https://databank.worldbank.org/source/world-development-indicators) for the year 2019.\n",
    "\n",
    "Since we do not plan to analyse our data over time, we focus on the year 2019.\n",
    "We choose the year 2019 over the year 2020, because we are not interested in the effect of COVID-19 on happiness but more general correlations. Furthermore, due to COVID-19, the 2020 World Happiness Report (WHR) has a lower sample size. "
   ]
  },
  {
   "cell_type": "code",
   "execution_count": 208,
   "id": "6c01dac7-8dbc-4f96-b778-0862164fa656",
   "metadata": {},
   "outputs": [
    {
     "data": {
      "text/html": [
       "<div>\n",
       "<style scoped>\n",
       "    .dataframe tbody tr th:only-of-type {\n",
       "        vertical-align: middle;\n",
       "    }\n",
       "\n",
       "    .dataframe tbody tr th {\n",
       "        vertical-align: top;\n",
       "    }\n",
       "\n",
       "    .dataframe thead th {\n",
       "        text-align: right;\n",
       "    }\n",
       "</style>\n",
       "<table border=\"1\" class=\"dataframe\">\n",
       "  <thead>\n",
       "    <tr style=\"text-align: right;\">\n",
       "      <th></th>\n",
       "      <th>Country Name</th>\n",
       "      <th>Country Code</th>\n",
       "      <th>Series Name</th>\n",
       "      <th>Series Code</th>\n",
       "      <th>2019 [YR2019]</th>\n",
       "    </tr>\n",
       "  </thead>\n",
       "  <tbody>\n",
       "    <tr>\n",
       "      <th>0</th>\n",
       "      <td>Australia</td>\n",
       "      <td>AUS</td>\n",
       "      <td>Access to electricity (% of population)</td>\n",
       "      <td>EG.ELC.ACCS.ZS</td>\n",
       "      <td>100</td>\n",
       "    </tr>\n",
       "    <tr>\n",
       "      <th>1</th>\n",
       "      <td>Australia</td>\n",
       "      <td>AUS</td>\n",
       "      <td>Adjusted savings: carbon dioxide damage (% of ...</td>\n",
       "      <td>NY.ADJ.DCO2.GN.ZS</td>\n",
       "      <td>1.11294140526482</td>\n",
       "    </tr>\n",
       "    <tr>\n",
       "      <th>2</th>\n",
       "      <td>Australia</td>\n",
       "      <td>AUS</td>\n",
       "      <td>Adolescent fertility rate (births per 1,000 wo...</td>\n",
       "      <td>SP.ADO.TFRT</td>\n",
       "      <td>10.9366</td>\n",
       "    </tr>\n",
       "    <tr>\n",
       "      <th>3</th>\n",
       "      <td>Australia</td>\n",
       "      <td>AUS</td>\n",
       "      <td>Adolescents out of school (% of lower secondar...</td>\n",
       "      <td>SE.SEC.UNER.LO.ZS</td>\n",
       "      <td>1.97146999835968</td>\n",
       "    </tr>\n",
       "    <tr>\n",
       "      <th>4</th>\n",
       "      <td>Australia</td>\n",
       "      <td>AUS</td>\n",
       "      <td>Adolescents out of school, female (% of female...</td>\n",
       "      <td>SE.SEC.UNER.LO.FE.ZS</td>\n",
       "      <td>2.19272994995117</td>\n",
       "    </tr>\n",
       "  </tbody>\n",
       "</table>\n",
       "</div>"
      ],
      "text/plain": [
       "  Country Name Country Code  \\\n",
       "0    Australia          AUS   \n",
       "1    Australia          AUS   \n",
       "2    Australia          AUS   \n",
       "3    Australia          AUS   \n",
       "4    Australia          AUS   \n",
       "\n",
       "                                         Series Name           Series Code  \\\n",
       "0            Access to electricity (% of population)        EG.ELC.ACCS.ZS   \n",
       "1  Adjusted savings: carbon dioxide damage (% of ...     NY.ADJ.DCO2.GN.ZS   \n",
       "2  Adolescent fertility rate (births per 1,000 wo...           SP.ADO.TFRT   \n",
       "3  Adolescents out of school (% of lower secondar...     SE.SEC.UNER.LO.ZS   \n",
       "4  Adolescents out of school, female (% of female...  SE.SEC.UNER.LO.FE.ZS   \n",
       "\n",
       "      2019 [YR2019]  \n",
       "0               100  \n",
       "1  1.11294140526482  \n",
       "2           10.9366  \n",
       "3  1.97146999835968  \n",
       "4  2.19272994995117  "
      ]
     },
     "execution_count": 208,
     "metadata": {},
     "output_type": "execute_result"
    }
   ],
   "source": [
    "wb_data = pd.read_csv(\"data/world_bank_data.csv\")\n",
    "wb_data.head()\n",
    "\n",
    "#wb_data.tail()"
   ]
  },
  {
   "cell_type": "markdown",
   "id": "e316ac20",
   "metadata": {},
   "source": [
    "Dropping the last five rows, because they contain only NaN values and Meta-Data, as well as the Series Code and Country Code column, because they are not needed for our analysis."
   ]
  },
  {
   "cell_type": "code",
   "execution_count": 209,
   "id": "30bd2fb2-45dd-4ad3-8edc-10a277b598ca",
   "metadata": {},
   "outputs": [
    {
     "name": "stdout",
     "output_type": "stream",
     "text": [
      "(383843, 5)\n",
      "(383838, 3)\n"
     ]
    }
   ],
   "source": [
    "print(wb_data.shape)\n",
    "\n",
    "wb_data = wb_data.dropna(subset = [\"Series Name\"])\n",
    "wb_data = wb_data.drop(columns=[\"Series Code\",\"Country Code\"])\n",
    "\n",
    "print(wb_data.shape)"
   ]
  },
  {
   "cell_type": "markdown",
   "id": "9de0b493",
   "metadata": {},
   "source": [
    "Reformatting the data such that the development indicators, e.g. *Access to electricity (% of population)*, each get their own column."
   ]
  },
  {
   "cell_type": "code",
   "execution_count": 210,
   "id": "0e834201-e1dc-428e-ac84-d32634b27c21",
   "metadata": {},
   "outputs": [],
   "source": [
    "# combining the development indicators (Series Name) into columns by country\n",
    "wb_data = wb_data.set_index([\"Country Name\", \"Series Name\"], drop=True).unstack(\"Series Name\")\n",
    "\n",
    "# removing the upper level of the multi-index \n",
    "wb_data.columns = wb_data.columns.droplevel(0)\n",
    "\n",
    "# adding a columns with country names for later reformatting purposes\n",
    "wb_data[\"Country Name\"] = wb_data.index"
   ]
  },
  {
   "cell_type": "markdown",
   "id": "9ead86ed",
   "metadata": {},
   "source": [
    "### World Happiness Report 2019"
   ]
  },
  {
   "cell_type": "markdown",
   "id": "85fd99c7",
   "metadata": {},
   "source": [
    "Reading in the World Happiness Report (WHR) Data (available from https://www.kaggle.com/unsdsn/world-happiness)."
   ]
  },
  {
   "cell_type": "code",
   "execution_count": 211,
   "id": "b78ebfbe-0fc9-4b4a-b596-2c1854168780",
   "metadata": {},
   "outputs": [
    {
     "data": {
      "text/plain": [
       "(153, 20)"
      ]
     },
     "execution_count": 211,
     "metadata": {},
     "output_type": "execute_result"
    }
   ],
   "source": [
    "whr_data = pd.read_csv(\"data/whr_2020.csv\")\n",
    "whr_data.shape"
   ]
  },
  {
   "cell_type": "markdown",
   "id": "1f20bf15",
   "metadata": {},
   "source": [
    "Indentifying countries for which we have data from both the World Bank (WB) and World Happiness Report 2019 (WHR)."
   ]
  },
  {
   "cell_type": "code",
   "execution_count": 212,
   "id": "dd4733ef-e5ca-4e66-9c17-9e52a7f73d62",
   "metadata": {
    "scrolled": true
   },
   "outputs": [],
   "source": [
    "whr_countries = list(whr_data[\"Country name\"])\n",
    "wb_countries = list(wb_data[\"Country Name\"])\n",
    "\n",
    "# countries that are listed in both\n",
    "intersect_countries = set(wb_countries).intersection(whr_countries)"
   ]
  },
  {
   "cell_type": "markdown",
   "id": "13e2e600",
   "metadata": {},
   "source": [
    "We suspect that some countries are excluded due to different naming conventions. Hence, we look at the countries that are not in the intersection, but present in the WHR since it contains fewer countries and no global regions (e.g. Western Europe). "
   ]
  },
  {
   "cell_type": "code",
   "execution_count": 213,
   "id": "74913efb",
   "metadata": {},
   "outputs": [
    {
     "name": "stdout",
     "output_type": "stream",
     "text": [
      "{'Iran, Islamic Rep.', 'Sub-Saharan Africa (IDA & IBRD countries)', 'Macedonia', 'Hong Kong S.A.R. of China', 'Channel Islands', 'Northern Mariana Islands', 'Congo (Brazzaville)', 'Kyrgyzstan', 'Sint Maarten (Dutch part)', 'Russian Federation', 'Venezuela, RB', 'Not classified', 'Kyrgyz Republic', 'Middle income', \"Cote d'Ivoire\", 'Middle East & North Africa (IDA & IBRD countries)', 'Guyana', 'French Polynesia', 'St. Martin (French part)', 'Djibouti', 'West Bank and Gaza', 'St. Lucia', 'Dominica', 'Papua New Guinea', 'Middle East & North Africa', 'Liechtenstein', 'Samoa', 'Eritrea', 'Slovak Republic', 'Grenada', 'Seychelles', 'Syrian Arab Republic', 'Europe & Central Asia (IDA & IBRD countries)', 'Timor-Leste', 'East Asia & Pacific (excluding high income)', 'Gibraltar', 'Bhutan', 'Small states', 'Turks and Caicos Islands', 'Angola', 'South Asia (IDA & IBRD)', 'Low & middle income', 'Marshall Islands', 'Micronesia, Fed. Sts.', 'Monaco', 'Oman', 'OECD members', 'North Macedonia', 'Lao PDR', 'Qatar', 'Palestinian Territories', 'Bahamas, The', 'Bermuda', 'IBRD only', 'Pacific island small states', 'Vanuatu', 'Cuba', 'Ivory Coast', 'Venezuela', 'South Asia', 'Europe & Central Asia (excluding high income)', 'Arab World', 'Upper middle income', 'Faroe Islands', 'British Virgin Islands', 'Pre-demographic dividend', 'IDA total', 'St. Vincent and the Grenadines', 'Andorra', 'Other small states', 'Central Europe and the Baltics', 'Puerto Rico', 'Nauru', 'Hong Kong SAR, China', 'Guinea-Bissau', 'IDA blend', 'Brunei Darussalam', 'Fragile and conflict affected situations', 'Palau', 'Taiwan Province of China', 'Congo, Rep.', 'Tuvalu', 'Solomon Islands', \"Korea, Dem. People's Rep.\", 'Congo (Kinshasa)', 'Cabo Verde', 'Post-demographic dividend', 'Swaziland', 'American Samoa', 'Fiji', 'Caribbean small states', 'Congo, Dem. Rep.', 'Gambia, The', 'Iran', 'North Cyprus', 'Barbados', 'Sao Tome and Principe', 'Virgin Islands (U.S.)', 'Lower middle income', 'Tonga', 'Gambia', 'Cayman Islands', 'Macao SAR, China', 'Antigua and Barbuda', 'Guam', 'Latin America & Caribbean', 'Eswatini', 'Egypt', 'East Asia & Pacific', 'New Caledonia', 'High income', 'Latin America & Caribbean (excluding high income)', 'Suriname', 'Russia', 'Africa Western and Central', 'IDA & IBRD total', 'St. Kitts and Nevis', 'Laos', 'Slovakia', 'European Union', 'East Asia & Pacific (IDA & IBRD countries)', 'Low income', 'Greenland', 'North America', 'Curacao', 'Latin America & the Caribbean (IDA & IBRD countries)', 'IDA only', 'Sub-Saharan Africa', 'Least developed countries: UN classification', 'Early-demographic dividend', 'Middle East & North Africa (excluding high income)', 'Europe & Central Asia', 'Aruba', 'Sudan', 'Africa Eastern and Southern', 'Heavily indebted poor countries (HIPC)', 'Yemen', 'Korea, Rep.', 'Yemen, Rep.', 'Kiribati', 'Equatorial Guinea', 'Sub-Saharan Africa (excluding high income)', 'Late-demographic dividend', 'Somalia', 'Egypt, Arab Rep.', 'Euro area', 'Belize', 'San Marino', 'Isle of Man', 'South Korea', 'World'} {'Macedonia', 'Hong Kong S.A.R. of China', 'Egypt', 'Congo (Brazzaville)', 'Russia', 'Kyrgyzstan', 'Palestinian Territories', 'Taiwan Province of China', 'Laos', 'Slovakia', 'Congo (Kinshasa)', 'Swaziland', 'Venezuela', 'Ivory Coast', 'Yemen', 'Iran', 'North Cyprus', 'Gambia', 'South Korea'}\n",
      "151 19\n"
     ]
    }
   ],
   "source": [
    "# countries that are either not in the WB or the WHR data\n",
    "xor_countries = set(wb_countries)^set(whr_countries)\n",
    "\n",
    "# countries that are only in the WHR data\n",
    "ex_whr_countries = set(whr_countries).intersection(xor_countries)\n",
    "\n",
    "print(xor_countries, ex_whr_countries)\n",
    "print(len(xor_countries), len(ex_whr_countries))"
   ]
  },
  {
   "cell_type": "markdown",
   "id": "e4d51b3b",
   "metadata": {},
   "source": [
    "We compare this list to the WB data base by hand and find that Taiwan and Cyprus are not present.\n",
    "\n",
    "We also identify 19 country name pairs that refer to the same country. This is due to different naming conventions, official renaming and typos. "
   ]
  },
  {
   "cell_type": "code",
   "execution_count": 214,
   "id": "42c7c015-2828-4ce1-84cf-813f6d8be530",
   "metadata": {},
   "outputs": [],
   "source": [
    "# list of tuples (whr name, wb name)\n",
    "happy_country_list_renamed = [\n",
    "(\"Swaziland\", \"Eswatini\"),\n",
    "(\"Macedonia\", \"North Macedonia\"),\n",
    "(\"Kyrgyzstan\", \"Kyrgyz Republic\"),\n",
    "(\"Yemen\", \"Yemen, Rep.\"),\n",
    "(\"Gambia\", \"Gambia, The\"),\n",
    "(\"Ivory Coast\", \"Cote d'Ivoire\"),\n",
    "(\"Venezuela\", \"Venezuela, RB\"),\n",
    "(\"South Korea\", \"Korea, Rep.\"),\n",
    "(\"Laos\", \"Lao PDR\"),\n",
    "(\"Hong Kong S.A.R. of China\", \"Hong Kong SAR, China\"),\n",
    "(\"Congo (Kinshasa)\", \"Congo, Dem. Rep.\"),\n",
    "(\"Palestinian Territories\", \"West Bank and Gaza\"),\n",
    "(\"Congo (Brazzaville)\", \"Congo, Rep.\"),\n",
    "(\"Iran\", \"Iran, Islamic Rep.\"),\n",
    "(\"Egypt\", \"Egypt, Arab Rep.\"),\n",
    "(\"Russia\", \"Russian Federation\"),\n",
    "(\"Slovakia\", \"Slovak Republic\"),\n",
    "(\"Syria\", \"Syrian Arab Republic\")]"
   ]
  },
  {
   "cell_type": "markdown",
   "id": "4e10b9cc",
   "metadata": {},
   "source": [
    "Since we want to unify the data, we first rename the WHR data. We chose the WB naming conventions, because they are more up-to-date (Macedonia was renamed North Macedonia in 2019). Then we remove Taiwan and Cyprus from the WHR data and use the WHR country list to select the remaining countries in the WB data (i.e. remove the rest)."
   ]
  },
  {
   "cell_type": "code",
   "execution_count": 215,
   "id": "a785eb7d-58f0-480a-b9ec-a11d78c35d7f",
   "metadata": {},
   "outputs": [
    {
     "name": "stdout",
     "output_type": "stream",
     "text": [
      "(151, 1444) (151, 20)\n"
     ]
    }
   ],
   "source": [
    "# renaming the countries in the whr data\n",
    "for happy_name, wb_name in happy_country_list_renamed:\n",
    "    for i in range(0, len(whr_data[\"Country name\"])):\n",
    "        if whr_data.loc[i, \"Country name\"] == happy_name:\n",
    "            whr_data.loc[i, \"Country name\"] = wb_name\n",
    "            \n",
    "# removing Taiwan and Cyprus from the whr_data\n",
    "whr_data.index = whr_data[\"Country name\"]\n",
    "whr_data = whr_data.drop([\"Taiwan Province of China\", \"North Cyprus\"])\n",
    "\n",
    "wb_data = wb_data[wb_data[\"Country Name\"].isin(whr_data[\"Country name\"])]\n",
    "wb_data.index = wb_data[\"Country Name\"]\n",
    "print(wb_data.shape, whr_data.shape)"
   ]
  },
  {
   "cell_type": "markdown",
   "id": "ffdd7a94-49fb-4820-a29f-27235eb4a69d",
   "metadata": {},
   "source": [
    "Additionally, since we are working with incomplete data, we want to indentify the development indicators with the most available data, so we can exclude especially sparse ones. Therefore, we set a sparsity threshold for the number of countries a specific indicator is allowed to lack data for. Indicators that are missing data for more countries than the specified thresholds are removed."
   ]
  },
  {
   "cell_type": "code",
   "execution_count": 216,
   "id": "eb310856",
   "metadata": {},
   "outputs": [],
   "source": [
    "sparsity_threshold = 1 #0, 5, 10\n",
    "delete_columns = []\n",
    "\n",
    "def delete_sparse_countries(df, sparsity_thresh):\n",
    "    \"\"\"\n",
    "    a function that deletes indicators from the data, if they are missing data \n",
    "    from more countries than specified by the sparsity_threshold.\n",
    "    \n",
    "    returns: the dense data\n",
    "    \"\"\"\n",
    "    for i in range(0, len(df.columns)):\n",
    "        num_values = sum(df[df.columns[i]]==\"..\")\n",
    "        if num_values > sparsity_thresh:\n",
    "            delete_columns.append(df.columns[i])\n",
    "            \n",
    "    dense_df = df.drop(columns=delete_columns)\n",
    "    \n",
    "    return dense_df\n",
    "        \n",
    "#wb_data = delete_sparse_countries(wb_data, sparsity_thresh)\n",
    "#print(len(wb_data_dense.columns))"
   ]
  },
  {
   "cell_type": "markdown",
   "id": "3060c1fe",
   "metadata": {},
   "source": [
    "We find that dropping every indicator with more than 1 missing country data point yields 180 countries.\n",
    "Dropping every indicator with more than 0 missing data points on the other hand shrinks the country set to 30.\n",
    "\n",
    "\n",
    "Subsequently, we find that a 100% dense data set - while retaining 156 indicators - is possible given one condition: <br>\n",
    "We have to delete Kosovo."
   ]
  },
  {
   "cell_type": "code",
   "execution_count": 217,
   "id": "1b400545",
   "metadata": {
    "scrolled": true
   },
   "outputs": [
    {
     "name": "stdout",
     "output_type": "stream",
     "text": [
      "Counter({'Kosovo': 126, 'Turkmenistan': 24, 'Lao PDR': 2, 'Venezuela, RB': 1, 'Libya': 1, 'Panama': 1, 'Hong Kong SAR, China': 1})\n",
      "157\n"
     ]
    }
   ],
   "source": [
    "from collections import Counter\n",
    "\n",
    "def count_sparse_countries(df, sparsity_thresh):\n",
    "    \"\"\"\n",
    "    a function that iterates through the indicators and counts a country \n",
    "    if it is the only one without data for a given indicator.\n",
    "    \n",
    "    returns: the occurences\n",
    "    \"\"\"\n",
    "    sparse_countries = []\n",
    "    for i in range(0, len(df.columns)):\n",
    "        num_values = sum(df[df.columns[i]]==\"..\")\n",
    "        if num_values == sparsity_thresh:\n",
    "            sparse_countries.append(list(df[df[df.columns[i]]==\"..\"].index.values))\n",
    "            \n",
    "    # merges the list of lists into single list        \n",
    "    sparse_countries_unified = sum(sparse_countries, [])\n",
    "    \n",
    "    #counts and ouputs occurances of countries\n",
    "    print(Counter(sparse_countries_unified))\n",
    "            \n",
    "count_sparse_countries(wb_data, 1)\n",
    "\n",
    "# delete Kosovo from dataset\n",
    "wb_data.drop(\"Kosovo\", inplace=True)\n",
    "whr_data.drop(\"Kosovo\", inplace=True)\n",
    "\n",
    "# delete all indicators with missing data points\n",
    "wb_data = delete_sparse_countries(wb_data, 0)\n",
    "print(len(wb_data.columns))"
   ]
  },
  {
   "cell_type": "markdown",
   "id": "c79f7427",
   "metadata": {},
   "source": [
    "Lastly, we save the curated data sets to csv-files. "
   ]
  },
  {
   "cell_type": "code",
   "execution_count": 218,
   "id": "79fef591",
   "metadata": {
    "scrolled": true
   },
   "outputs": [
    {
     "data": {
      "text/plain": [
       "['Access to electricity (% of population)',\n",
       " 'Access to electricity, urban (% of urban population)',\n",
       " 'Adjusted savings: energy depletion (current US$)',\n",
       " 'Adjusted savings: mineral depletion (current US$)',\n",
       " 'Adolescent fertility rate (births per 1,000 women ages 15-19)',\n",
       " 'Age dependency ratio (% of working-age population)',\n",
       " 'Age dependency ratio, old (% of working-age population)',\n",
       " 'Age dependency ratio, young (% of working-age population)',\n",
       " 'Birth rate, crude (per 1,000 people)',\n",
       " 'Contributing family workers, female (% of female employment) (modeled ILO estimate)',\n",
       " 'Contributing family workers, male (% of male employment) (modeled ILO estimate)',\n",
       " 'Contributing family workers, total (% of total employment) (modeled ILO estimate)',\n",
       " 'Country Name',\n",
       " 'Death rate, crude (per 1,000 people)',\n",
       " 'Employers, female (% of female employment) (modeled ILO estimate)',\n",
       " 'Employers, male (% of male employment) (modeled ILO estimate)',\n",
       " 'Employers, total (% of total employment) (modeled ILO estimate)',\n",
       " 'Employment in agriculture (% of total employment) (modeled ILO estimate)',\n",
       " 'Employment in agriculture, female (% of female employment) (modeled ILO estimate)',\n",
       " 'Employment in agriculture, male (% of male employment) (modeled ILO estimate)',\n",
       " 'Employment in industry (% of total employment) (modeled ILO estimate)',\n",
       " 'Employment in industry, female (% of female employment) (modeled ILO estimate)',\n",
       " 'Employment in industry, male (% of male employment) (modeled ILO estimate)',\n",
       " 'Employment in services (% of total employment) (modeled ILO estimate)',\n",
       " 'Employment in services, female (% of female employment) (modeled ILO estimate)',\n",
       " 'Employment in services, male (% of male employment) (modeled ILO estimate)',\n",
       " 'Employment to population ratio, 15+, female (%) (modeled ILO estimate)',\n",
       " 'Employment to population ratio, 15+, male (%) (modeled ILO estimate)',\n",
       " 'Employment to population ratio, 15+, total (%) (modeled ILO estimate)',\n",
       " 'Employment to population ratio, ages 15-24, female (%) (modeled ILO estimate)',\n",
       " 'Employment to population ratio, ages 15-24, male (%) (modeled ILO estimate)',\n",
       " 'Employment to population ratio, ages 15-24, total (%) (modeled ILO estimate)',\n",
       " 'Fertility rate, total (births per woman)',\n",
       " 'Incidence of tuberculosis (per 100,000 people)',\n",
       " 'Labor force participation rate for ages 15-24, female (%) (modeled ILO estimate)',\n",
       " 'Labor force participation rate for ages 15-24, male (%) (modeled ILO estimate)',\n",
       " 'Labor force participation rate for ages 15-24, total (%) (modeled ILO estimate)',\n",
       " 'Labor force participation rate, female (% of female population ages 15+) (modeled ILO estimate)',\n",
       " 'Labor force participation rate, female (% of female population ages 15-64) (modeled ILO estimate)',\n",
       " 'Labor force participation rate, male (% of male population ages 15+) (modeled ILO estimate)',\n",
       " 'Labor force participation rate, male (% of male population ages 15-64) (modeled ILO estimate)',\n",
       " 'Labor force participation rate, total (% of total population ages 15+) (modeled ILO estimate)',\n",
       " 'Labor force participation rate, total (% of total population ages 15-64) (modeled ILO estimate)',\n",
       " 'Labor force, female (% of total labor force)',\n",
       " 'Labor force, total',\n",
       " 'Land area (sq. km)',\n",
       " 'Life expectancy at birth, female (years)',\n",
       " 'Life expectancy at birth, male (years)',\n",
       " 'Life expectancy at birth, total (years)',\n",
       " 'Lower secondary school starting age (years)',\n",
       " 'Merchandise exports by the reporting economy (current US$)',\n",
       " 'Merchandise exports by the reporting economy, residual (% of total merchandise exports)',\n",
       " 'Merchandise exports to economies in the Arab World (% of total merchandise exports)',\n",
       " 'Merchandise exports to high-income economies (% of total merchandise exports)',\n",
       " 'Merchandise exports to low- and middle-income economies in East Asia & Pacific (% of total merchandise exports)',\n",
       " 'Merchandise exports to low- and middle-income economies in Europe & Central Asia (% of total merchandise exports)',\n",
       " 'Merchandise exports to low- and middle-income economies in South Asia (% of total merchandise exports)',\n",
       " 'Merchandise exports to low- and middle-income economies outside region (% of total merchandise exports)',\n",
       " 'Merchandise imports by the reporting economy (current US$)',\n",
       " 'Merchandise imports by the reporting economy, residual (% of total merchandise imports)',\n",
       " 'Merchandise imports from high-income economies (% of total merchandise imports)',\n",
       " 'Merchandise imports from low- and middle-income economies in East Asia & Pacific (% of total merchandise imports)',\n",
       " 'Merchandise imports from low- and middle-income economies in Europe & Central Asia (% of total merchandise imports)',\n",
       " 'Merchandise imports from low- and middle-income economies in Latin America & the Caribbean (% of total merchandise imports)',\n",
       " 'Merchandise imports from low- and middle-income economies in South Asia (% of total merchandise imports)',\n",
       " 'Merchandise imports from low- and middle-income economies in Sub-Saharan Africa (% of total merchandise imports)',\n",
       " 'Merchandise imports from low- and middle-income economies outside region (% of total merchandise imports)',\n",
       " 'Population ages 0-14 (% of total population)',\n",
       " 'Population ages 0-14, female',\n",
       " 'Population ages 0-14, female (% of female population)',\n",
       " 'Population ages 0-14, male',\n",
       " 'Population ages 0-14, male (% of male population)',\n",
       " 'Population ages 0-14, total',\n",
       " 'Population ages 00-04, female (% of female population)',\n",
       " 'Population ages 00-04, male (% of male population)',\n",
       " 'Population ages 05-09, female (% of female population)',\n",
       " 'Population ages 05-09, male (% of male population)',\n",
       " 'Population ages 10-14, female (% of female population)',\n",
       " 'Population ages 10-14, male (% of male population)',\n",
       " 'Population ages 15-19, female (% of female population)',\n",
       " 'Population ages 15-19, male (% of male population)',\n",
       " 'Population ages 15-64 (% of total population)',\n",
       " 'Population ages 15-64, female',\n",
       " 'Population ages 15-64, female (% of female population)',\n",
       " 'Population ages 15-64, male',\n",
       " 'Population ages 15-64, male (% of male population)',\n",
       " 'Population ages 15-64, total',\n",
       " 'Population ages 20-24, female (% of female population)',\n",
       " 'Population ages 20-24, male (% of male population)',\n",
       " 'Population ages 25-29, female (% of female population)',\n",
       " 'Population ages 25-29, male (% of male population)',\n",
       " 'Population ages 30-34, female (% of female population)',\n",
       " 'Population ages 30-34, male (% of male population)',\n",
       " 'Population ages 35-39, female (% of female population)',\n",
       " 'Population ages 35-39, male (% of male population)',\n",
       " 'Population ages 40-44, female (% of female population)',\n",
       " 'Population ages 40-44, male (% of male population)',\n",
       " 'Population ages 45-49, female (% of female population)',\n",
       " 'Population ages 45-49, male (% of male population)',\n",
       " 'Population ages 50-54, female (% of female population)',\n",
       " 'Population ages 50-54, male (% of male population)',\n",
       " 'Population ages 55-59, female (% of female population)',\n",
       " 'Population ages 55-59, male (% of male population)',\n",
       " 'Population ages 60-64, female (% of female population)',\n",
       " 'Population ages 60-64, male (% of male population)',\n",
       " 'Population ages 65 and above (% of total population)',\n",
       " 'Population ages 65 and above, female',\n",
       " 'Population ages 65 and above, female (% of female population)',\n",
       " 'Population ages 65 and above, male',\n",
       " 'Population ages 65 and above, male (% of male population)',\n",
       " 'Population ages 65 and above, total',\n",
       " 'Population ages 65-69, female (% of female population)',\n",
       " 'Population ages 65-69, male (% of male population)',\n",
       " 'Population ages 70-74, female (% of female population)',\n",
       " 'Population ages 70-74, male (% of male population)',\n",
       " 'Population ages 75-79, female (% of female population)',\n",
       " 'Population ages 75-79, male (% of male population)',\n",
       " 'Population ages 80 and above, female (% of female population)',\n",
       " 'Population ages 80 and above, male (% of male population)',\n",
       " 'Population density (people per sq. km of land area)',\n",
       " 'Population growth (annual %)',\n",
       " 'Population, female',\n",
       " 'Population, female (% of total population)',\n",
       " 'Population, male',\n",
       " 'Population, male (% of total population)',\n",
       " 'Population, total',\n",
       " 'Primary education, duration (years)',\n",
       " 'Primary school starting age (years)',\n",
       " 'Ratio of female to male labor force participation rate (%) (modeled ILO estimate)',\n",
       " 'Rural population',\n",
       " 'Rural population (% of total population)',\n",
       " 'Secondary education, duration (years)',\n",
       " 'Secure Internet servers',\n",
       " 'Secure Internet servers (per 1 million people)',\n",
       " 'Self-employed, female (% of female employment) (modeled ILO estimate)',\n",
       " 'Self-employed, male (% of male employment) (modeled ILO estimate)',\n",
       " 'Self-employed, total (% of total employment) (modeled ILO estimate)',\n",
       " 'Sex ratio at birth (male births per female births)',\n",
       " 'Statistical performance indicators (SPI): Pillar 1 data use score (scale 0-100)',\n",
       " 'Statistical performance indicators (SPI): Pillar 3 data products score  (scale 0-100)',\n",
       " 'Survival to age 65, female (% of cohort)',\n",
       " 'Survival to age 65, male (% of cohort)',\n",
       " 'Unemployment, female (% of female labor force) (modeled ILO estimate)',\n",
       " 'Unemployment, male (% of male labor force) (modeled ILO estimate)',\n",
       " 'Unemployment, total (% of total labor force) (modeled ILO estimate)',\n",
       " 'Unemployment, youth female (% of female labor force ages 15-24) (modeled ILO estimate)',\n",
       " 'Unemployment, youth male (% of male labor force ages 15-24) (modeled ILO estimate)',\n",
       " 'Unemployment, youth total (% of total labor force ages 15-24) (modeled ILO estimate)',\n",
       " 'Urban population',\n",
       " 'Urban population (% of total population)',\n",
       " 'Urban population growth (annual %)',\n",
       " 'Vulnerable employment, female (% of female employment) (modeled ILO estimate)',\n",
       " 'Vulnerable employment, male (% of male employment) (modeled ILO estimate)',\n",
       " 'Vulnerable employment, total (% of total employment) (modeled ILO estimate)',\n",
       " 'Wage and salaried workers, female (% of female employment) (modeled ILO estimate)',\n",
       " 'Wage and salaried workers, male (% of male employment) (modeled ILO estimate)',\n",
       " 'Wage and salaried workers, total (% of total employment) (modeled ILO estimate)']"
      ]
     },
     "execution_count": 218,
     "metadata": {},
     "output_type": "execute_result"
    }
   ],
   "source": [
    "sorted(wb_data.columns)"
   ]
  },
  {
   "cell_type": "code",
   "execution_count": 219,
   "id": "7c918264",
   "metadata": {},
   "outputs": [
    {
     "data": {
      "text/plain": [
       "36"
      ]
     },
     "execution_count": 219,
     "metadata": {},
     "output_type": "execute_result"
    }
   ],
   "source": [
    "redundant_indicators = [\n",
    "    'Age dependency ratio (% of working-age population)',\n",
    "    'Contributing family workers, total (% of total employment) (modeled ILO estimate)',\n",
    "    'Employers, total (% of total employment) (modeled ILO estimate)',\n",
    "    'Employment in agriculture (% of total employment) (modeled ILO estimate)',\n",
    "    'Employment in industry (% of total employment) (modeled ILO estimate)',\n",
    "    'Employment in services (% of total employment) (modeled ILO estimate)',\n",
    "    'Employment to population ratio, 15+, total (%) (modeled ILO estimate)',\n",
    "    'Employment to population ratio, ages 15-24, total (%) (modeled ILO estimate)',\n",
    "    'Labor force participation rate for ages 15-24, total (%) (modeled ILO estimate)',\n",
    "    'Labor force participation rate, female (% of female population ages 15+) (modeled ILO estimate)',\n",
    "    'Labor force participation rate, male (% of male population ages 15+) (modeled ILO estimate)',\n",
    "    'Labor force participation rate, total (% of total population ages 15+) (modeled ILO estimate)',\n",
    "    'Labor force participation rate, total (% of total population ages 15-64) (modeled ILO estimate)',\n",
    "    'Life expectancy at birth, total (years)',\n",
    "    'Population ages 0-14 (% of total population)',\n",
    "    'Population ages 0-14, female',\n",
    "    'Population ages 0-14, male',\n",
    "    'Population ages 0-14, total',\n",
    "    'Population ages 15-64 (% of total population)',\n",
    "    'Population ages 15-64, female',\n",
    "    'Population ages 15-64, male',\n",
    "    'Population ages 15-64, total',\n",
    "    'Population ages 65 and above (% of total population)',\n",
    "    'Population ages 65 and above, female',\n",
    "    'Population ages 65 and above, male',\n",
    "    'Population ages 65 and above, total',\n",
    "    'Population, female',\n",
    "    'Population, male',\n",
    "    'Rural population',\n",
    "    'Secure Internet servers',\n",
    "    'Self-employed, total (% of total employment) (modeled ILO estimate)',\n",
    "    'Unemployment, total (% of total labor force) (modeled ILO estimate)',\n",
    "    'Unemployment, youth total (% of total labor force ages 15-24) (modeled ILO estimate)',\n",
    "    'Urban population',\n",
    "    'Vulnerable employment, total (% of total employment) (modeled ILO estimate)',\n",
    "    'Wage and salaried workers, total (% of total employment) (modeled ILO estimate)'\n",
    "]\n",
    "len(redundant_indicators)"
   ]
  },
  {
   "cell_type": "code",
   "execution_count": 220,
   "id": "4b9f6dcd",
   "metadata": {},
   "outputs": [
    {
     "name": "stdout",
     "output_type": "stream",
     "text": [
      "shape of wb_data:  (150, 157)\n",
      "shape of wb_data_short:  (150, 121)\n"
     ]
    }
   ],
   "source": [
    "wb_data_short = wb_data.drop(labels=redundant_indicators, axis=1)\n",
    "print(\"shape of wb_data: \", wb_data.shape)\n",
    "print(\"shape of wb_data_short: \", wb_data_short.shape)"
   ]
  },
  {
   "cell_type": "code",
   "execution_count": 221,
   "id": "6ac546f8-ced3-41ec-9668-6b8ea6c115df",
   "metadata": {},
   "outputs": [],
   "source": [
    "wb_data.to_csv(\"data/wb_data.csv\")\n",
    "wb_data_short.to_csv(\"data/wb_data_short.csv\")\n",
    "whr_data.to_csv(\"data/whr_data.csv\")"
   ]
  }
 ],
 "metadata": {
  "kernelspec": {
   "display_name": "Python 3",
   "language": "python",
   "name": "python3"
  },
  "language_info": {
   "codemirror_mode": {
    "name": "ipython",
    "version": 3
   },
   "file_extension": ".py",
   "mimetype": "text/x-python",
   "name": "python",
   "nbconvert_exporter": "python",
   "pygments_lexer": "ipython3",
   "version": "3.8.10"
  }
 },
 "nbformat": 4,
 "nbformat_minor": 5
}
