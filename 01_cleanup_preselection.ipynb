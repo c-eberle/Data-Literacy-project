{
 "cells": [
  {
   "cell_type": "markdown",
   "id": "fcbc2d10",
   "metadata": {},
   "source": [
    "# Notebook 1: Data Clean Up and Pre-Selection"
   ]
  },
  {
   "cell_type": "code",
   "execution_count": 158,
   "id": "64b302b0-b67b-40ca-a7f3-eb5d425f5b45",
   "metadata": {},
   "outputs": [],
   "source": [
    "%matplotlib inline\n",
    "import numpy as np\n",
    "import matplotlib.pyplot as plt\n",
    "import os\n",
    "import tqdm\n",
    "import glob\n",
    "import pandas as pd"
   ]
  },
  {
   "cell_type": "markdown",
   "id": "2c42bfe6",
   "metadata": {},
   "source": [
    "# World Bank Development Data"
   ]
  },
  {
   "cell_type": "markdown",
   "id": "451ae47f",
   "metadata": {},
   "source": [
    "Reading in and scouting the data (available from https://databank.worldbank.org/source/world-development-indicators) for the year 2019.\n",
    "\n",
    "Since we do not plan to analyse our data over time, we focus on the year 2019.\n",
    "We choose the year 2019 over the year 2020, because we are not interested in the effect of COVID-19 on happiness but more general correlations. Furthermore, due to COVID-19, the 2020 World Happiness Report (WHR) has a lower sample size. "
   ]
  },
  {
   "cell_type": "code",
   "execution_count": 159,
   "id": "6c01dac7-8dbc-4f96-b778-0862164fa656",
   "metadata": {},
   "outputs": [
    {
     "data": {
      "text/html": [
       "<div>\n",
       "<style scoped>\n",
       "    .dataframe tbody tr th:only-of-type {\n",
       "        vertical-align: middle;\n",
       "    }\n",
       "\n",
       "    .dataframe tbody tr th {\n",
       "        vertical-align: top;\n",
       "    }\n",
       "\n",
       "    .dataframe thead th {\n",
       "        text-align: right;\n",
       "    }\n",
       "</style>\n",
       "<table border=\"1\" class=\"dataframe\">\n",
       "  <thead>\n",
       "    <tr style=\"text-align: right;\">\n",
       "      <th></th>\n",
       "      <th>Country Name</th>\n",
       "      <th>Country Code</th>\n",
       "      <th>Series Name</th>\n",
       "      <th>Series Code</th>\n",
       "      <th>2019 [YR2019]</th>\n",
       "    </tr>\n",
       "  </thead>\n",
       "  <tbody>\n",
       "    <tr>\n",
       "      <th>0</th>\n",
       "      <td>Australia</td>\n",
       "      <td>AUS</td>\n",
       "      <td>Access to electricity (% of population)</td>\n",
       "      <td>EG.ELC.ACCS.ZS</td>\n",
       "      <td>100</td>\n",
       "    </tr>\n",
       "    <tr>\n",
       "      <th>1</th>\n",
       "      <td>Australia</td>\n",
       "      <td>AUS</td>\n",
       "      <td>Adjusted savings: carbon dioxide damage (% of ...</td>\n",
       "      <td>NY.ADJ.DCO2.GN.ZS</td>\n",
       "      <td>1.11294140526482</td>\n",
       "    </tr>\n",
       "    <tr>\n",
       "      <th>2</th>\n",
       "      <td>Australia</td>\n",
       "      <td>AUS</td>\n",
       "      <td>Adolescent fertility rate (births per 1,000 wo...</td>\n",
       "      <td>SP.ADO.TFRT</td>\n",
       "      <td>10.9366</td>\n",
       "    </tr>\n",
       "    <tr>\n",
       "      <th>3</th>\n",
       "      <td>Australia</td>\n",
       "      <td>AUS</td>\n",
       "      <td>Adolescents out of school (% of lower secondar...</td>\n",
       "      <td>SE.SEC.UNER.LO.ZS</td>\n",
       "      <td>1.97146999835968</td>\n",
       "    </tr>\n",
       "    <tr>\n",
       "      <th>4</th>\n",
       "      <td>Australia</td>\n",
       "      <td>AUS</td>\n",
       "      <td>Adolescents out of school, female (% of female...</td>\n",
       "      <td>SE.SEC.UNER.LO.FE.ZS</td>\n",
       "      <td>2.19272994995117</td>\n",
       "    </tr>\n",
       "  </tbody>\n",
       "</table>\n",
       "</div>"
      ],
      "text/plain": [
       "  Country Name Country Code  \\\n",
       "0    Australia          AUS   \n",
       "1    Australia          AUS   \n",
       "2    Australia          AUS   \n",
       "3    Australia          AUS   \n",
       "4    Australia          AUS   \n",
       "\n",
       "                                         Series Name           Series Code  \\\n",
       "0            Access to electricity (% of population)        EG.ELC.ACCS.ZS   \n",
       "1  Adjusted savings: carbon dioxide damage (% of ...     NY.ADJ.DCO2.GN.ZS   \n",
       "2  Adolescent fertility rate (births per 1,000 wo...           SP.ADO.TFRT   \n",
       "3  Adolescents out of school (% of lower secondar...     SE.SEC.UNER.LO.ZS   \n",
       "4  Adolescents out of school, female (% of female...  SE.SEC.UNER.LO.FE.ZS   \n",
       "\n",
       "      2019 [YR2019]  \n",
       "0               100  \n",
       "1  1.11294140526482  \n",
       "2           10.9366  \n",
       "3  1.97146999835968  \n",
       "4  2.19272994995117  "
      ]
     },
     "execution_count": 159,
     "metadata": {},
     "output_type": "execute_result"
    }
   ],
   "source": [
    "wb_data = pd.read_csv(\"data/world_bank_data.csv\")\n",
    "wb_data.head()\n",
    "\n",
    "#wb_data.tail()"
   ]
  },
  {
   "cell_type": "markdown",
   "id": "e316ac20",
   "metadata": {},
   "source": [
    "Dropping the last five rows, because they contain only NaN values and Meta-Data, as well as the Series Code and Country Code column, because they are not needed for our analysis."
   ]
  },
  {
   "cell_type": "code",
   "execution_count": 160,
   "id": "30bd2fb2-45dd-4ad3-8edc-10a277b598ca",
   "metadata": {},
   "outputs": [
    {
     "name": "stdout",
     "output_type": "stream",
     "text": [
      "(383843, 5)\n",
      "(383838, 3)\n"
     ]
    }
   ],
   "source": [
    "print(wb_data.shape)\n",
    "\n",
    "wb_data = wb_data.dropna(subset = [\"Series Name\"])\n",
    "wb_data = wb_data.drop(columns=[\"Series Code\",\"Country Code\"])\n",
    "\n",
    "print(wb_data.shape)"
   ]
  },
  {
   "cell_type": "markdown",
   "id": "9de0b493",
   "metadata": {},
   "source": [
    "Reformatting the data such that the development indicators, e.g. *Access to electricity (% of population)*, each get their own column."
   ]
  },
  {
   "cell_type": "code",
   "execution_count": 161,
   "id": "0e834201-e1dc-428e-ac84-d32634b27c21",
   "metadata": {},
   "outputs": [],
   "source": [
    "# combining the development indicators (Series Name) into columns by country\n",
    "wb_data = wb_data.set_index([\"Country Name\", \"Series Name\"], drop=True).unstack(\"Series Name\")\n",
    "\n",
    "# removing the upper level of the multi-index \n",
    "wb_data.columns = wb_data.columns.droplevel(0)\n",
    "\n",
    "# adding a columns with country names for later reformatting purposes\n",
    "wb_data[\"Country Name\"] = wb_data.index"
   ]
  },
  {
   "cell_type": "markdown",
   "id": "9ead86ed",
   "metadata": {},
   "source": [
    "### World Happiness Report 2019"
   ]
  },
  {
   "cell_type": "markdown",
   "id": "85fd99c7",
   "metadata": {},
   "source": [
    "Reading in the World Happiness Report (WHR) Data (available from https://www.kaggle.com/unsdsn/world-happiness)."
   ]
  },
  {
   "cell_type": "code",
   "execution_count": 162,
   "id": "b78ebfbe-0fc9-4b4a-b596-2c1854168780",
   "metadata": {},
   "outputs": [
    {
     "data": {
      "text/html": [
       "<div>\n",
       "<style scoped>\n",
       "    .dataframe tbody tr th:only-of-type {\n",
       "        vertical-align: middle;\n",
       "    }\n",
       "\n",
       "    .dataframe tbody tr th {\n",
       "        vertical-align: top;\n",
       "    }\n",
       "\n",
       "    .dataframe thead th {\n",
       "        text-align: right;\n",
       "    }\n",
       "</style>\n",
       "<table border=\"1\" class=\"dataframe\">\n",
       "  <thead>\n",
       "    <tr style=\"text-align: right;\">\n",
       "      <th></th>\n",
       "      <th>Country (region)</th>\n",
       "      <th>Ladder</th>\n",
       "      <th>SD of Ladder</th>\n",
       "      <th>Positive affect</th>\n",
       "      <th>Negative affect</th>\n",
       "      <th>Social support</th>\n",
       "      <th>Freedom</th>\n",
       "      <th>Corruption</th>\n",
       "      <th>Generosity</th>\n",
       "      <th>Log of GDP\\nper capita</th>\n",
       "      <th>Healthy life\\nexpectancy</th>\n",
       "    </tr>\n",
       "  </thead>\n",
       "  <tbody>\n",
       "    <tr>\n",
       "      <th>0</th>\n",
       "      <td>Finland</td>\n",
       "      <td>1</td>\n",
       "      <td>4</td>\n",
       "      <td>41.0</td>\n",
       "      <td>10.0</td>\n",
       "      <td>2.0</td>\n",
       "      <td>5.0</td>\n",
       "      <td>4.0</td>\n",
       "      <td>47.0</td>\n",
       "      <td>22.0</td>\n",
       "      <td>27.0</td>\n",
       "    </tr>\n",
       "    <tr>\n",
       "      <th>1</th>\n",
       "      <td>Denmark</td>\n",
       "      <td>2</td>\n",
       "      <td>13</td>\n",
       "      <td>24.0</td>\n",
       "      <td>26.0</td>\n",
       "      <td>4.0</td>\n",
       "      <td>6.0</td>\n",
       "      <td>3.0</td>\n",
       "      <td>22.0</td>\n",
       "      <td>14.0</td>\n",
       "      <td>23.0</td>\n",
       "    </tr>\n",
       "    <tr>\n",
       "      <th>2</th>\n",
       "      <td>Norway</td>\n",
       "      <td>3</td>\n",
       "      <td>8</td>\n",
       "      <td>16.0</td>\n",
       "      <td>29.0</td>\n",
       "      <td>3.0</td>\n",
       "      <td>3.0</td>\n",
       "      <td>8.0</td>\n",
       "      <td>11.0</td>\n",
       "      <td>7.0</td>\n",
       "      <td>12.0</td>\n",
       "    </tr>\n",
       "    <tr>\n",
       "      <th>3</th>\n",
       "      <td>Iceland</td>\n",
       "      <td>4</td>\n",
       "      <td>9</td>\n",
       "      <td>3.0</td>\n",
       "      <td>3.0</td>\n",
       "      <td>1.0</td>\n",
       "      <td>7.0</td>\n",
       "      <td>45.0</td>\n",
       "      <td>3.0</td>\n",
       "      <td>15.0</td>\n",
       "      <td>13.0</td>\n",
       "    </tr>\n",
       "    <tr>\n",
       "      <th>4</th>\n",
       "      <td>Netherlands</td>\n",
       "      <td>5</td>\n",
       "      <td>1</td>\n",
       "      <td>12.0</td>\n",
       "      <td>25.0</td>\n",
       "      <td>15.0</td>\n",
       "      <td>19.0</td>\n",
       "      <td>12.0</td>\n",
       "      <td>7.0</td>\n",
       "      <td>12.0</td>\n",
       "      <td>18.0</td>\n",
       "    </tr>\n",
       "  </tbody>\n",
       "</table>\n",
       "</div>"
      ],
      "text/plain": [
       "  Country (region)  Ladder  SD of Ladder  Positive affect  Negative affect  \\\n",
       "0          Finland       1             4             41.0             10.0   \n",
       "1          Denmark       2            13             24.0             26.0   \n",
       "2           Norway       3             8             16.0             29.0   \n",
       "3          Iceland       4             9              3.0              3.0   \n",
       "4      Netherlands       5             1             12.0             25.0   \n",
       "\n",
       "   Social support  Freedom  Corruption  Generosity  Log of GDP\\nper capita  \\\n",
       "0             2.0      5.0         4.0        47.0                    22.0   \n",
       "1             4.0      6.0         3.0        22.0                    14.0   \n",
       "2             3.0      3.0         8.0        11.0                     7.0   \n",
       "3             1.0      7.0        45.0         3.0                    15.0   \n",
       "4            15.0     19.0        12.0         7.0                    12.0   \n",
       "\n",
       "   Healthy life\\nexpectancy  \n",
       "0                      27.0  \n",
       "1                      23.0  \n",
       "2                      12.0  \n",
       "3                      13.0  \n",
       "4                      18.0  "
      ]
     },
     "execution_count": 162,
     "metadata": {},
     "output_type": "execute_result"
    }
   ],
   "source": [
    "whr_data = pd.read_csv(\"data/world_happiness_report_2019.csv\")\n",
    "whr_data.head()"
   ]
  },
  {
   "cell_type": "markdown",
   "id": "1f20bf15",
   "metadata": {},
   "source": [
    "Indentifying countries for which we have data from both the World Bank (WB) and World Happiness Report 2019 (WHR)."
   ]
  },
  {
   "cell_type": "code",
   "execution_count": 163,
   "id": "dd4733ef-e5ca-4e66-9c17-9e52a7f73d62",
   "metadata": {
    "scrolled": true
   },
   "outputs": [],
   "source": [
    "whr_countries = list(whr_data[\"Country (region)\"])\n",
    "wb_countries = list(wb_data[\"Country Name\"])\n",
    "\n",
    "# countries that are listed in both\n",
    "intersect_countries = set(wb_countries).intersection(whr_countries)"
   ]
  },
  {
   "cell_type": "markdown",
   "id": "13e2e600",
   "metadata": {},
   "source": [
    "We suspect that some countries are excluded due to different naming conventions. Hence, we look at the countries that are not in the intersection, but present in the WHR since it contains fewer countries and no global regions (e.g. Western Europe). "
   ]
  },
  {
   "cell_type": "code",
   "execution_count": 164,
   "id": "74913efb",
   "metadata": {},
   "outputs": [],
   "source": [
    "# countries that are either not in the WB or the WHR data\n",
    "xor_countries = set(wb_countries)^set(whr_countries)\n",
    "\n",
    "# countries that are only in the WHR data\n",
    "ex_whr_countries = set(whr_countries).intersection(xor_countries)"
   ]
  },
  {
   "cell_type": "markdown",
   "id": "e4d51b3b",
   "metadata": {},
   "source": [
    "We compare this list to the WB data base by hand and find that Taiwan and Cyprus are not present.\n",
    "\n",
    "We also identify 19 country name pairs that refer to the same country. This is due to different naming conventions, official renaming and typos. "
   ]
  },
  {
   "cell_type": "code",
   "execution_count": 165,
   "id": "42c7c015-2828-4ce1-84cf-813f6d8be530",
   "metadata": {},
   "outputs": [],
   "source": [
    "# list of tuples (whr name, wb name)\n",
    "happy_country_list_renamed = [\n",
    "(\"Swaziland\", \"Eswatini\"),\n",
    "(\"Macedonia\", \"North Macedonia\"),\n",
    "(\"Kyrgyzstan\", \"Kyrgyz Republic\"),\n",
    "(\"Yemen\", \"Yemen, Rep.\"),\n",
    "(\"Gambia\", \"Gambia, The\"),\n",
    "(\"Ivory Coast\", \"Cote d'Ivoire\"),\n",
    "(\"Venezuela\", \"Venezuela, RB\"),\n",
    "(\"South Korea\", \"Korea, Rep.\"),\n",
    "(\"Laos\", \"Lao PDR\"),\n",
    "(\"Hong Kong\", \"Hong Kong SAR, China\"),\n",
    "(\"Congo (Kinshasa)\", \"Congo, Dem. Rep.\"),\n",
    "(\"Palestinian Territories\", \"West Bank and Gaza\"),\n",
    "(\"Congo (Brazzaville)\", \"Congo, Rep.\"),\n",
    "(\"Iran\", \"Iran, Islamic Rep.\"),\n",
    "(\"Egypt\", \"Egypt, Arab Rep.\"),\n",
    "(\"Russia\", \"Russian Federation\"),\n",
    "(\"Slovakia\", \"Slovak Republic\"),\n",
    "(\"Bosnia and Herzegovina \", \"Bosnia and Herzegovina\"),\n",
    "(\"Syria\", \"Syrian Arab Republic\")]"
   ]
  },
  {
   "cell_type": "markdown",
   "id": "4e10b9cc",
   "metadata": {},
   "source": [
    "Since we want to unify the data, we first rename the WHR data. We chose the WB naming conventions, because they are more up-to-date (Macedonia was renamed North Macedonia in 2019). Then we remove Taiwan and Cyprus from the WHR data and use the WHR country list to select the remaining countries in the WB data (i.e. remove the rest)."
   ]
  },
  {
   "cell_type": "code",
   "execution_count": 166,
   "id": "a785eb7d-58f0-480a-b9ec-a11d78c35d7f",
   "metadata": {},
   "outputs": [],
   "source": [
    "# renaming the countries in the whr data\n",
    "for happy_name, wb_name in happy_country_list_renamed:\n",
    "    for i in range(0, len(whr_data[\"Country (region)\"])):\n",
    "        if whr_data.loc[i, \"Country (region)\"] == happy_name:\n",
    "            whr_data.loc[i, \"Country (region)\"] = wb_name\n",
    "            \n",
    "# removing Taiwan and Cyprus from the whr_data\n",
    "whr_data.index = whr_data[\"Country (region)\"]\n",
    "whr_data = whr_data.drop([\"Taiwan\", \"Cyprus\"])\n",
    "\n",
    "wb_data = wb_data[wb_data[\"Country Name\"].isin(whr_data[\"Country (region)\"])]\n",
    "wb_data.index = wb_data[\"Country Name\"]"
   ]
  },
  {
   "cell_type": "markdown",
   "id": "ffdd7a94-49fb-4820-a29f-27235eb4a69d",
   "metadata": {},
   "source": [
    "Additionally, since we are working with sparse data, we want to indentify the development indicators with the most available data. Therefore we set a sparsity threshold for the number of countries a specific indicator is allowed to lack data for. Indicators that are missing data for more countries than the specified thresholds are removed."
   ]
  },
  {
   "cell_type": "code",
   "execution_count": 167,
   "id": "505e4ee2",
   "metadata": {},
   "outputs": [],
   "source": [
    "sparsity_threshold = 1 #0, 5, 10\n",
    "delete_columns = []\n",
    "\n",
    "def delete_sparse_countries(df, sparsity_thresh):\n",
    "    \"\"\"\n",
    "    deletes indicators from the data, if they are missing data from more\n",
    "    countries than specified by the sparsity_threshold\n",
    "    \n",
    "    returns the dense data\n",
    "    \"\"\"\n",
    "    for i in range(0, len(df.columns)):\n",
    "        num_values = sum(df[df.columns[i]]==\"..\")\n",
    "        if num_values > sparsity_thresh:\n",
    "            delete_columns.append(df.columns[i])\n",
    "            \n",
    "    dense_df = df.drop(columns=delete_columns)\n",
    "    \n",
    "    return dense_df\n",
    "        \n",
    "#wb_data = delete_sparse_countries(wb_data, sparsity_thresh)\n",
    "#print(len(wb_data_dense.columns))"
   ]
  },
  {
   "cell_type": "markdown",
   "id": "2ef50cc5",
   "metadata": {},
   "source": [
    "We find that dropping every indicator with more than 1 missing country data point yields 180 countries.\n",
    "Dropping every indicator with more than 0 missing data points on the other hand shrinks the country set to 30.\n",
    "\n",
    "\n",
    "Subsequently, we find that a 100% dense data set while retaining 156 indicators is possible given one condition: <br>\n",
    "We have to delete Kosovo."
   ]
  },
  {
   "cell_type": "code",
   "execution_count": 168,
   "id": "24fd8abd",
   "metadata": {},
   "outputs": [
    {
     "name": "stdout",
     "output_type": "stream",
     "text": [
      "Counter({'Kosovo': 126, 'Turkmenistan': 18, 'Lao PDR': 2, 'Venezuela, RB': 1, 'Panama': 1, 'Syrian Arab Republic': 1, 'Hong Kong SAR, China': 1})\n",
      "156\n"
     ]
    }
   ],
   "source": [
    "from collections import Counter\n",
    "\n",
    "def get_sparse_countries(df, sparsity_thresh):\n",
    "    \"\"\"\n",
    "    a function that iterates through the indicators and counts a country \n",
    "    if it is the only one without data for a given indicator\n",
    "    \"\"\"\n",
    "    sparse_countries = []\n",
    "    for i in range(0, len(df.columns)):\n",
    "        num_values = sum(df[df.columns[i]]==\"..\")\n",
    "        if num_values == sparsity_thresh:\n",
    "            sparse_countries.append(list(df[df[df.columns[i]]==\"..\"].index.values))\n",
    "            \n",
    "    # merges the list of lists into single list        \n",
    "    sparse_countries_unified = sum(sparse_countries, [])\n",
    "    \n",
    "    #counts and ouputs occurances of countries\n",
    "    print(Counter(sparse_countries_unified))\n",
    "            \n",
    "get_sparse_countries(wb_data, 1)\n",
    "\n",
    "# delete Kosovo from dataset\n",
    "wb_data = wb_data.drop(\"Kosovo\")\n",
    "\n",
    "# delete all indicators with missing data points\n",
    "wb_data = delete_sparse_countries(wb_data, 0)\n",
    "print(len(wb_data_dense.columns))"
   ]
  }
 ],
 "metadata": {
  "kernelspec": {
   "display_name": "Python 3",
   "language": "python",
   "name": "python3"
  },
  "language_info": {
   "codemirror_mode": {
    "name": "ipython",
    "version": 3
   },
   "file_extension": ".py",
   "mimetype": "text/x-python",
   "name": "python",
   "nbconvert_exporter": "python",
   "pygments_lexer": "ipython3",
   "version": "3.8.8"
  }
 },
 "nbformat": 4,
 "nbformat_minor": 5
}
